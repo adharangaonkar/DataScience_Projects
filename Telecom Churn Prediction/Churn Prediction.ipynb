{
 "cells": [
  {
   "cell_type": "markdown",
   "id": "0d5b67dc",
   "metadata": {},
   "source": [
    "# Churn Prediction"
   ]
  },
  {
   "cell_type": "markdown",
   "id": "343d0966",
   "metadata": {},
   "source": [
    "### Customer churn, is the percentage of customers who stop doing business with an entity"
   ]
  },
  {
   "cell_type": "markdown",
   "id": "45617174",
   "metadata": {},
   "source": [
    "Every company wants to increase its revenue and profitability. To do that, while they acquire new customers, they also want to make sure that the existing ones stay with them for a long term. Also, its strategically important to know beforehand whether a set of customers are planning to stop using their services (especially recurring ones like internet, cable, phone etc.). To do that, every company or business creates and tracks customer metrics which are then used to predict their likelihood of churn.\n",
    "\n",
    "Customer Churn for a company occurs when a customer decides to stop using the services of that company. In this project, we will be using the customer data of a telecom sector company based in the US to predict the probability of churn for each of the customer. We will look at the standard practices that are followed in the industry to solve these problems and also go beyond just those techniques. We have chosen the telecom company data for the churn problem as it is a major area of concern for companies in that sector.\n",
    "\n",
    "Once we have built a model, the churn model output can also be used as a warning indicator that some customers are likely to churn. The key drivers that are making the customer more likely to churn can be alleviated and ensure that the customers are actually retained."
   ]
  },
  {
   "cell_type": "code",
   "execution_count": 1,
   "id": "41fd720c",
   "metadata": {},
   "outputs": [],
   "source": [
    "import numpy as np\n",
    "import pandas as pd\n",
    "import os\n",
    "import matplotlib.pyplot as plt\n",
    "import seaborn as sns"
   ]
  },
  {
   "cell_type": "code",
   "execution_count": 2,
   "id": "bbcaf321",
   "metadata": {},
   "outputs": [],
   "source": [
    "#setting the working directory\n",
    "os.chdir('./data/')"
   ]
  },
  {
   "cell_type": "code",
   "execution_count": 3,
   "id": "588d0a9f",
   "metadata": {},
   "outputs": [],
   "source": [
    "#reading the required data files\n",
    "train = pd.read_csv('Telecom_Train.csv')\n",
    "test = pd.read_csv('Telecom_Test.csv')"
   ]
  },
  {
   "cell_type": "markdown",
   "id": "39219147",
   "metadata": {},
   "source": [
    "### Exploratory Data Analysis (EDA)"
   ]
  },
  {
   "cell_type": "markdown",
   "id": "53657265",
   "metadata": {},
   "source": [
    "#### Checking the train to test data ratio"
   ]
  },
  {
   "cell_type": "code",
   "execution_count": 5,
   "id": "193e1b1d",
   "metadata": {},
   "outputs": [
    {
     "data": {
      "text/html": [
       "<div>\n",
       "<style scoped>\n",
       "    .dataframe tbody tr th:only-of-type {\n",
       "        vertical-align: middle;\n",
       "    }\n",
       "\n",
       "    .dataframe tbody tr th {\n",
       "        vertical-align: top;\n",
       "    }\n",
       "\n",
       "    .dataframe thead th {\n",
       "        text-align: right;\n",
       "    }\n",
       "</style>\n",
       "<table border=\"1\" class=\"dataframe\">\n",
       "  <thead>\n",
       "    <tr style=\"text-align: right;\">\n",
       "      <th></th>\n",
       "      <th>Unnamed: 0</th>\n",
       "      <th>state</th>\n",
       "      <th>account_length</th>\n",
       "      <th>area_code</th>\n",
       "      <th>international_plan</th>\n",
       "      <th>voice_mail_plan</th>\n",
       "      <th>number_vmail_messages</th>\n",
       "      <th>total_day_minutes</th>\n",
       "      <th>total_day_calls</th>\n",
       "      <th>total_day_charge</th>\n",
       "      <th>...</th>\n",
       "      <th>total_eve_calls</th>\n",
       "      <th>total_eve_charge</th>\n",
       "      <th>total_night_minutes</th>\n",
       "      <th>total_night_calls</th>\n",
       "      <th>total_night_charge</th>\n",
       "      <th>total_intl_minutes</th>\n",
       "      <th>total_intl_calls</th>\n",
       "      <th>total_intl_charge</th>\n",
       "      <th>number_customer_service_calls</th>\n",
       "      <th>churn</th>\n",
       "    </tr>\n",
       "  </thead>\n",
       "  <tbody>\n",
       "    <tr>\n",
       "      <th>0</th>\n",
       "      <td>1</td>\n",
       "      <td>KS</td>\n",
       "      <td>128</td>\n",
       "      <td>area_code_415</td>\n",
       "      <td>no</td>\n",
       "      <td>yes</td>\n",
       "      <td>25</td>\n",
       "      <td>265.1</td>\n",
       "      <td>110</td>\n",
       "      <td>45.07</td>\n",
       "      <td>...</td>\n",
       "      <td>99</td>\n",
       "      <td>16.78</td>\n",
       "      <td>244.7</td>\n",
       "      <td>91</td>\n",
       "      <td>11.01</td>\n",
       "      <td>10.0</td>\n",
       "      <td>3</td>\n",
       "      <td>2.70</td>\n",
       "      <td>1</td>\n",
       "      <td>no</td>\n",
       "    </tr>\n",
       "    <tr>\n",
       "      <th>1</th>\n",
       "      <td>2</td>\n",
       "      <td>OH</td>\n",
       "      <td>107</td>\n",
       "      <td>area_code_415</td>\n",
       "      <td>no</td>\n",
       "      <td>yes</td>\n",
       "      <td>26</td>\n",
       "      <td>161.6</td>\n",
       "      <td>123</td>\n",
       "      <td>27.47</td>\n",
       "      <td>...</td>\n",
       "      <td>103</td>\n",
       "      <td>16.62</td>\n",
       "      <td>254.4</td>\n",
       "      <td>103</td>\n",
       "      <td>11.45</td>\n",
       "      <td>13.7</td>\n",
       "      <td>3</td>\n",
       "      <td>3.70</td>\n",
       "      <td>1</td>\n",
       "      <td>no</td>\n",
       "    </tr>\n",
       "    <tr>\n",
       "      <th>2</th>\n",
       "      <td>3</td>\n",
       "      <td>NJ</td>\n",
       "      <td>137</td>\n",
       "      <td>area_code_415</td>\n",
       "      <td>no</td>\n",
       "      <td>no</td>\n",
       "      <td>0</td>\n",
       "      <td>243.4</td>\n",
       "      <td>114</td>\n",
       "      <td>41.38</td>\n",
       "      <td>...</td>\n",
       "      <td>110</td>\n",
       "      <td>10.30</td>\n",
       "      <td>162.6</td>\n",
       "      <td>104</td>\n",
       "      <td>7.32</td>\n",
       "      <td>12.2</td>\n",
       "      <td>5</td>\n",
       "      <td>3.29</td>\n",
       "      <td>0</td>\n",
       "      <td>no</td>\n",
       "    </tr>\n",
       "    <tr>\n",
       "      <th>3</th>\n",
       "      <td>4</td>\n",
       "      <td>OH</td>\n",
       "      <td>84</td>\n",
       "      <td>area_code_408</td>\n",
       "      <td>yes</td>\n",
       "      <td>no</td>\n",
       "      <td>0</td>\n",
       "      <td>299.4</td>\n",
       "      <td>71</td>\n",
       "      <td>50.90</td>\n",
       "      <td>...</td>\n",
       "      <td>88</td>\n",
       "      <td>5.26</td>\n",
       "      <td>196.9</td>\n",
       "      <td>89</td>\n",
       "      <td>8.86</td>\n",
       "      <td>6.6</td>\n",
       "      <td>7</td>\n",
       "      <td>1.78</td>\n",
       "      <td>2</td>\n",
       "      <td>no</td>\n",
       "    </tr>\n",
       "    <tr>\n",
       "      <th>4</th>\n",
       "      <td>5</td>\n",
       "      <td>OK</td>\n",
       "      <td>75</td>\n",
       "      <td>area_code_415</td>\n",
       "      <td>yes</td>\n",
       "      <td>no</td>\n",
       "      <td>0</td>\n",
       "      <td>166.7</td>\n",
       "      <td>113</td>\n",
       "      <td>28.34</td>\n",
       "      <td>...</td>\n",
       "      <td>122</td>\n",
       "      <td>12.61</td>\n",
       "      <td>186.9</td>\n",
       "      <td>121</td>\n",
       "      <td>8.41</td>\n",
       "      <td>10.1</td>\n",
       "      <td>3</td>\n",
       "      <td>2.73</td>\n",
       "      <td>3</td>\n",
       "      <td>no</td>\n",
       "    </tr>\n",
       "  </tbody>\n",
       "</table>\n",
       "<p>5 rows × 21 columns</p>\n",
       "</div>"
      ],
      "text/plain": [
       "   Unnamed: 0 state  account_length      area_code international_plan  \\\n",
       "0           1    KS             128  area_code_415                 no   \n",
       "1           2    OH             107  area_code_415                 no   \n",
       "2           3    NJ             137  area_code_415                 no   \n",
       "3           4    OH              84  area_code_408                yes   \n",
       "4           5    OK              75  area_code_415                yes   \n",
       "\n",
       "  voice_mail_plan  number_vmail_messages  total_day_minutes  total_day_calls  \\\n",
       "0             yes                     25              265.1              110   \n",
       "1             yes                     26              161.6              123   \n",
       "2              no                      0              243.4              114   \n",
       "3              no                      0              299.4               71   \n",
       "4              no                      0              166.7              113   \n",
       "\n",
       "   total_day_charge  ...  total_eve_calls  total_eve_charge  \\\n",
       "0             45.07  ...               99             16.78   \n",
       "1             27.47  ...              103             16.62   \n",
       "2             41.38  ...              110             10.30   \n",
       "3             50.90  ...               88              5.26   \n",
       "4             28.34  ...              122             12.61   \n",
       "\n",
       "   total_night_minutes  total_night_calls  total_night_charge  \\\n",
       "0                244.7                 91               11.01   \n",
       "1                254.4                103               11.45   \n",
       "2                162.6                104                7.32   \n",
       "3                196.9                 89                8.86   \n",
       "4                186.9                121                8.41   \n",
       "\n",
       "   total_intl_minutes  total_intl_calls  total_intl_charge  \\\n",
       "0                10.0                 3               2.70   \n",
       "1                13.7                 3               3.70   \n",
       "2                12.2                 5               3.29   \n",
       "3                 6.6                 7               1.78   \n",
       "4                10.1                 3               2.73   \n",
       "\n",
       "   number_customer_service_calls  churn  \n",
       "0                              1     no  \n",
       "1                              1     no  \n",
       "2                              0     no  \n",
       "3                              2     no  \n",
       "4                              3     no  \n",
       "\n",
       "[5 rows x 21 columns]"
      ]
     },
     "execution_count": 5,
     "metadata": {},
     "output_type": "execute_result"
    }
   ],
   "source": [
    "train.head()"
   ]
  },
  {
   "cell_type": "code",
   "execution_count": 6,
   "id": "01b5387b",
   "metadata": {},
   "outputs": [
    {
     "data": {
      "text/html": [
       "<div>\n",
       "<style scoped>\n",
       "    .dataframe tbody tr th:only-of-type {\n",
       "        vertical-align: middle;\n",
       "    }\n",
       "\n",
       "    .dataframe tbody tr th {\n",
       "        vertical-align: top;\n",
       "    }\n",
       "\n",
       "    .dataframe thead th {\n",
       "        text-align: right;\n",
       "    }\n",
       "</style>\n",
       "<table border=\"1\" class=\"dataframe\">\n",
       "  <thead>\n",
       "    <tr style=\"text-align: right;\">\n",
       "      <th></th>\n",
       "      <th>Unnamed: 0</th>\n",
       "      <th>state</th>\n",
       "      <th>account_length</th>\n",
       "      <th>area_code</th>\n",
       "      <th>international_plan</th>\n",
       "      <th>voice_mail_plan</th>\n",
       "      <th>number_vmail_messages</th>\n",
       "      <th>total_day_minutes</th>\n",
       "      <th>total_day_calls</th>\n",
       "      <th>total_day_charge</th>\n",
       "      <th>...</th>\n",
       "      <th>total_eve_calls</th>\n",
       "      <th>total_eve_charge</th>\n",
       "      <th>total_night_minutes</th>\n",
       "      <th>total_night_calls</th>\n",
       "      <th>total_night_charge</th>\n",
       "      <th>total_intl_minutes</th>\n",
       "      <th>total_intl_calls</th>\n",
       "      <th>total_intl_charge</th>\n",
       "      <th>number_customer_service_calls</th>\n",
       "      <th>churn</th>\n",
       "    </tr>\n",
       "  </thead>\n",
       "  <tbody>\n",
       "    <tr>\n",
       "      <th>0</th>\n",
       "      <td>1</td>\n",
       "      <td>HI</td>\n",
       "      <td>101</td>\n",
       "      <td>area_code_510</td>\n",
       "      <td>no</td>\n",
       "      <td>no</td>\n",
       "      <td>0</td>\n",
       "      <td>70.9</td>\n",
       "      <td>123</td>\n",
       "      <td>12.05</td>\n",
       "      <td>...</td>\n",
       "      <td>73</td>\n",
       "      <td>18.01</td>\n",
       "      <td>236.0</td>\n",
       "      <td>73</td>\n",
       "      <td>10.62</td>\n",
       "      <td>10.6</td>\n",
       "      <td>3</td>\n",
       "      <td>2.86</td>\n",
       "      <td>3</td>\n",
       "      <td>no</td>\n",
       "    </tr>\n",
       "    <tr>\n",
       "      <th>1</th>\n",
       "      <td>2</td>\n",
       "      <td>MT</td>\n",
       "      <td>137</td>\n",
       "      <td>area_code_510</td>\n",
       "      <td>no</td>\n",
       "      <td>no</td>\n",
       "      <td>0</td>\n",
       "      <td>223.6</td>\n",
       "      <td>86</td>\n",
       "      <td>38.01</td>\n",
       "      <td>...</td>\n",
       "      <td>139</td>\n",
       "      <td>20.81</td>\n",
       "      <td>94.2</td>\n",
       "      <td>81</td>\n",
       "      <td>4.24</td>\n",
       "      <td>9.5</td>\n",
       "      <td>7</td>\n",
       "      <td>2.57</td>\n",
       "      <td>0</td>\n",
       "      <td>no</td>\n",
       "    </tr>\n",
       "    <tr>\n",
       "      <th>2</th>\n",
       "      <td>3</td>\n",
       "      <td>OH</td>\n",
       "      <td>103</td>\n",
       "      <td>area_code_408</td>\n",
       "      <td>no</td>\n",
       "      <td>yes</td>\n",
       "      <td>29</td>\n",
       "      <td>294.7</td>\n",
       "      <td>95</td>\n",
       "      <td>50.10</td>\n",
       "      <td>...</td>\n",
       "      <td>105</td>\n",
       "      <td>20.17</td>\n",
       "      <td>300.3</td>\n",
       "      <td>127</td>\n",
       "      <td>13.51</td>\n",
       "      <td>13.7</td>\n",
       "      <td>6</td>\n",
       "      <td>3.70</td>\n",
       "      <td>1</td>\n",
       "      <td>no</td>\n",
       "    </tr>\n",
       "    <tr>\n",
       "      <th>3</th>\n",
       "      <td>4</td>\n",
       "      <td>NM</td>\n",
       "      <td>99</td>\n",
       "      <td>area_code_415</td>\n",
       "      <td>no</td>\n",
       "      <td>no</td>\n",
       "      <td>0</td>\n",
       "      <td>216.8</td>\n",
       "      <td>123</td>\n",
       "      <td>36.86</td>\n",
       "      <td>...</td>\n",
       "      <td>88</td>\n",
       "      <td>10.74</td>\n",
       "      <td>220.6</td>\n",
       "      <td>82</td>\n",
       "      <td>9.93</td>\n",
       "      <td>15.7</td>\n",
       "      <td>2</td>\n",
       "      <td>4.24</td>\n",
       "      <td>1</td>\n",
       "      <td>no</td>\n",
       "    </tr>\n",
       "    <tr>\n",
       "      <th>4</th>\n",
       "      <td>5</td>\n",
       "      <td>SC</td>\n",
       "      <td>108</td>\n",
       "      <td>area_code_415</td>\n",
       "      <td>no</td>\n",
       "      <td>no</td>\n",
       "      <td>0</td>\n",
       "      <td>197.4</td>\n",
       "      <td>78</td>\n",
       "      <td>33.56</td>\n",
       "      <td>...</td>\n",
       "      <td>101</td>\n",
       "      <td>10.54</td>\n",
       "      <td>204.5</td>\n",
       "      <td>107</td>\n",
       "      <td>9.20</td>\n",
       "      <td>7.7</td>\n",
       "      <td>4</td>\n",
       "      <td>2.08</td>\n",
       "      <td>2</td>\n",
       "      <td>no</td>\n",
       "    </tr>\n",
       "  </tbody>\n",
       "</table>\n",
       "<p>5 rows × 21 columns</p>\n",
       "</div>"
      ],
      "text/plain": [
       "   Unnamed: 0 state  account_length      area_code international_plan  \\\n",
       "0           1    HI             101  area_code_510                 no   \n",
       "1           2    MT             137  area_code_510                 no   \n",
       "2           3    OH             103  area_code_408                 no   \n",
       "3           4    NM              99  area_code_415                 no   \n",
       "4           5    SC             108  area_code_415                 no   \n",
       "\n",
       "  voice_mail_plan  number_vmail_messages  total_day_minutes  total_day_calls  \\\n",
       "0              no                      0               70.9              123   \n",
       "1              no                      0              223.6               86   \n",
       "2             yes                     29              294.7               95   \n",
       "3              no                      0              216.8              123   \n",
       "4              no                      0              197.4               78   \n",
       "\n",
       "   total_day_charge  ...  total_eve_calls  total_eve_charge  \\\n",
       "0             12.05  ...               73             18.01   \n",
       "1             38.01  ...              139             20.81   \n",
       "2             50.10  ...              105             20.17   \n",
       "3             36.86  ...               88             10.74   \n",
       "4             33.56  ...              101             10.54   \n",
       "\n",
       "   total_night_minutes  total_night_calls  total_night_charge  \\\n",
       "0                236.0                 73               10.62   \n",
       "1                 94.2                 81                4.24   \n",
       "2                300.3                127               13.51   \n",
       "3                220.6                 82                9.93   \n",
       "4                204.5                107                9.20   \n",
       "\n",
       "   total_intl_minutes  total_intl_calls  total_intl_charge  \\\n",
       "0                10.6                 3               2.86   \n",
       "1                 9.5                 7               2.57   \n",
       "2                13.7                 6               3.70   \n",
       "3                15.7                 2               4.24   \n",
       "4                 7.7                 4               2.08   \n",
       "\n",
       "   number_customer_service_calls  churn  \n",
       "0                              3     no  \n",
       "1                              0     no  \n",
       "2                              1     no  \n",
       "3                              1     no  \n",
       "4                              2     no  \n",
       "\n",
       "[5 rows x 21 columns]"
      ]
     },
     "execution_count": 6,
     "metadata": {},
     "output_type": "execute_result"
    }
   ],
   "source": [
    "test.head()"
   ]
  },
  {
   "cell_type": "code",
   "execution_count": 7,
   "id": "8534b4de",
   "metadata": {},
   "outputs": [
    {
     "data": {
      "text/plain": [
       "(1667, 3333)"
      ]
     },
     "execution_count": 7,
     "metadata": {},
     "output_type": "execute_result"
    }
   ],
   "source": [
    "test.shape[0], train.shape[0]"
   ]
  },
  {
   "cell_type": "code",
   "execution_count": 4,
   "id": "85f98e1f",
   "metadata": {},
   "outputs": [
    {
     "data": {
      "text/plain": [
       "0.5001500150015001"
      ]
     },
     "execution_count": 4,
     "metadata": {},
     "output_type": "execute_result"
    }
   ],
   "source": [
    "test.shape[0]/train.shape[0]"
   ]
  },
  {
   "cell_type": "code",
   "execution_count": 8,
   "id": "6e43c922",
   "metadata": {},
   "outputs": [
    {
     "data": {
      "text/plain": [
       "Unnamed: 0                         int64\n",
       "account_length                     int64\n",
       "total_intl_calls                   int64\n",
       "number_vmail_messages              int64\n",
       "total_night_calls                  int64\n",
       "total_day_calls                    int64\n",
       "number_customer_service_calls      int64\n",
       "total_eve_calls                    int64\n",
       "total_intl_charge                float64\n",
       "total_intl_minutes               float64\n",
       "total_night_charge               float64\n",
       "total_night_minutes              float64\n",
       "total_eve_minutes                float64\n",
       "total_day_charge                 float64\n",
       "total_day_minutes                float64\n",
       "total_eve_charge                 float64\n",
       "voice_mail_plan                   object\n",
       "international_plan                object\n",
       "area_code                         object\n",
       "state                             object\n",
       "churn                             object\n",
       "dtype: object"
      ]
     },
     "execution_count": 8,
     "metadata": {},
     "output_type": "execute_result"
    }
   ],
   "source": [
    "train.dtypes.sort_values()"
   ]
  },
  {
   "cell_type": "markdown",
   "id": "098721c4",
   "metadata": {},
   "source": [
    "#### Checking for missing values"
   ]
  },
  {
   "cell_type": "code",
   "execution_count": 9,
   "id": "61a0a3c8",
   "metadata": {},
   "outputs": [
    {
     "data": {
      "text/plain": [
       "Unnamed: 0                       0\n",
       "state                            0\n",
       "account_length                   0\n",
       "area_code                        0\n",
       "international_plan               0\n",
       "voice_mail_plan                  0\n",
       "number_vmail_messages            0\n",
       "total_day_minutes                0\n",
       "total_day_calls                  0\n",
       "total_day_charge                 0\n",
       "total_eve_minutes                0\n",
       "total_eve_calls                  0\n",
       "total_eve_charge                 0\n",
       "total_night_minutes              0\n",
       "total_night_calls                0\n",
       "total_night_charge               0\n",
       "total_intl_minutes               0\n",
       "total_intl_calls                 0\n",
       "total_intl_charge                0\n",
       "number_customer_service_calls    0\n",
       "churn                            0\n",
       "dtype: int64"
      ]
     },
     "execution_count": 9,
     "metadata": {},
     "output_type": "execute_result"
    }
   ],
   "source": [
    "train.isna().sum()"
   ]
  },
  {
   "cell_type": "markdown",
   "id": "7a8da20f",
   "metadata": {},
   "source": [
    "#### Checking for unique values"
   ]
  },
  {
   "cell_type": "code",
   "execution_count": 10,
   "id": "b8d05768",
   "metadata": {},
   "outputs": [
    {
     "data": {
      "text/plain": [
       "churn                               2\n",
       "international_plan                  2\n",
       "voice_mail_plan                     2\n",
       "area_code                           3\n",
       "number_customer_service_calls      10\n",
       "total_intl_calls                   21\n",
       "number_vmail_messages              46\n",
       "state                              51\n",
       "total_day_calls                   119\n",
       "total_night_calls                 120\n",
       "total_eve_calls                   123\n",
       "total_intl_charge                 162\n",
       "total_intl_minutes                162\n",
       "account_length                    212\n",
       "total_night_charge                933\n",
       "total_eve_charge                 1440\n",
       "total_night_minutes              1591\n",
       "total_eve_minutes                1611\n",
       "total_day_minutes                1667\n",
       "total_day_charge                 1667\n",
       "Unnamed: 0                       3333\n",
       "dtype: int64"
      ]
     },
     "execution_count": 10,
     "metadata": {},
     "output_type": "execute_result"
    }
   ],
   "source": [
    "train.nunique().sort_values()"
   ]
  },
  {
   "cell_type": "code",
   "execution_count": 11,
   "id": "f6a5da52",
   "metadata": {},
   "outputs": [],
   "source": [
    "#Creating a function that does all of the above tasks in one go\n",
    "def get_basic_stats(dfname):\n",
    "    print(\"Shape of dataframe is \" + str(dfname.shape))\n",
    "    print(\"Below are datatypes of columns in DF\")\n",
    "    print(dfname.dtypes.sort_values())\n",
    "    print(\"Below are missing values in each column\")\n",
    "    print(dfname.isna().sum().sort_values())\n",
    "    print(\"Below are the number of unique values taken by a column\")\n",
    "    print(dfname.nunique().sort_values())\n",
    "    print(\"Below are some records in DF\")\n",
    "    print(\"Below is distribution of numeric variables\")\n",
    "    print(dfname.describe())\n",
    "    print(dfname.head())"
   ]
  },
  {
   "cell_type": "code",
   "execution_count": 13,
   "id": "36d6a6f6",
   "metadata": {},
   "outputs": [
    {
     "name": "stdout",
     "output_type": "stream",
     "text": [
      "Shape of dataframe is (3333, 21)\n",
      "Below are datatypes of columns in DF\n",
      "Unnamed: 0                         int64\n",
      "account_length                     int64\n",
      "total_intl_calls                   int64\n",
      "number_vmail_messages              int64\n",
      "total_night_calls                  int64\n",
      "total_day_calls                    int64\n",
      "number_customer_service_calls      int64\n",
      "total_eve_calls                    int64\n",
      "total_intl_charge                float64\n",
      "total_intl_minutes               float64\n",
      "total_night_charge               float64\n",
      "total_night_minutes              float64\n",
      "total_eve_minutes                float64\n",
      "total_day_charge                 float64\n",
      "total_day_minutes                float64\n",
      "total_eve_charge                 float64\n",
      "voice_mail_plan                   object\n",
      "international_plan                object\n",
      "area_code                         object\n",
      "state                             object\n",
      "churn                             object\n",
      "dtype: object\n",
      "Below are missing values in each column\n",
      "Unnamed: 0                       0\n",
      "total_intl_charge                0\n",
      "total_intl_calls                 0\n",
      "total_intl_minutes               0\n",
      "total_night_charge               0\n",
      "total_night_calls                0\n",
      "total_night_minutes              0\n",
      "total_eve_charge                 0\n",
      "total_eve_calls                  0\n",
      "number_customer_service_calls    0\n",
      "total_eve_minutes                0\n",
      "total_day_calls                  0\n",
      "total_day_minutes                0\n",
      "number_vmail_messages            0\n",
      "voice_mail_plan                  0\n",
      "international_plan               0\n",
      "area_code                        0\n",
      "account_length                   0\n",
      "state                            0\n",
      "total_day_charge                 0\n",
      "churn                            0\n",
      "dtype: int64\n",
      "Below are the number of unique values taken by a column\n",
      "churn                               2\n",
      "international_plan                  2\n",
      "voice_mail_plan                     2\n",
      "area_code                           3\n",
      "number_customer_service_calls      10\n",
      "total_intl_calls                   21\n",
      "number_vmail_messages              46\n",
      "state                              51\n",
      "total_day_calls                   119\n",
      "total_night_calls                 120\n",
      "total_eve_calls                   123\n",
      "total_intl_charge                 162\n",
      "total_intl_minutes                162\n",
      "account_length                    212\n",
      "total_night_charge                933\n",
      "total_eve_charge                 1440\n",
      "total_night_minutes              1591\n",
      "total_eve_minutes                1611\n",
      "total_day_minutes                1667\n",
      "total_day_charge                 1667\n",
      "Unnamed: 0                       3333\n",
      "dtype: int64\n",
      "Below are some records in DF\n",
      "Below is distribution of numeric variables\n",
      "       Unnamed: 0  account_length  number_vmail_messages  total_day_minutes  \\\n",
      "count  3333.00000     3333.000000            3333.000000        3333.000000   \n",
      "mean   1667.00000      101.064806               8.099010         179.775098   \n",
      "std     962.29855       39.822106              13.688365          54.467389   \n",
      "min       1.00000        1.000000               0.000000           0.000000   \n",
      "25%     834.00000       74.000000               0.000000         143.700000   \n",
      "50%    1667.00000      101.000000               0.000000         179.400000   \n",
      "75%    2500.00000      127.000000              20.000000         216.400000   \n",
      "max    3333.00000      243.000000              51.000000         350.800000   \n",
      "\n",
      "       total_day_calls  total_day_charge  total_eve_minutes  total_eve_calls  \\\n",
      "count      3333.000000       3333.000000        3333.000000      3333.000000   \n",
      "mean        100.435644         30.562307         200.980348       100.114311   \n",
      "std          20.069084          9.259435          50.713844        19.922625   \n",
      "min           0.000000          0.000000           0.000000         0.000000   \n",
      "25%          87.000000         24.430000         166.600000        87.000000   \n",
      "50%         101.000000         30.500000         201.400000       100.000000   \n",
      "75%         114.000000         36.790000         235.300000       114.000000   \n",
      "max         165.000000         59.640000         363.700000       170.000000   \n",
      "\n",
      "       total_eve_charge  total_night_minutes  total_night_calls  \\\n",
      "count       3333.000000          3333.000000        3333.000000   \n",
      "mean          17.083540           200.872037         100.107711   \n",
      "std            4.310668            50.573847          19.568609   \n",
      "min            0.000000            23.200000          33.000000   \n",
      "25%           14.160000           167.000000          87.000000   \n",
      "50%           17.120000           201.200000         100.000000   \n",
      "75%           20.000000           235.300000         113.000000   \n",
      "max           30.910000           395.000000         175.000000   \n",
      "\n",
      "       total_night_charge  total_intl_minutes  total_intl_calls  \\\n",
      "count         3333.000000         3333.000000       3333.000000   \n",
      "mean             9.039325           10.237294          4.479448   \n",
      "std              2.275873            2.791840          2.461214   \n",
      "min              1.040000            0.000000          0.000000   \n",
      "25%              7.520000            8.500000          3.000000   \n",
      "50%              9.050000           10.300000          4.000000   \n",
      "75%             10.590000           12.100000          6.000000   \n",
      "max             17.770000           20.000000         20.000000   \n",
      "\n",
      "       total_intl_charge  number_customer_service_calls  \n",
      "count        3333.000000                    3333.000000  \n",
      "mean            2.764581                       1.562856  \n",
      "std             0.753773                       1.315491  \n",
      "min             0.000000                       0.000000  \n",
      "25%             2.300000                       1.000000  \n",
      "50%             2.780000                       1.000000  \n",
      "75%             3.270000                       2.000000  \n",
      "max             5.400000                       9.000000  \n",
      "   Unnamed: 0 state  account_length      area_code international_plan  \\\n",
      "0           1    KS             128  area_code_415                 no   \n",
      "1           2    OH             107  area_code_415                 no   \n",
      "2           3    NJ             137  area_code_415                 no   \n",
      "3           4    OH              84  area_code_408                yes   \n",
      "4           5    OK              75  area_code_415                yes   \n",
      "\n",
      "  voice_mail_plan  number_vmail_messages  total_day_minutes  total_day_calls  \\\n",
      "0             yes                     25              265.1              110   \n",
      "1             yes                     26              161.6              123   \n",
      "2              no                      0              243.4              114   \n",
      "3              no                      0              299.4               71   \n",
      "4              no                      0              166.7              113   \n",
      "\n",
      "   total_day_charge  ...  total_eve_calls  total_eve_charge  \\\n",
      "0             45.07  ...               99             16.78   \n",
      "1             27.47  ...              103             16.62   \n",
      "2             41.38  ...              110             10.30   \n",
      "3             50.90  ...               88              5.26   \n",
      "4             28.34  ...              122             12.61   \n",
      "\n",
      "   total_night_minutes  total_night_calls  total_night_charge  \\\n",
      "0                244.7                 91               11.01   \n",
      "1                254.4                103               11.45   \n",
      "2                162.6                104                7.32   \n",
      "3                196.9                 89                8.86   \n",
      "4                186.9                121                8.41   \n",
      "\n",
      "   total_intl_minutes  total_intl_calls  total_intl_charge  \\\n",
      "0                10.0                 3               2.70   \n",
      "1                13.7                 3               3.70   \n",
      "2                12.2                 5               3.29   \n",
      "3                 6.6                 7               1.78   \n",
      "4                10.1                 3               2.73   \n",
      "\n",
      "   number_customer_service_calls  churn  \n",
      "0                              1     no  \n",
      "1                              1     no  \n",
      "2                              0     no  \n",
      "3                              2     no  \n",
      "4                              3     no  \n",
      "\n",
      "[5 rows x 21 columns]\n"
     ]
    }
   ],
   "source": [
    "get_basic_stats(train)"
   ]
  },
  {
   "cell_type": "markdown",
   "id": "e40007b6",
   "metadata": {},
   "source": [
    "#### Data Cleaning"
   ]
  },
  {
   "cell_type": "code",
   "execution_count": 14,
   "id": "75e81737",
   "metadata": {},
   "outputs": [],
   "source": [
    "#Removing the junk column\n",
    "train = train.drop(['Unnamed: 0'], axis =1 )\n",
    "test = test.drop(['Unnamed: 0'], axis = 1)\n",
    "\n",
    "#creating a copy to keep the original dataframes intact\n",
    "train2 = train.copy()\n",
    "test2 = test.copy()"
   ]
  },
  {
   "cell_type": "code",
   "execution_count": 16,
   "id": "75b2d498",
   "metadata": {},
   "outputs": [
    {
     "name": "stdout",
     "output_type": "stream",
     "text": [
      "checking\n",
      "churn_num  churn\n",
      "0          no       2850\n",
      "1          yes       483\n",
      "dtype: int64\n",
      "checking\n",
      "churn_num  churn\n",
      "0          no       1443\n",
      "1          yes       224\n",
      "dtype: int64\n",
      "checking\n",
      "international_plan_num  international_plan\n",
      "0                       no                    3010\n",
      "1                       yes                    323\n",
      "dtype: int64\n",
      "checking\n",
      "international_plan_num  international_plan\n",
      "0                       no                    1517\n",
      "1                       yes                    150\n",
      "dtype: int64\n",
      "checking\n",
      "voice_mail_plan_num  voice_mail_plan\n",
      "0                    no                 2411\n",
      "1                    yes                 922\n",
      "dtype: int64\n",
      "checking\n",
      "voice_mail_plan_num  voice_mail_plan\n",
      "0                    no                 1266\n",
      "1                    yes                 401\n",
      "dtype: int64\n"
     ]
    }
   ],
   "source": [
    "#creating binary variables from categorical variables that take just 2 unique values\n",
    "yes_no_vars = ['churn', 'international_plan', 'voice_mail_plan']\n",
    "\n",
    "def cat_to_binary(df, varname):\n",
    "    df[varname + '_num'] = df[varname].apply(lambda x : 1 if x == 'yes' else 0)\n",
    "    print(\"checking\")\n",
    "    print(df.groupby([varname + '_num', varname]).size())\n",
    "    return df\n",
    "\n",
    "\n",
    "for varname in yes_no_vars:\n",
    "    train2 = cat_to_binary(train2, varname)\n",
    "    test2 = cat_to_binary(test2, varname)"
   ]
  },
  {
   "cell_type": "markdown",
   "id": "3446bf20",
   "metadata": {},
   "source": [
    "#### Checking if the function has worked"
   ]
  },
  {
   "cell_type": "code",
   "execution_count": 26,
   "id": "4cb2a65e",
   "metadata": {},
   "outputs": [
    {
     "name": "stdout",
     "output_type": "stream",
     "text": [
      "churn_num{0, 1}\n",
      "++++++++++++\n",
      "churn_num{0, 1}\n",
      "international_plan_num{0, 1}\n",
      "++++++++++++\n",
      "international_plan_num{0, 1}\n",
      "voice_mail_plan_num{0, 1}\n",
      "++++++++++++\n",
      "voice_mail_plan_num{0, 1}\n"
     ]
    }
   ],
   "source": [
    "num_vars = ['churn_num', 'international_plan_num', 'voice_mail_plan_num']\n",
    "for i in num_vars:\n",
    "    print(i + str(set(train2[i])))\n",
    "    print(\"++++++++++++\")\n",
    "    print(i + str(set(test2[i])))"
   ]
  },
  {
   "cell_type": "markdown",
   "id": "b15806ed",
   "metadata": {},
   "source": [
    "It did!!"
   ]
  },
  {
   "cell_type": "markdown",
   "id": "f1e44695",
   "metadata": {},
   "source": [
    "### Univariate Analysis"
   ]
  },
  {
   "cell_type": "code",
   "execution_count": 28,
   "id": "dcaed0ae",
   "metadata": {},
   "outputs": [
    {
     "data": {
      "text/plain": [
       "<function matplotlib.pyplot.show(close=None, block=None)>"
      ]
     },
     "execution_count": 28,
     "metadata": {},
     "output_type": "execute_result"
    },
    {
     "data": {
      "image/png": "[encoded data removed]",
      "text/plain": [
       "<Figure size 432x288 with 1 Axes>"
      ]
     },
     "metadata": {
      "needs_background": "light"
     },
     "output_type": "display_data"
    },
    {
     "data": {
      "image/png": "[encoded data removed]",
      "text/plain": [
       "<Figure size 1440x720 with 1 Axes>"
      ]
     },
     "metadata": {
      "needs_background": "light"
     },
     "output_type": "display_data"
    }
   ],
   "source": [
    "#univariate analysis of categorical variables\n",
    "\n",
    "plt.hist(list(train2['area_code']))\n",
    "plt.show\n",
    "plt.figure(figsize = (20,10))\n",
    "plt.hist(list(train2['state']), bins = 100)\n",
    "plt.show"
   ]
  },
  {
   "cell_type": "code",
   "execution_count": 29,
   "id": "bcb108cb",
   "metadata": {},
   "outputs": [
    {
     "name": "stderr",
     "output_type": "stream",
     "text": [
      "<ipython-input-29-5ffc77b3c6da>:3: FutureWarning: Dropping of nuisance columns in DataFrame reductions (with 'numeric_only=None') is deprecated; in a future version this will raise TypeError.  Select only valid columns before calling the reduction.\n",
      "  train2.mean()\n"
     ]
    },
    {
     "data": {
      "text/plain": [
       "account_length                   101.064806\n",
       "number_vmail_messages              8.099010\n",
       "total_day_minutes                179.775098\n",
       "total_day_calls                  100.435644\n",
       "total_day_charge                  30.562307\n",
       "total_eve_minutes                200.980348\n",
       "total_eve_calls                  100.114311\n",
       "total_eve_charge                  17.083540\n",
       "total_night_minutes              200.872037\n",
       "total_night_calls                100.107711\n",
       "total_night_charge                 9.039325\n",
       "total_intl_minutes                10.237294\n",
       "total_intl_calls                   4.479448\n",
       "total_intl_charge                  2.764581\n",
       "number_customer_service_calls      1.562856\n",
       "churn_num                          0.144914\n",
       "international_plan_num             0.096910\n",
       "voice_mail_plan_num                0.276628\n",
       "dtype: float64"
      ]
     },
     "execution_count": 29,
     "metadata": {},
     "output_type": "execute_result"
    }
   ],
   "source": [
    "#this is sufficient for univariate analysis of binary variables\n",
    "\n",
    "train2.mean()"
   ]
  },
  {
   "cell_type": "code",
   "execution_count": 31,
   "id": "a83b4971",
   "metadata": {},
   "outputs": [
    {
     "data": {
      "image/png": "[encoded data removed]",
      "text/plain": [
       "<Figure size 432x288 with 1 Axes>"
      ]
     },
     "metadata": {},
     "output_type": "display_data"
    }
   ],
   "source": [
    "# Visualizing the churn variable\n",
    "\n",
    "topie = train2['churn'].value_counts(sort = True)\n",
    "colorss = [\"darkgreen\",\"red\"] \n",
    "plt.pie(topie,labels = topie.index.values, explode= [0, 0.2],  colors=colorss, autopct='%1.1f%%', shadow=True, startangle=90)\n",
    "plt.title('%Churn in Training Data')\n",
    "plt.show()"
   ]
  },
  {
   "cell_type": "code",
   "execution_count": 33,
   "id": "142c057f",
   "metadata": {},
   "outputs": [
    {
     "name": "stdout",
     "output_type": "stream",
     "text": [
      "['account_length', 'number_vmail_messages', 'total_day_minutes', 'total_day_calls', 'total_day_charge', 'total_eve_minutes', 'total_eve_calls', 'total_eve_charge', 'total_night_minutes', 'total_night_calls', 'total_night_charge', 'total_intl_minutes', 'total_intl_calls', 'total_intl_charge', 'number_customer_service_calls']\n"
     ]
    }
   ],
   "source": [
    "#creating a list of continuous variables, which would be visualized using boxplot\n",
    "\n",
    "continuous_vars = train.select_dtypes([np.number]).columns.tolist()\n",
    "print(continuous_vars)"
   ]
  },
  {
   "cell_type": "code",
   "execution_count": 34,
   "id": "90495306",
   "metadata": {},
   "outputs": [
    {
     "data": {
      "image/png": "[encoded data removed]",
      "text/plain": [
       "<Figure size 1440x720 with 1 Axes>"
      ]
     },
     "metadata": {
      "needs_background": "light"
     },
     "output_type": "display_data"
    },
    {
     "data": {
      "image/png": "[encoded data removed]",
      "text/plain": [
       "<Figure size 1440x720 with 1 Axes>"
      ]
     },
     "metadata": {
      "needs_background": "light"
     },
     "output_type": "display_data"
    },
    {
     "data": {
      "image/png": "[encoded data removed]",
      "text/plain": [
       "<Figure size 1440x720 with 1 Axes>"
      ]
     },
     "metadata": {
      "needs_background": "light"
     },
     "output_type": "display_data"
    },
    {
     "data": {
      "image/png": "[encoded data removed]",
      "text/plain": [
       "<Figure size 1440x720 with 1 Axes>"
      ]
     },
     "metadata": {
      "needs_background": "light"
     },
     "output_type": "display_data"
    },
    {
     "data": {
      "image/png": "[encoded data removed]",
      "text/plain": [
       "<Figure size 1440x720 with 1 Axes>"
      ]
     },
     "metadata": {
      "needs_background": "light"
     },
     "output_type": "display_data"
    }
   ],
   "source": [
    "#univariate analysis of continuous variables\n",
    "type_of_vars = ['intl', 'customer', 'minutes', 'calls', 'charge']\n",
    "remaining_list = train2.columns\n",
    "for vartype in type_of_vars:\n",
    "    temp_list = [x for x in remaining_list if vartype in x]\n",
    "    remaining_list = list(set(remaining_list).difference(set(temp_list)))\n",
    "    train2.boxplot(column=temp_list, figsize = (20,10) )\n",
    "    plt.title('Boxplot for '+ vartype + ' variables')\n",
    "    plt.show()"
   ]
  },
  {
   "cell_type": "markdown",
   "id": "a8c7a3af",
   "metadata": {},
   "source": [
    "### Bi-variate Analysis"
   ]
  },
  {
   "cell_type": "code",
   "execution_count": 36,
   "id": "ca803bd7",
   "metadata": {},
   "outputs": [],
   "source": [
    "X = train2.drop('churn_num', axis=1)"
   ]
  },
  {
   "cell_type": "code",
   "execution_count": 43,
   "id": "7530d20b",
   "metadata": {},
   "outputs": [
    {
     "name": "stderr",
     "output_type": "stream",
     "text": [
      "<ipython-input-43-5726efc92faa>:4: SettingWithCopyWarning: \n",
      "A value is trying to be set on a copy of a slice from a DataFrame.\n",
      "Try using .loc[row_indexer,col_indexer] = value instead\n",
      "\n",
      "See the caveats in the documentation: https://pandas.pydata.org/pandas-docs/stable/user_guide/indexing.html#returning-a-view-versus-a-copy\n",
      "  corr_table['corr_abs'] = corr_table['corr_value'].abs()\n"
     ]
    },
    {
     "data": {
      "text/html": [
       "<div>\n",
       "<style scoped>\n",
       "    .dataframe tbody tr th:only-of-type {\n",
       "        vertical-align: middle;\n",
       "    }\n",
       "\n",
       "    .dataframe tbody tr th {\n",
       "        vertical-align: top;\n",
       "    }\n",
       "\n",
       "    .dataframe thead th {\n",
       "        text-align: right;\n",
       "    }\n",
       "</style>\n",
       "<table border=\"1\" class=\"dataframe\">\n",
       "  <thead>\n",
       "    <tr style=\"text-align: right;\">\n",
       "      <th></th>\n",
       "      <th>var1</th>\n",
       "      <th>var2</th>\n",
       "      <th>corr_value</th>\n",
       "      <th>corr_abs</th>\n",
       "    </tr>\n",
       "  </thead>\n",
       "  <tbody>\n",
       "    <tr>\n",
       "      <th>38</th>\n",
       "      <td>total_day_minutes</td>\n",
       "      <td>total_day_charge</td>\n",
       "      <td>1.000000</td>\n",
       "      <td>1.000000</td>\n",
       "    </tr>\n",
       "    <tr>\n",
       "      <th>92</th>\n",
       "      <td>total_eve_minutes</td>\n",
       "      <td>total_eve_charge</td>\n",
       "      <td>1.000000</td>\n",
       "      <td>1.000000</td>\n",
       "    </tr>\n",
       "    <tr>\n",
       "      <th>146</th>\n",
       "      <td>total_night_minutes</td>\n",
       "      <td>total_night_charge</td>\n",
       "      <td>0.999999</td>\n",
       "      <td>0.999999</td>\n",
       "    </tr>\n",
       "    <tr>\n",
       "      <th>200</th>\n",
       "      <td>total_intl_minutes</td>\n",
       "      <td>total_intl_charge</td>\n",
       "      <td>0.999993</td>\n",
       "      <td>0.999993</td>\n",
       "    </tr>\n",
       "    <tr>\n",
       "      <th>273</th>\n",
       "      <td>voice_mail_plan_num</td>\n",
       "      <td>number_vmail_messages</td>\n",
       "      <td>0.956927</td>\n",
       "      <td>0.956927</td>\n",
       "    </tr>\n",
       "    <tr>\n",
       "      <th>83</th>\n",
       "      <td>total_day_charge</td>\n",
       "      <td>international_plan_num</td>\n",
       "      <td>0.049398</td>\n",
       "      <td>0.049398</td>\n",
       "    </tr>\n",
       "    <tr>\n",
       "      <th>49</th>\n",
       "      <td>total_day_minutes</td>\n",
       "      <td>international_plan_num</td>\n",
       "      <td>0.049396</td>\n",
       "      <td>0.049396</td>\n",
       "    </tr>\n",
       "    <tr>\n",
       "      <th>202</th>\n",
       "      <td>total_intl_minutes</td>\n",
       "      <td>international_plan_num</td>\n",
       "      <td>0.045871</td>\n",
       "      <td>0.045871</td>\n",
       "    </tr>\n",
       "    <tr>\n",
       "      <th>236</th>\n",
       "      <td>total_intl_charge</td>\n",
       "      <td>international_plan_num</td>\n",
       "      <td>0.045780</td>\n",
       "      <td>0.045780</td>\n",
       "    </tr>\n",
       "    <tr>\n",
       "      <th>51</th>\n",
       "      <td>total_day_calls</td>\n",
       "      <td>account_length</td>\n",
       "      <td>0.038470</td>\n",
       "      <td>0.038470</td>\n",
       "    </tr>\n",
       "  </tbody>\n",
       "</table>\n",
       "</div>"
      ],
      "text/plain": [
       "                    var1                    var2  corr_value  corr_abs\n",
       "38     total_day_minutes        total_day_charge    1.000000  1.000000\n",
       "92     total_eve_minutes        total_eve_charge    1.000000  1.000000\n",
       "146  total_night_minutes      total_night_charge    0.999999  0.999999\n",
       "200   total_intl_minutes       total_intl_charge    0.999993  0.999993\n",
       "273  voice_mail_plan_num   number_vmail_messages    0.956927  0.956927\n",
       "83      total_day_charge  international_plan_num    0.049398  0.049398\n",
       "49     total_day_minutes  international_plan_num    0.049396  0.049396\n",
       "202   total_intl_minutes  international_plan_num    0.045871  0.045871\n",
       "236    total_intl_charge  international_plan_num    0.045780  0.045780\n",
       "51       total_day_calls          account_length    0.038470  0.038470"
      ]
     },
     "execution_count": 43,
     "metadata": {},
     "output_type": "execute_result"
    }
   ],
   "source": [
    "all_corr = X.corr().unstack().reset_index()\n",
    "corr_table = all_corr[all_corr['level_0'] > all_corr['level_1']]\n",
    "corr_table.columns = ['var1', 'var2', 'corr_value']\n",
    "corr_table['corr_abs'] = corr_table['corr_value'].abs()\n",
    "corr_table = corr_table.sort_values(by= ['corr_abs'], ascending = False )\n",
    "corr_table.head(10)\n",
    "#total_day_charge, total_eve_charge, total_night_charge, total_intl_charge, voice_mail_plan_num\n",
    "#these 5 variables can be dropped"
   ]
  },
  {
   "cell_type": "markdown",
   "id": "785b391e",
   "metadata": {},
   "source": [
    "Interestingly<br>\n",
    "**total_day_minutes\ttotal_day_charge**<br>\n",
    "**total_eve_minutes\ttotal_eve_charge**<br>\n",
    "**total_night_minutes\ttotal_night_charge**<br>\n",
    "**total_intl_minutes\ttotal_intl_charge**<br>"
   ]
  },
  {
   "cell_type": "code",
   "execution_count": null,
   "id": "fff69456",
   "metadata": {},
   "outputs": [],
   "source": []
  }
 ],
 "metadata": {
  "kernelspec": {
   "display_name": "time_series",
   "language": "python",
   "name": "time_series"
  },
  "language_info": {
   "codemirror_mode": {
    "name": "ipython",
    "version": 3
   },
   "file_extension": ".py",
   "mimetype": "text/x-python",
   "name": "python",
   "nbconvert_exporter": "python",
   "pygments_lexer": "ipython3",
   "version": "3.8.5"
  }
 },
 "nbformat": 4,
 "nbformat_minor": 5
}
