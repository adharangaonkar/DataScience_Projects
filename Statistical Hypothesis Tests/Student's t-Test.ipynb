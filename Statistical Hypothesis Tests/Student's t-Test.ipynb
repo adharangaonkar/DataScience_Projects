{
 "cells": [
  {
   "cell_type": "code",
   "execution_count": 3,
   "metadata": {},
   "outputs": [],
   "source": [
    "from IPython.display import Image\n",
    "from IPython.core.display import HTML \n",
    "from scipy import stats\n",
    "import math"
   ]
  },
  {
   "cell_type": "markdown",
   "metadata": {},
   "source": [
    "## What is t-score?\n",
    "The t score is a ratio between the difference between two groups and the difference within the groups. **The larger the t score, the more difference there is between groups. The smaller the t score, the more similarity there is between groups.** A t score of 3 means that the groups are three times as different from each other as they are within each other. When you run a t test, the bigger the t-value, the more likely it is that the results are repeatable."
   ]
  },
  {
   "cell_type": "code",
   "execution_count": null,
   "metadata": {},
   "outputs": [],
   "source": []
  },
  {
   "cell_type": "markdown",
   "metadata": {},
   "source": [
    "**A large t-score tells you that the groups are different.**\n",
    "\n",
    "\n",
    "\n",
    "**A small t-score tells you that the groups are similar.**"
   ]
  },
  {
   "cell_type": "code",
   "execution_count": null,
   "metadata": {},
   "outputs": [],
   "source": []
  },
  {
   "cell_type": "markdown",
   "metadata": {},
   "source": [
    "![image info](https://miro.medium.com/max/466/1*1ZUnA4eR5J2WEGhDVPDkEw.png)"
   ]
  },
  {
   "cell_type": "markdown",
   "metadata": {},
   "source": [
    "where, Mx and My are the mean values of the two samples of male and female. <br>\n",
    "Nx and Ny are the sample space of the two samples <br>\n",
    "S is the standard deviation <br>"
   ]
  },
  {
   "cell_type": "markdown",
   "metadata": {},
   "source": [
    "## What are T-Values and P-values?\n",
    "How big is “big enough”? Every t-value has a p-value to go with it. A p-value is the probability that the results from your sample data occurred by chance. P-values are from 0% to 100%. They are usually written as a decimal. For example, a p value of 5% is 0.05. **Low p-values are good**; They indicate your data did not occur by chance. For example, a p-value of .01 means there is only a 1% probability that the results from an experiment happened by chance. In most cases, a p-value of 0.05 (5%) is accepted to mean the data is valid."
   ]
  },
  {
   "cell_type": "markdown",
   "metadata": {},
   "source": [
    "**If abs(t-statistic) <= critical value: Accept null hypothesis that the means are equal.**<br>\n",
    "**If abs(t-statistic) > critical value: Reject the null hypothesis that the means are equal.**"
   ]
  },
  {
   "cell_type": "markdown",
   "metadata": {},
   "source": [
    "We can also retrieve the cumulative probability of observing the absolute value of the t-statistic using the cumulative distribution function (CDF) of the t-distribution in order to calculate a p-value. The p-value can then be compared to a chosen significance level (alpha) such as 0.05 to determine if the null hypothesis can be rejected:"
   ]
  },
  {
   "cell_type": "markdown",
   "metadata": {},
   "source": [
    "**If p > alpha: Accept null hypothesis that the means are equal.**<bR>\n",
    "**If p <= alpha: Reject null hypothesis that the means are equal.**"
   ]
  },
  {
   "cell_type": "markdown",
   "metadata": {},
   "source": [
    "### Assumptions"
   ]
  },
  {
   "cell_type": "markdown",
   "metadata": {},
   "source": [
    "1. Both samples were drawn from a Gaussian distribution\n",
    "2. the samples have the same variance, and the same size"
   ]
  },
  {
   "cell_type": "markdown",
   "metadata": {},
   "source": [
    "Although there are corrections to the test if these assumptions do not hold"
   ]
  },
  {
   "cell_type": "markdown",
   "metadata": {},
   "source": [
    "**There are two main versions of Student’s t-test:**"
   ]
  },
  {
   "cell_type": "markdown",
   "metadata": {},
   "source": [
    "1. Independent Samples. The case where the two samples are unrelated.<br>\n",
    "2. Dependent Samples. The case where the samples are related, such as repeated measures on the same population. Also called a paired test."
   ]
  },
  {
   "cell_type": "markdown",
   "metadata": {},
   "source": [
    "## Independent Samples"
   ]
  },
  {
   "cell_type": "markdown",
   "metadata": {},
   "source": [
    "### Calculation"
   ]
  },
  {
   "cell_type": "code",
   "execution_count": 4,
   "metadata": {},
   "outputs": [
    {
     "data": {
      "text/plain": [
       "'\\nt = observed difference between sample means / standard error of the difference between the means\\nor\\nt = (mean(X1) - mean(X2)) / sed\\n\\nsed: standard error\\nWhere se1 and se2 are the standard errors for the first and second datasets.\\n\\nsed = sqrt(se1^2 + se2^2)\\n\\nThe standard error of a sample can be calculated as:\\nse = std / sqrt(n)\\n\\nWhere se is the standard error of the sample, \\nstd is the sample standard deviation, \\nand n is the number of observations in the sample.\\n\\n'"
      ]
     },
     "execution_count": 4,
     "metadata": {},
     "output_type": "execute_result"
    }
   ],
   "source": [
    "\"\"\"\n",
    "t = observed difference between sample means / standard error of the difference between the means\n",
    "or\n",
    "t = (mean(X1) - mean(X2)) / sed\n",
    "\n",
    "sed: standard error\n",
    "Where se1 and se2 are the standard errors for the first and second datasets.\n",
    "\n",
    "sed = sqrt(se1^2 + se2^2)\n",
    "\n",
    "The standard error of a sample can be calculated as:\n",
    "se = std / sqrt(n)\n",
    "\n",
    "Where se is the standard error of the sample, \n",
    "std is the sample standard deviation, \n",
    "and n is the number of observations in the sample.\n",
    "\n",
    "\"\"\""
   ]
  },
  {
   "cell_type": "markdown",
   "metadata": {},
   "source": [
    "### Implementation"
   ]
  },
  {
   "cell_type": "code",
   "execution_count": 5,
   "metadata": {},
   "outputs": [],
   "source": [
    "# # calculate means\n",
    "# mean1, mean2 = mean(data1), mean(data2)\n",
    "\n",
    "\n",
    "# # calculate sample standard deviations\n",
    "# std1, std2 = std(data1, ddof=1), std(data2, ddof=1)\n",
    "\n",
    "\n",
    "# # calculate standard errors\n",
    "# n1, n2 = len(data1), len(data2)\n",
    "# se1, se2 = std1/sqrt(n1), std2/sqrt(n2)\n",
    "\n",
    "\n",
    "# #Alternately, we can use the sem() SciPy function to calculate the standard error directly.\n",
    "# # calculate standard errors\n",
    "# se1, se2 = sem(data1), sem(data2)\n",
    "\n",
    "\n",
    "# #We can use the standard errors of the samples to calculate the “standard error on the difference between the samples“:\n",
    "# # standard error on the difference between the samples\n",
    "# sed = sqrt(se1**2.0 + se2**2.0)\n",
    "\n",
    "# #We can now calculate the t statistic:\n",
    "# t_stat = (mean1 - mean2) / sed\n",
    "\n",
    "# #We can also calculate some other values to help interpret and present the statistic.\n",
    "# #The number of degrees of freedom for the test is calculated as the sum of the observations in both samples, minus two.\n",
    "# df = n1 + n2 - 2\n",
    "\n",
    "# #The critical value can be calculated using the percent point function (PPF) for a given significance level, \n",
    "# #such as 0.05 (95% confidence).\n",
    "# # calculate the critical value\n",
    "# alpha = 0.05\n",
    "# cv = t.ppf(1.0 - alpha, df)\n",
    "\n",
    "\n",
    "# # calculate the p-value\n",
    "# p = (1 - t.cdf(abs(t_stat), df)) * 2\n",
    "\n",
    "# #Here, we assume a two-tailed distribution,\n",
    "# #where the rejection of the null hypothesis could be interpreted\n",
    "# #as the first mean is either smaller or larger than the second mean."
   ]
  },
  {
   "cell_type": "code",
   "execution_count": 6,
   "metadata": {},
   "outputs": [],
   "source": [
    "# function for calculating the t-test for two independent samples\n",
    "def independent_ttest(data1, data2, alpha):\n",
    " # calculate means\n",
    " mean1, mean2 = data1.mean(),data2.mean()\n",
    " # calculate standard errors\n",
    " se1, se2 = stats.sem(data1), stats.sem(data2)\n",
    " # standard error on the difference between the samples\n",
    " sed = np.sqrt(se1**2.0 + se2**2.0)\n",
    " # calculate the t statistic\n",
    " t_stat = (mean1 - mean2) / sed\n",
    " # degrees of freedom\n",
    " df = len(data1) + len(data2) - 2\n",
    " # calculate the critical value\n",
    " cv = stats.t.ppf(1.0 - alpha, df)\n",
    " # calculate the p-value\n",
    " p = (1.0 - stats.t.cdf(abs(t_stat), df)) * 2.0\n",
    " # return everything\n",
    " return t_stat, df, cv, p"
   ]
  },
  {
   "cell_type": "markdown",
   "metadata": {},
   "source": [
    "### Worked Example"
   ]
  },
  {
   "cell_type": "markdown",
   "metadata": {},
   "source": [
    "In this section we will calculate the t-test on some synthetic data samples.<br>\n",
    "\n",
    "First, let’s generate two samples of 100 Gaussian random numbers with the same variance of 5 and differing means of 50 and 51 respectively.<br> We will expect the test to reject the null hypothesis and find a significant difference between the samples:"
   ]
  },
  {
   "cell_type": "code",
   "execution_count": 7,
   "metadata": {},
   "outputs": [],
   "source": [
    "# Student's t-test for independent samples\n",
    "from numpy.random import seed\n",
    "from numpy.random import randn\n",
    "from scipy.stats import ttest_ind\n",
    "import matplotlib.pyplot as plt\n",
    "import numpy as np\n",
    "# seed the random number generator\n",
    "seed(1)\n",
    "# generate two independent samples\n",
    "data1 = 5 * randn(100) + 50\n",
    "data2 = 5 * randn(100) + 51"
   ]
  },
  {
   "cell_type": "code",
   "execution_count": 8,
   "metadata": {
    "scrolled": true
   },
   "outputs": [
    {
     "data": {
      "text/plain": [
       "(array([ 3.,  1.,  6., 17., 19., 20., 14., 12.,  5.,  3.]),\n",
       " array([38.49230652, 40.73586357, 42.97942062, 45.22297767, 47.46653472,\n",
       "        49.71009177, 51.95364883, 54.19720588, 56.44076293, 58.68431998,\n",
       "        60.92787703]),\n",
       " <BarContainer object of 10 artists>)"
      ]
     },
     "execution_count": 8,
     "metadata": {},
     "output_type": "execute_result"
    },
    {
     "data": {
      "image/png": "[encoded data removed]",
      "text/plain": [
       "<Figure size 432x288 with 1 Axes>"
      ]
     },
     "metadata": {
      "needs_background": "light"
     },
     "output_type": "display_data"
    }
   ],
   "source": [
    "plt.hist(data1, bins=10)"
   ]
  },
  {
   "cell_type": "code",
   "execution_count": 9,
   "metadata": {},
   "outputs": [
    {
     "data": {
      "text/plain": [
       "50.30291426037849"
      ]
     },
     "execution_count": 9,
     "metadata": {},
     "output_type": "execute_result"
    }
   ],
   "source": [
    "data1.mean()"
   ]
  },
  {
   "cell_type": "code",
   "execution_count": 10,
   "metadata": {},
   "outputs": [
    {
     "data": {
      "text/plain": [
       "(array([ 1.,  4., 10.,  7., 23., 21., 19.,  9.,  3.,  3.]),\n",
       " array([38.82581118, 41.30739291, 43.78897465, 46.27055639, 48.75213812,\n",
       "        51.23371986, 53.71530159, 56.19688333, 58.67846506, 61.1600468 ,\n",
       "        63.64162853]),\n",
       " <BarContainer object of 10 artists>)"
      ]
     },
     "execution_count": 10,
     "metadata": {},
     "output_type": "execute_result"
    },
    {
     "data": {
      "image/png": "[encoded data removed]",
      "text/plain": [
       "<Figure size 432x288 with 1 Axes>"
      ]
     },
     "metadata": {
      "needs_background": "light"
     },
     "output_type": "display_data"
    }
   ],
   "source": [
    "plt.hist(data2, bins=10)"
   ]
  },
  {
   "cell_type": "code",
   "execution_count": 11,
   "metadata": {},
   "outputs": [
    {
     "data": {
      "text/plain": [
       "51.763973888101"
      ]
     },
     "execution_count": 11,
     "metadata": {},
     "output_type": "execute_result"
    }
   ],
   "source": [
    "data2.mean()"
   ]
  },
  {
   "cell_type": "code",
   "execution_count": null,
   "metadata": {},
   "outputs": [],
   "source": []
  },
  {
   "cell_type": "markdown",
   "metadata": {},
   "source": [
    "**Lets test our function**"
   ]
  },
  {
   "cell_type": "code",
   "execution_count": 12,
   "metadata": {},
   "outputs": [],
   "source": [
    "alpha = 0.05\n",
    "t_stat, df, cv, p = independent_ttest(data1, data2, alpha)"
   ]
  },
  {
   "cell_type": "code",
   "execution_count": 13,
   "metadata": {},
   "outputs": [
    {
     "name": "stdout",
     "output_type": "stream",
     "text": [
      "t=-2.262, df=198, cv=1.653, p=0.025\n"
     ]
    }
   ],
   "source": [
    "print('t=%.3f, df=%d, cv=%.3f, p=%.3f' % (t_stat, df, cv, p))"
   ]
  },
  {
   "cell_type": "code",
   "execution_count": 14,
   "metadata": {},
   "outputs": [
    {
     "name": "stdout",
     "output_type": "stream",
     "text": [
      "Reject the null hypothesis that the means are equal.\n"
     ]
    }
   ],
   "source": [
    "# interpret via critical value\n",
    "if abs(t_stat) <= cv:\n",
    " print('Accept null hypothesis that the means are equal.')\n",
    "else:\n",
    " print('Reject the null hypothesis that the means are equal.')"
   ]
  },
  {
   "cell_type": "code",
   "execution_count": 15,
   "metadata": {},
   "outputs": [
    {
     "name": "stdout",
     "output_type": "stream",
     "text": [
      "Reject the null hypothesis that the means are equal.\n"
     ]
    }
   ],
   "source": [
    "# interpret via p-value\n",
    "if p > alpha:\n",
    " print('Accept null hypothesis that the means are equal.')\n",
    "else:\n",
    " print('Reject the null hypothesis that the means are equal.')"
   ]
  },
  {
   "cell_type": "markdown",
   "metadata": {},
   "source": [
    "\n",
    "The t-statistic and the p-value are then used to interpret the results of the test. We find that as we expect, there is sufficient evidence to reject the null hypothesis, finding that the sample means are likely different.\n",
    "\n"
   ]
  },
  {
   "cell_type": "markdown",
   "metadata": {},
   "source": [
    "## Student’s t-Test for Dependent Samples"
   ]
  },
  {
   "cell_type": "markdown",
   "metadata": {},
   "source": [
    "This is the case where we collect some observations on a sample from the population, then apply some treatment, and then collect observations from the same sample.<br>\n",
    "\n",
    "The result is two samples of the same size where the observations in each sample are related or paired.<br>\n",
    "\n",
    "The t-test for dependent samples is referred to as the paired Student’s t-test."
   ]
  },
  {
   "cell_type": "markdown",
   "metadata": {},
   "source": [
    "### Calculation"
   ]
  },
  {
   "cell_type": "markdown",
   "metadata": {},
   "source": [
    "The calculation of the paired Student’s t-test is similar to the case with independent samples.<br>\n",
    "\n",
    "The main difference is in the calculation of the denominator."
   ]
  },
  {
   "cell_type": "code",
   "execution_count": 17,
   "metadata": {},
   "outputs": [
    {
     "data": {
      "text/plain": [
       "'\\nt = (mean(X1) - mean(X2)) / sed\\nWhere X1 and X2 are the first and second data samples and sed is the standard error of the difference between the means.\\n\\nsed = sd / sqrt(n)\\nWhere sd is the standard deviation of the difference between\\nthe dependent sample means and n is the total number of paired observations\\n\\nThe calculation of sd first requires the calculation of the sum of the squared differences between the samples:\\nd1 = sum (X1[i] - X2[i])^2 for i in n\\n\\nIt also requires the sum of the (non squared) differences between the samples:\\nd2 = sum (X1[i] - X2[i]) for i in n\\n\\nWe can then calculate sd as:\\nsd = sqrt((d1 - (d2**2 / n)) / (n - 1))\\n'"
      ]
     },
     "execution_count": 17,
     "metadata": {},
     "output_type": "execute_result"
    }
   ],
   "source": [
    "\"\"\"\n",
    "t = (mean(X1) - mean(X2)) / sed\n",
    "Where X1 and X2 are the first and second data samples and sed is the standard error of the difference between the means.\n",
    "\n",
    "sed = sd / sqrt(n)\n",
    "Where sd is the standard deviation of the difference between\n",
    "the dependent sample means and n is the total number of paired observations\n",
    "\n",
    "The calculation of sd first requires the calculation of the sum of the squared differences between the samples:\n",
    "d1 = sum (X1[i] - X2[i])^2 for i in n\n",
    "\n",
    "It also requires the sum of the (non squared) differences between the samples:\n",
    "d2 = sum (X1[i] - X2[i]) for i in n\n",
    "\n",
    "We can then calculate sd as:\n",
    "sd = sqrt((d1 - (d2**2 / n)) / (n - 1))\n",
    "\"\"\""
   ]
  },
  {
   "cell_type": "markdown",
   "metadata": {},
   "source": [
    "### Implementation"
   ]
  },
  {
   "cell_type": "code",
   "execution_count": 49,
   "metadata": {},
   "outputs": [],
   "source": [
    "def dependent_ttest(data1, data2, alpha):\n",
    "    # calculate means\n",
    "    mean1, mean2 = data1.mean(), data2.mean()\n",
    "    # number of paired samples\n",
    "    n = len(data1)\n",
    "    # sum squared difference between observations\n",
    "    d1 = sum([(data1[i]-data2[i])**2 for i in range(n)])\n",
    "    # sum difference between observations\n",
    "    d2 = sum([data1[i]-data2[i] for i in range(n)])\n",
    "    # standard deviation of the difference between means\n",
    "    sd = np.sqrt((d1 - (d2**2 / n)) / (n - 1))\n",
    "    # standard error of the difference between the means\n",
    "    sed = sd / np.sqrt(n)\n",
    "    # calculate the t statistic\n",
    "    t_stat = (mean1 - mean2) / sed\n",
    "    # degrees of freedom\n",
    "    df = n - 1\n",
    "    # calculate the critical value\n",
    "    cv = stats.t.ppf(1.0 - alpha, df)\n",
    "    # calculate the p-value\n",
    "    p = (1.0 - stats.t.cdf(abs(t_stat), df)) * 2.0\n",
    "    # return everything\n",
    "    return t_stat, df, cv, p"
   ]
  },
  {
   "cell_type": "markdown",
   "metadata": {},
   "source": [
    "### Worked Example"
   ]
  },
  {
   "cell_type": "markdown",
   "metadata": {},
   "source": [
    "The data samples are not paired, but we will pretend they are. We expect the test to reject the null hypothesis and find a significant difference between the samples."
   ]
  },
  {
   "cell_type": "code",
   "execution_count": 39,
   "metadata": {},
   "outputs": [],
   "source": [
    "#seed the random number generator\n",
    "seed(1)\n",
    "# generate two independent samples\n",
    "data1 = 5 * randn(100) + 50\n",
    "data2 = 5 * randn(100) + 51"
   ]
  },
  {
   "cell_type": "code",
   "execution_count": 40,
   "metadata": {},
   "outputs": [
    {
     "data": {
      "text/plain": [
       "array([58.12172682, 46.94121793, 47.35914124, 44.63515689, 54.32703815,\n",
       "       38.49230652, 58.72405882, 46.1939655 , 51.59519548, 48.75314812,\n",
       "       57.31053969, 39.69929645, 48.38791398, 48.07972823, 55.66884721,\n",
       "       44.50054366, 49.13785896, 45.61070791, 50.21106873, 52.91407607,\n",
       "       44.49690411, 55.72361855, 54.5079536 , 52.51247169, 54.50427975,\n",
       "       46.5813607 , 49.38554887, 45.32115283, 48.6605596 , 52.65177733,\n",
       "       46.54169624, 48.01623237, 46.5641365 , 45.77397179, 46.64376935,\n",
       "       49.93667701, 44.41344826, 51.17207849, 58.29901089, 53.7102208 ,\n",
       "       49.04082224, 45.56185518, 46.26420853, 58.46227301, 50.25403877,\n",
       "       46.81502177, 50.95457742, 60.50127568, 50.60079476, 53.08601555,\n",
       "       51.5008516 , 48.23875077, 44.28740901, 48.25328639, 48.95552883,\n",
       "       52.93311596, 54.19491707, 54.65551041, 51.42793663, 54.42570582,\n",
       "       46.2280103 , 56.26434078, 52.5646491 , 48.50953582, 52.44259073,\n",
       "       49.62214143, 55.65814694, 57.59908408, 60.92787703, 43.01751832,\n",
       "       42.77943097, 47.47767069, 50.80018535, 54.38084461, 51.57817474,\n",
       "       39.88899392, 48.46897994, 54.13987321, 51.15047368, 53.8100559 ,\n",
       "       48.88835929, 48.99620966, 50.93280695, 52.05025824, 50.9914986 ,\n",
       "       50.59504323, 46.64668857, 51.88781893, 50.60910635, 55.64741954,\n",
       "       55.9945894 , 50.92578209, 48.12357525, 46.80634796, 52.11747177,\n",
       "       50.38670034, 48.28073162, 50.21798428, 46.89999578, 53.49016017])"
      ]
     },
     "execution_count": 40,
     "metadata": {},
     "output_type": "execute_result"
    }
   ],
   "source": [
    "data1"
   ]
  },
  {
   "cell_type": "code",
   "execution_count": 41,
   "metadata": {},
   "outputs": [
    {
     "data": {
      "text/plain": [
       "50.30291426037849"
      ]
     },
     "execution_count": 41,
     "metadata": {},
     "output_type": "execute_result"
    }
   ],
   "source": [
    "data1.mean()"
   ]
  },
  {
   "cell_type": "code",
   "execution_count": 42,
   "metadata": {},
   "outputs": [
    {
     "data": {
      "text/plain": [
       "(array([ 3.,  1.,  6., 17., 19., 20., 14., 12.,  5.,  3.]),\n",
       " array([38.49230652, 40.73586357, 42.97942062, 45.22297767, 47.46653472,\n",
       "        49.71009177, 51.95364883, 54.19720588, 56.44076293, 58.68431998,\n",
       "        60.92787703]),\n",
       " <BarContainer object of 10 artists>)"
      ]
     },
     "execution_count": 42,
     "metadata": {},
     "output_type": "execute_result"
    },
    {
     "data": {
      "image/png": "[encoded data removed]",
      "text/plain": [
       "<Figure size 432x288 with 1 Axes>"
      ]
     },
     "metadata": {
      "needs_background": "light"
     },
     "output_type": "display_data"
    }
   ],
   "source": [
    "plt.hist(data1, bins =10)"
   ]
  },
  {
   "cell_type": "code",
   "execution_count": 43,
   "metadata": {},
   "outputs": [
    {
     "data": {
      "text/plain": [
       "array([48.76435718, 57.12253852, 53.01745821, 53.96789262, 45.52544077,\n",
       "       51.84691217, 54.70278226, 46.23149699, 49.66890747, 51.16307273,\n",
       "       44.1344134 , 52.57579696, 55.23080324, 46.7024203 , 52.75272989,\n",
       "       44.43858294, 50.80652245, 42.92113823, 56.60708854, 53.04450269,\n",
       "       50.87691522, 47.1241919 , 57.36877965, 60.83550875, 41.71009068,\n",
       "       57.18082015, 59.13825377, 52.69005848, 45.00365984, 55.31672659,\n",
       "       50.09539849, 47.98039686, 44.84970932, 53.75268748, 54.96403433,\n",
       "       47.88234635, 53.60288169, 45.27829305, 55.00930516, 51.23283649,\n",
       "       50.06715114, 50.49127064, 55.34443079, 54.7520582 , 53.64732662,\n",
       "       51.68850605, 51.38910564, 54.09190131, 52.1624728 , 54.41275703,\n",
       "       49.44941613, 38.82581118, 56.19412301, 61.93489823, 53.20682222,\n",
       "       50.49922383, 50.31777628, 50.40472906, 51.08704704, 45.38990636,\n",
       "       48.41452771, 46.01486586, 52.24399581, 49.51679424, 53.47605662,\n",
       "       50.1264842 , 55.93167594, 52.06766951, 61.95349864, 41.51819539,\n",
       "       47.76541656, 55.50743446, 63.64162853, 49.75682611, 51.21834497,\n",
       "       49.86842879, 57.65728556, 49.56346068, 54.4003492 , 49.40099201,\n",
       "       44.63720622, 52.5677386 , 53.51592407, 57.46612941, 50.44776487,\n",
       "       47.91318968, 53.81380548, 52.20368546, 52.40332539, 50.63443648,\n",
       "       56.80169285, 52.84746358, 60.52329354, 56.55528349, 54.29524898,\n",
       "       42.8628083 , 54.0115964 , 53.10141102, 55.05475836, 56.22221047])"
      ]
     },
     "execution_count": 43,
     "metadata": {},
     "output_type": "execute_result"
    }
   ],
   "source": [
    "data2"
   ]
  },
  {
   "cell_type": "code",
   "execution_count": 44,
   "metadata": {},
   "outputs": [
    {
     "data": {
      "text/plain": [
       "51.763973888101"
      ]
     },
     "execution_count": 44,
     "metadata": {},
     "output_type": "execute_result"
    }
   ],
   "source": [
    "data2.mean()"
   ]
  },
  {
   "cell_type": "code",
   "execution_count": 45,
   "metadata": {},
   "outputs": [
    {
     "data": {
      "text/plain": [
       "(array([ 1.,  4., 10.,  7., 23., 21., 19.,  9.,  3.,  3.]),\n",
       " array([38.82581118, 41.30739291, 43.78897465, 46.27055639, 48.75213812,\n",
       "        51.23371986, 53.71530159, 56.19688333, 58.67846506, 61.1600468 ,\n",
       "        63.64162853]),\n",
       " <BarContainer object of 10 artists>)"
      ]
     },
     "execution_count": 45,
     "metadata": {},
     "output_type": "execute_result"
    },
    {
     "data": {
      "image/png": "[encoded data removed]",
      "text/plain": [
       "<Figure size 432x288 with 1 Axes>"
      ]
     },
     "metadata": {
      "needs_background": "light"
     },
     "output_type": "display_data"
    }
   ],
   "source": [
    "plt.hist(data2, bins =10)"
   ]
  },
  {
   "cell_type": "code",
   "execution_count": 50,
   "metadata": {},
   "outputs": [
    {
     "name": "stdout",
     "output_type": "stream",
     "text": [
      "t=-2.372, df=99, cv=1.660, p=0.020\n"
     ]
    }
   ],
   "source": [
    "alpha = 0.05\n",
    "t_stat, df, cv, p = dependent_ttest(data1, data2, alpha)\n",
    "print('t=%.3f, df=%d, cv=%.3f, p=%.3f' % (t_stat, df, cv, p))"
   ]
  },
  {
   "cell_type": "code",
   "execution_count": 51,
   "metadata": {},
   "outputs": [
    {
     "name": "stdout",
     "output_type": "stream",
     "text": [
      "Reject the null hypothesis that the means are equal.\n",
      "Reject the null hypothesis that the means are equal.\n"
     ]
    }
   ],
   "source": [
    "# interpret via critical value\n",
    "if abs(t_stat) <= cv:\n",
    "    print('Accept null hypothesis that the means are equal.')\n",
    "else:\n",
    "    print('Reject the null hypothesis that the means are equal.')\n",
    "# interpret via p-value\n",
    "if p > alpha:\n",
    "    print('Accept null hypothesis that the means are equal.')\n",
    "else:\n",
    "    print('Reject the null hypothesis that the means are equal.')"
   ]
  },
  {
   "cell_type": "code",
   "execution_count": null,
   "metadata": {},
   "outputs": [],
   "source": []
  }
 ],
 "metadata": {
  "kernelspec": {
   "display_name": "Python 3",
   "language": "python",
   "name": "python3"
  },
  "language_info": {
   "codemirror_mode": {
    "name": "ipython",
    "version": 3
   },
   "file_extension": ".py",
   "mimetype": "text/x-python",
   "name": "python",
   "nbconvert_exporter": "python",
   "pygments_lexer": "ipython3",
   "version": "3.8.5"
  }
 },
 "nbformat": 4,
 "nbformat_minor": 4
}
