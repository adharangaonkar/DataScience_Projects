{
 "cells": [
  {
   "cell_type": "code",
   "execution_count": 3,
   "metadata": {},
   "outputs": [],
   "source": [
    "from IPython.display import Image\n",
    "from IPython.core.display import HTML \n",
    "from scipy import stats\n",
    "import math"
   ]
  },
  {
   "cell_type": "markdown",
   "metadata": {},
   "source": [
    "## What is t-score?\n",
    "The t score is a ratio between the difference between two groups and the difference within the groups. **The larger the t score, the more difference there is between groups. The smaller the t score, the more similarity there is between groups.** A t score of 3 means that the groups are three times as different from each other as they are within each other. When you run a t test, the bigger the t-value, the more likely it is that the results are repeatable."
   ]
  },
  {
   "cell_type": "code",
   "execution_count": null,
   "metadata": {},
   "outputs": [],
   "source": []
  },
  {
   "cell_type": "markdown",
   "metadata": {},
   "source": [
    "**A large t-score tells you that the groups are different.**\n",
    "\n",
    "\n",
    "\n",
    "**A small t-score tells you that the groups are similar.**"
   ]
  },
  {
   "cell_type": "code",
   "execution_count": null,
   "metadata": {},
   "outputs": [],
   "source": []
  },
  {
   "cell_type": "markdown",
   "metadata": {},
   "source": [
    "![image info](https://miro.medium.com/max/466/1*1ZUnA4eR5J2WEGhDVPDkEw.png)"
   ]
  },
  {
   "cell_type": "markdown",
   "metadata": {},
   "source": [
    "where, Mx and My are the mean values of the two samples of male and female. <br>\n",
    "Nx and Ny are the sample space of the two samples <br>\n",
    "S is the standard deviation <br>"
   ]
  },
  {
   "cell_type": "markdown",
   "metadata": {},
   "source": [
    "## What are T-Values and P-values?\n",
    "How big is “big enough”? Every t-value has a p-value to go with it. A p-value is the probability that the results from your sample data occurred by chance. P-values are from 0% to 100%. They are usually written as a decimal. For example, a p value of 5% is 0.05. **Low p-values are good**; They indicate your data did not occur by chance. For example, a p-value of .01 means there is only a 1% probability that the results from an experiment happened by chance. In most cases, a p-value of 0.05 (5%) is accepted to mean the data is valid."
   ]
  },
  {
   "cell_type": "markdown",
   "metadata": {},
   "source": [
    "**If abs(t-statistic) <= critical value: Accept null hypothesis that the means are equal.**<br>\n",
    "**If abs(t-statistic) > critical value: Reject the null hypothesis that the means are equal.**"
   ]
  },
  {
   "cell_type": "markdown",
   "metadata": {},
   "source": [
    "We can also retrieve the cumulative probability of observing the absolute value of the t-statistic using the cumulative distribution function (CDF) of the t-distribution in order to calculate a p-value. The p-value can then be compared to a chosen significance level (alpha) such as 0.05 to determine if the null hypothesis can be rejected:"
   ]
  },
  {
   "cell_type": "markdown",
   "metadata": {},
   "source": [
    "**If p > alpha: Accept null hypothesis that the means are equal.**<bR>\n",
    "**If p <= alpha: Reject null hypothesis that the means are equal.**"
   ]
  },
  {
   "cell_type": "markdown",
   "metadata": {},
   "source": [
    "### Assumptions"
   ]
  },
  {
   "cell_type": "markdown",
   "metadata": {},
   "source": [
    "1. Both samples were drawn from a Gaussian distribution\n",
    "2. the samples have the same variance, and the same size"
   ]
  },
  {
   "cell_type": "markdown",
   "metadata": {},
   "source": [
    "Although there are corrections to the test if these assumptions do not hold"
   ]
  },
  {
   "cell_type": "markdown",
   "metadata": {},
   "source": [
    "**There are two main versions of Student’s t-test:**"
   ]
  },
  {
   "cell_type": "markdown",
   "metadata": {},
   "source": [
    "1. Independent Samples. The case where the two samples are unrelated.<br>\n",
    "2. Dependent Samples. The case where the samples are related, such as repeated measures on the same population. Also called a paired test."
   ]
  },
  {
   "cell_type": "markdown",
   "metadata": {},
   "source": [
    "## Independent Samples"
   ]
  },
  {
   "cell_type": "markdown",
   "metadata": {},
   "source": [
    "### Calculation"
   ]
  },
  {
   "cell_type": "code",
   "execution_count": 4,
   "metadata": {},
   "outputs": [
    {
     "data": {
      "text/plain": [
       "'\\nt = observed difference between sample means / standard error of the difference between the means\\nor\\nt = (mean(X1) - mean(X2)) / sed\\n\\nsed: standard error\\nWhere se1 and se2 are the standard errors for the first and second datasets.\\n\\nsed = sqrt(se1^2 + se2^2)\\n\\nThe standard error of a sample can be calculated as:\\nse = std / sqrt(n)\\n\\nWhere se is the standard error of the sample, \\nstd is the sample standard deviation, \\nand n is the number of observations in the sample.\\n\\n'"
      ]
     },
     "execution_count": 4,
     "metadata": {},
     "output_type": "execute_result"
    }
   ],
   "source": [
    "\"\"\"\n",
    "t = observed difference between sample means / standard error of the difference between the means\n",
    "or\n",
    "t = (mean(X1) - mean(X2)) / sed\n",
    "\n",
    "sed: standard error\n",
    "Where se1 and se2 are the standard errors for the first and second datasets.\n",
    "\n",
    "sed = sqrt(se1^2 + se2^2)\n",
    "\n",
    "The standard error of a sample can be calculated as:\n",
    "se = std / sqrt(n)\n",
    "\n",
    "Where se is the standard error of the sample, \n",
    "std is the sample standard deviation, \n",
    "and n is the number of observations in the sample.\n",
    "\n",
    "\"\"\""
   ]
  },
  {
   "cell_type": "markdown",
   "metadata": {},
   "source": [
    "### Implementation"
   ]
  },
  {
   "cell_type": "code",
   "execution_count": 5,
   "metadata": {},
   "outputs": [],
   "source": [
    "# # calculate means\n",
    "# mean1, mean2 = mean(data1), mean(data2)\n",
    "\n",
    "\n",
    "# # calculate sample standard deviations\n",
    "# std1, std2 = std(data1, ddof=1), std(data2, ddof=1)\n",
    "\n",
    "\n",
    "# # calculate standard errors\n",
    "# n1, n2 = len(data1), len(data2)\n",
    "# se1, se2 = std1/sqrt(n1), std2/sqrt(n2)\n",
    "\n",
    "\n",
    "# #Alternately, we can use the sem() SciPy function to calculate the standard error directly.\n",
    "# # calculate standard errors\n",
    "# se1, se2 = sem(data1), sem(data2)\n",
    "\n",
    "\n",
    "# #We can use the standard errors of the samples to calculate the “standard error on the difference between the samples“:\n",
    "# # standard error on the difference between the samples\n",
    "# sed = sqrt(se1**2.0 + se2**2.0)\n",
    "\n",
    "# #We can now calculate the t statistic:\n",
    "# t_stat = (mean1 - mean2) / sed\n",
    "\n",
    "# #We can also calculate some other values to help interpret and present the statistic.\n",
    "# #The number of degrees of freedom for the test is calculated as the sum of the observations in both samples, minus two.\n",
    "# df = n1 + n2 - 2\n",
    "\n",
    "# #The critical value can be calculated using the percent point function (PPF) for a given significance level, \n",
    "# #such as 0.05 (95% confidence).\n",
    "# # calculate the critical value\n",
    "# alpha = 0.05\n",
    "# cv = t.ppf(1.0 - alpha, df)\n",
    "\n",
    "\n",
    "# # calculate the p-value\n",
    "# p = (1 - t.cdf(abs(t_stat), df)) * 2\n",
    "\n",
    "# #Here, we assume a two-tailed distribution,\n",
    "# #where the rejection of the null hypothesis could be interpreted\n",
    "# #as the first mean is either smaller or larger than the second mean."
   ]
  },
  {
   "cell_type": "code",
   "execution_count": 6,
   "metadata": {},
   "outputs": [],
   "source": [
    "# function for calculating the t-test for two independent samples\n",
    "def independent_ttest(data1, data2, alpha):\n",
    " # calculate means\n",
    " mean1, mean2 = data1.mean(),data2.mean()\n",
    " # calculate standard errors\n",
    " se1, se2 = stats.sem(data1), stats.sem(data2)\n",
    " # standard error on the difference between the samples\n",
    " sed = np.sqrt(se1**2.0 + se2**2.0)\n",
    " # calculate the t statistic\n",
    " t_stat = (mean1 - mean2) / sed\n",
    " # degrees of freedom\n",
    " df = len(data1) + len(data2) - 2\n",
    " # calculate the critical value\n",
    " cv = stats.t.ppf(1.0 - alpha, df)\n",
    " # calculate the p-value\n",
    " p = (1.0 - stats.t.cdf(abs(t_stat), df)) * 2.0\n",
    " # return everything\n",
    " return t_stat, df, cv, p"
   ]
  },
  {
   "cell_type": "markdown",
   "metadata": {},
   "source": [
    "### Worked Example"
   ]
  },
  {
   "cell_type": "markdown",
   "metadata": {},
   "source": [
    "In this section we will calculate the t-test on some synthetic data samples.<br>\n",
    "\n",
    "First, let’s generate two samples of 100 Gaussian random numbers with the same variance of 5 and differing means of 50 and 51 respectively.<br> We will expect the test to reject the null hypothesis and find a significant difference between the samples:"
   ]
  },
  {
   "cell_type": "code",
   "execution_count": 7,
   "metadata": {},
   "outputs": [],
   "source": [
    "# Student's t-test for independent samples\n",
    "from numpy.random import seed\n",
    "from numpy.random import randn\n",
    "from scipy.stats import ttest_ind\n",
    "import matplotlib.pyplot as plt\n",
    "import numpy as np\n",
    "# seed the random number generator\n",
    "seed(1)\n",
    "# generate two independent samples\n",
    "data1 = 5 * randn(100) + 50\n",
    "data2 = 5 * randn(100) + 51"
   ]
  },
  {
   "cell_type": "code",
   "execution_count": 8,
   "metadata": {
    "scrolled": true
   },
   "outputs": [
    {
     "data": {
      "text/plain": [
       "(array([ 3.,  1.,  6., 17., 19., 20., 14., 12.,  5.,  3.]),\n",
       " array([38.49230652, 40.73586357, 42.97942062, 45.22297767, 47.46653472,\n",
       "        49.71009177, 51.95364883, 54.19720588, 56.44076293, 58.68431998,\n",
       "        60.92787703]),\n",
       " <BarContainer object of 10 artists>)"
      ]
     },
     "execution_count": 8,
     "metadata": {},
     "output_type": "execute_result"
    },
    {
     "data": {
      "image/png": "[encoded data removed]",
      "text/plain": [
       "<Figure size 432x288 with 1 Axes>"
      ]
     },
     "metadata": {
      "needs_background": "light"
     },
     "output_type": "display_data"
    }
   ],
   "source": [
    "plt.hist(data1, bins=10)"
   ]
  },
  {
   "cell_type": "code",
   "execution_count": 9,
   "metadata": {},
   "outputs": [
    {
     "data": {
      "text/plain": [
       "50.30291426037849"
      ]
     },
     "execution_count": 9,
     "metadata": {},
     "output_type": "execute_result"
    }
   ],
   "source": [
    "data1.mean()"
   ]
  },
  {
   "cell_type": "code",
   "execution_count": 10,
   "metadata": {},
   "outputs": [
    {
     "data": {
      "text/plain": [
       "(array([ 1.,  4., 10.,  7., 23., 21., 19.,  9.,  3.,  3.]),\n",
       " array([38.82581118, 41.30739291, 43.78897465, 46.27055639, 48.75213812,\n",
       "        51.23371986, 53.71530159, 56.19688333, 58.67846506, 61.1600468 ,\n",
       "        63.64162853]),\n",
       " <BarContainer object of 10 artists>)"
      ]
     },
     "execution_count": 10,
     "metadata": {},
     "output_type": "execute_result"
    },
    {
     "data": {
      "image/png": "[encoded data removed]",
      "text/plain": [
       "<Figure size 432x288 with 1 Axes>"
      ]
     },
     "metadata": {
      "needs_background": "light"
     },
     "output_type": "display_data"
    }
   ],
   "source": [
    "plt.hist(data2, bins=10)"
   ]
  },
  {
   "cell_type": "code",
   "execution_count": 11,
   "metadata": {},
   "outputs": [
    {
     "data": {
      "text/plain": [
       "51.763973888101"
      ]
     },
     "execution_count": 11,
     "metadata": {},
     "output_type": "execute_result"
    }
   ],
   "source": [
    "data2.mean()"
   ]
  },
  {
   "cell_type": "code",
   "execution_count": null,
   "metadata": {},
   "outputs": [],
   "source": []
  },
  {
   "cell_type": "markdown",
   "metadata": {},
   "source": [
    "**Lets test our function**"
   ]
  },
  {
   "cell_type": "code",
   "execution_count": 12,
   "metadata": {},
   "outputs": [],
   "source": [
    "alpha = 0.05\n",
    "t_stat, df, cv, p = independent_ttest(data1, data2, alpha)"
   ]
  },
  {
   "cell_type": "code",
   "execution_count": 13,
   "metadata": {},
   "outputs": [
    {
     "name": "stdout",
     "output_type": "stream",
     "text": [
      "t=-2.262, df=198, cv=1.653, p=0.025\n"
     ]
    }
   ],
   "source": [
    "print('t=%.3f, df=%d, cv=%.3f, p=%.3f' % (t_stat, df, cv, p))"
   ]
  },
  {
   "cell_type": "code",
   "execution_count": 14,
   "metadata": {},
   "outputs": [
    {
     "name": "stdout",
     "output_type": "stream",
     "text": [
      "Reject the null hypothesis that the means are equal.\n"
     ]
    }
   ],
   "source": [
    "# interpret via critical value\n",
    "if abs(t_stat) <= cv:\n",
    " print('Accept null hypothesis that the means are equal.')\n",
    "else:\n",
    " print('Reject the null hypothesis that the means are equal.')"
   ]
  },
  {
   "cell_type": "code",
   "execution_count": 15,
   "metadata": {},
   "outputs": [
    {
     "name": "stdout",
     "output_type": "stream",
     "text": [
      "Reject the null hypothesis that the means are equal.\n"
     ]
    }
   ],
   "source": [
    "# interpret via p-value\n",
    "if p > alpha:\n",
    " print('Accept null hypothesis that the means are equal.')\n",
    "else:\n",
    " print('Reject the null hypothesis that the means are equal.')"
   ]
  },
  {
   "cell_type": "markdown",
   "metadata": {},
   "source": [
    "\n",
    "The t-statistic and the p-value are then used to interpret the results of the test. We find that as we expect, there is sufficient evidence to reject the null hypothesis, finding that the sample means are likely different.\n",
    "\n"
   ]
  },
  {
   "cell_type": "code",
   "execution_count": null,
   "metadata": {},
   "outputs": [],
   "source": []
  }
 ],
 "metadata": {
  "kernelspec": {
   "display_name": "Python 3",
   "language": "python",
   "name": "python3"
  },
  "language_info": {
   "codemirror_mode": {
    "name": "ipython",
    "version": 3
   },
   "file_extension": ".py",
   "mimetype": "text/x-python",
   "name": "python",
   "nbconvert_exporter": "python",
   "pygments_lexer": "ipython3",
   "version": "3.8.5"
  }
 },
 "nbformat": 4,
 "nbformat_minor": 4
}
