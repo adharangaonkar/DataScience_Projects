{
 "cells": [
  {
   "cell_type": "markdown",
   "metadata": {},
   "source": [
    "# Getting the file path for all the Images"
   ]
  },
  {
   "cell_type": "code",
   "execution_count": 29,
   "metadata": {},
   "outputs": [],
   "source": [
    "from IPython.display import Image\n",
    "from os import listdir\n",
    "from os.path import isfile, join\n",
    "from PIL import Image as pili, ImageOps as piliops\n",
    "from PIL import Image as pili, ImageDraw as pild, ImageFont as pilf\n",
    "from PIL import Image, ImageFont, ImageDraw\n",
    "import pandas as pd\n",
    "mypath = 'toons/test/'\n",
    "filepath = ['toons/test/'+f for f in listdir(mypath) if isfile(join(mypath, f))]\n",
    "mypath1 = 'toons/border/'\n",
    "filepath1 = ['toons/border/'+f for f in listdir(mypath1) if isfile(join(mypath1, f))]\n",
    "length = len(filepath)\n",
    "i=0\n",
    "while i<length:\n",
    "    piliops.expand(pili.open(filepath[i]),border=(30,30),fill='black').save(filepath1[i])\n",
    "    i += 1"
   ]
  },
  {
   "cell_type": "markdown",
   "metadata": {},
   "source": [
    "Check the border folder for all the bordered Images"
   ]
  },
  {
   "cell_type": "markdown",
   "metadata": {},
   "source": [
    "Reading the script saved in a csv file scripttt.csv"
   ]
  },
  {
   "cell_type": "code",
   "execution_count": 21,
   "metadata": {},
   "outputs": [
    {
     "data": {
      "text/plain": [
       "100"
      ]
     },
     "execution_count": 21,
     "metadata": {},
     "output_type": "execute_result"
    }
   ],
   "source": [
    "df = pd.read_csv('toons/scripttt.csv')\n",
    "len(df)"
   ]
  },
  {
   "cell_type": "markdown",
   "metadata": {},
   "source": [
    "# Added Border to all the Images"
   ]
  },
  {
   "cell_type": "markdown",
   "metadata": {},
   "source": [
    "# Taking Input from the CSV and adding it to the Images"
   ]
  },
  {
   "cell_type": "code",
   "execution_count": 45,
   "metadata": {},
   "outputs": [
    {
     "name": "stdout",
     "output_type": "stream",
     "text": [
      "2 50 50\n",
      "1 50 50\n",
      "1 50 50\n",
      "1 50 50\n",
      "1 50 50\n",
      "1 50 50\n",
      "1 50 50\n",
      "2 50 50\n",
      "1 50 50\n",
      "1 50 50\n",
      "1 50 50\n",
      "1 50 50\n",
      "2 50 50\n",
      "1 50 50\n",
      "1 50 50\n",
      "1 50 50\n",
      "1 50 50\n",
      "2 50 50\n",
      "1 50 50\n",
      "1 50 50\n",
      "3 50 50\n",
      "1 50 50\n",
      "2 50 50\n",
      "1 50 50\n",
      "1 50 50\n",
      "1 50 50\n",
      "2 50 50\n",
      "1 50 50\n",
      "1 50 50\n",
      "3 50 50\n",
      "1 50 50\n",
      "1 50 50\n",
      "1 50 50\n",
      "2 50 50\n",
      "2 50 50\n",
      "2 50 50\n",
      "2 50 50\n",
      "1 50 50\n",
      "1 50 50\n",
      "1 50 50\n",
      "3 50 50\n",
      "1 50 50\n",
      "2 50 50\n",
      "2 50 50\n",
      "2 50 50\n",
      "1 50 50\n",
      "2 50 50\n",
      "2 50 50\n",
      "1 50 50\n",
      "4 50 50\n",
      "1 50 50\n",
      "3 50 50\n",
      "2 50 50\n",
      "1 50 50\n",
      "2 50 50\n",
      "2 50 50\n",
      "4 50 50\n",
      "3 50 50\n",
      "1 50 50\n",
      "4 50 50\n",
      "1 50 50\n",
      "4 50 50\n",
      "5 50 50\n",
      "1 50 50\n",
      "2 50 50\n",
      "2 50 50\n",
      "1 50 50\n",
      "3 50 50\n",
      "4 50 50\n",
      "2 50 50\n",
      "2 50 50\n",
      "1 50 50\n",
      "1 50 50\n",
      "1 50 50\n",
      "2 50 50\n",
      "1 50 50\n",
      "1 50 50\n",
      "2 50 50\n",
      "2 50 50\n",
      "2 50 50\n",
      "1 50 50\n",
      "1 50 50\n",
      "1 50 50\n",
      "3 50 50\n",
      "1 50 50\n",
      "2 50 50\n",
      "1 50 50\n",
      "1 50 50\n",
      "2 50 50\n",
      "1 50 50\n",
      "1 50 50\n",
      "1 50 50\n",
      "1 50 50\n",
      "1 50 50\n",
      "1 50 50\n",
      "1 50 50\n",
      "2 50 50\n",
      "1 50 50\n",
      "2 50 50\n",
      "1 50 50\n",
      "Check the woow folder for comic images\n"
     ]
    }
   ],
   "source": [
    "from IPython.display import Image\n",
    "from os import listdir\n",
    "from os.path import isfile, join\n",
    "from PIL import Image as pili, ImageOps as piliops\n",
    "from PIL import Image as pili, ImageDraw as pild, ImageFont as pilf\n",
    "from PIL import Image, ImageFont, ImageDraw\n",
    "import pandas as pd\n",
    "df = pd.read_csv('toons/scripttt.csv')\n",
    "mypath = 'toons/test/'\n",
    "filepath = ['toons/test/'+f for f in listdir(mypath) if isfile(join(mypath, f))]\n",
    "mypath1 = 'toons/border/'\n",
    "filepath1 = ['toons/border/'+f for f in listdir(mypath1) if isfile(join(mypath1, f))]\n",
    "mypath2 = 'toons/woow/'\n",
    "filepath2 = ['toons/woow/'+f for f in listdir(mypath2) if isfile(join(mypath2, f))]\n",
    "length = len(filepath)\n",
    "i=0\n",
    "while i<length:\n",
    "    caption = df.values[i][0]\n",
    "    TINT_COLOR = (0, 0, 0)  # Black\n",
    "    TRANSPARENCY = .75  # Degree of transparency, 0-100%\n",
    "    OPACITY = int(255 * TRANSPARENCY)\n",
    "    img = pili.open(filepath1[i]).convert('RGBA')\n",
    "    overlay = pili.new('RGBA', img.size, TINT_COLOR+(0,))\n",
    "    draw = pild.Draw(overlay)\n",
    "    font = pilf.truetype(\"corbel.ttf\", 100)\n",
    "    #x, y = (img.width - 510, img.height-100)\n",
    "    text = caption\n",
    "    w, h = font.getsize(text)\n",
    "    num_lines = len(text.split('\\n'))\n",
    "    print(num_lines, 50, 50)\n",
    "    x, y = 105, img.height - (((num_lines-0.1*num_lines)*h)+100)\n",
    "    #draw.rectangle((x, y, x + w, y + h), fill='black')\n",
    "    #draw.rectangle((x, y, x + w, y + 4*h), fill=TINT_COLOR+(OPACITY,))\n",
    "    draw.rectangle((x, y, x + img.width - 200, y + (num_lines-0.1*num_lines)*h), fill=TINT_COLOR+(OPACITY,))\n",
    "    draw.text((x, y), text, fill=(255, 255, 255), font=font)\n",
    "    # Alpha composite these two images together to obtain the desired result.\n",
    "    img = pili.alpha_composite(img, overlay)\n",
    "    img = img.convert(\"RGB\") # Remove alpha for saving in jpg format.\n",
    "    img.save(filepath2[i])\n",
    "    i += 1\n",
    "print('Check the woow folder for comic images')    "
   ]
  },
  {
   "cell_type": "code",
   "execution_count": 40,
   "metadata": {},
   "outputs": [
    {
     "data": {
      "text/plain": [
       "100"
      ]
     },
     "execution_count": 40,
     "metadata": {},
     "output_type": "execute_result"
    }
   ],
   "source": [
    "len(df)"
   ]
  },
  {
   "cell_type": "code",
   "execution_count": 59,
   "metadata": {},
   "outputs": [
    {
     "data": {
      "text/plain": [
       "100"
      ]
     },
     "execution_count": 59,
     "metadata": {},
     "output_type": "execute_result"
    }
   ],
   "source": [
    "len(filepath)"
   ]
  },
  {
   "cell_type": "code",
   "execution_count": 42,
   "metadata": {},
   "outputs": [
    {
     "data": {
      "text/plain": [
       "100"
      ]
     },
     "execution_count": 42,
     "metadata": {},
     "output_type": "execute_result"
    }
   ],
   "source": [
    "len(filepath1)"
   ]
  },
  {
   "cell_type": "code",
   "execution_count": 43,
   "metadata": {},
   "outputs": [
    {
     "data": {
      "text/plain": [
       "100"
      ]
     },
     "execution_count": 43,
     "metadata": {},
     "output_type": "execute_result"
    }
   ],
   "source": [
    "len(filepath2)"
   ]
  },
  {
   "cell_type": "markdown",
   "metadata": {},
   "source": [
    "# Adding Images to form an Horizontal Strip"
   ]
  },
  {
   "cell_type": "code",
   "execution_count": 46,
   "metadata": {},
   "outputs": [
    {
     "name": "stderr",
     "output_type": "stream",
     "text": [
      "C:\\Users\\adhar\\Anaconda3\\lib\\site-packages\\ipykernel_launcher.py:27: FutureWarning: arrays to stack must be passed as a \"sequence\" type such as list or tuple. Support for non-sequence iterables such as generators is deprecated as of NumPy 1.16 and will raise an error in the future.\n"
     ]
    },
    {
     "name": "stdout",
     "output_type": "stream",
     "text": [
      "['toons/woow/a1.png', 'toons/woow/a2.png', 'toons/woow/a3.png', 'toons/woow/a4.png']\n",
      "['toons/woow/a5.png', 'toons/woow/a6.png', 'toons/woow/a8.png', 'toons/woow/a9.png', 'toons/woow/b1.png']\n",
      "['toons/woow/b2.png', 'toons/woow/b3.png', 'toons/woow/b4.png', 'toons/woow/b5.png']\n",
      "['toons/woow/b6.png', 'toons/woow/b7.png', 'toons/woow/b8.png', 'toons/woow/b9.png', 'toons/woow/c1.png']\n",
      "['toons/woow/c2.png', 'toons/woow/c3.png', 'toons/woow/c4.png', 'toons/woow/c5.png']\n",
      "['toons/woow/c6.png', 'toons/woow/c7.png', 'toons/woow/c8.jpg', 'toons/woow/c9.jpg']\n",
      "['toons/woow/d1.jpg', 'toons/woow/d2.jpg', 'toons/woow/d3.jpg', 'toons/woow/d4.jpg', 'toons/woow/d5.jpg']\n",
      "['toons/woow/d6.jpg', 'toons/woow/d7.jpg', 'toons/woow/d8.jpg', 'toons/woow/d9.jpg']\n",
      "['toons/woow/e1.jpg', 'toons/woow/e2.jpg', 'toons/woow/e3.png', 'toons/woow/e4.png', 'toons/woow/e5.jpg']\n",
      "['toons/woow/e6.jpg', 'toons/woow/e7.jpg', 'toons/woow/e8.jpg', 'toons/woow/e9.jpg']\n",
      "['toons/woow/f1.jpg', 'toons/woow/f2.jpg', 'toons/woow/f3.jpg', 'toons/woow/f4.jpg']\n",
      "['toons/woow/f5.jpg', 'toons/woow/f6.jpg', 'toons/woow/f7.jpg', 'toons/woow/f8.jpg', 'toons/woow/f9.jpg']\n",
      "['toons/woow/g1.jpg', 'toons/woow/g2.jpg', 'toons/woow/g3.png', 'toons/woow/g4.png']\n",
      "['toons/woow/g5.png', 'toons/woow/g6.jpg', 'toons/woow/g7.png', 'toons/woow/g8.jpg', 'toons/woow/g9.png']\n",
      "['toons/woow/h1.jpg', 'toons/woow/h2.png', 'toons/woow/h3.png', 'toons/woow/h4.png']\n",
      "['toons/woow/h5.png', 'toons/woow/h6.png', 'toons/woow/h7.png', 'toons/woow/h8.png']\n",
      "['toons/woow/h9.png', 'toons/woow/i1.png', 'toons/woow/i2.jpg', 'toons/woow/i3.png', 'toons/woow/i4.png']\n",
      "['toons/woow/i5.png', 'toons/woow/i6.png', 'toons/woow/i7.png', 'toons/woow/i8.png']\n",
      "['toons/woow/i9.png', 'toons/woow/j1.png', 'toons/woow/j2.png', 'toons/woow/j3.png', 'toons/woow/j4.jpg']\n",
      "['toons/woow/j5.jpg', 'toons/woow/j6.jpg', 'toons/woow/j7.jpg', 'toons/woow/j8.jpg']\n",
      "['toons/woow/j9.jpg', 'toons/woow/k1.jpg', 'toons/woow/k2.jpg', 'toons/woow/k3.jpg']\n",
      "['toons/woow/k4.jpg', 'toons/woow/k5.jpg', 'toons/woow/k6.jpg', 'toons/woow/k7.jpg', 'toons/woow/k8.jpg']\n",
      "['toons/woow/k9.jpg', 'toons/woow/l1.jpg', 'toons/woow/l2.png']\n"
     ]
    }
   ],
   "source": [
    "import numpy as np\n",
    "import PIL\n",
    "from PIL import Image as pili, ImageOps as piliops\n",
    "from PIL import Image as pili, ImageDraw as pild, ImageFont as pilf\n",
    "from PIL import Image, ImageFont, ImageDraw\n",
    "from os import listdir\n",
    "from os.path import isfile, join\n",
    "from PIL import Image\n",
    "from fpdf import FPDF\n",
    "mypath2 = 'toons/woow'\n",
    "onlyfiles2 = ['toons/woow/'+f for f in listdir(mypath2) if isfile(join(mypath2, f))]\n",
    "list_im = onlyfiles2\n",
    "Alist = []\n",
    "filename = 1\n",
    "list_im\n",
    "while 0 < len(list_im):\n",
    "    lines = 0\n",
    "    num_cols = old_num_cols = 0\n",
    "    while lines < 5 and 0 < len(list_im):\n",
    "        lines += 1\n",
    "        while num_cols == old_num_cols:\n",
    "            num_cols = np.random.randint(4, 6)\n",
    "        old_num_cols = num_cols\n",
    "        window = list_im[:num_cols]\n",
    "        imgs    = [ PIL.Image.open(i) for i in window ]\n",
    "        min_shape = sorted( [(np.sum(i.size), i.size ) for i in imgs])[0][1]\n",
    "        imgs_comb = np.hstack( (np.asarray( i.resize(min_shape) ) for i in imgs ) )\n",
    "        imgs_comb = PIL.Image.fromarray( imgs_comb)\n",
    "        imgs_comb.save( 'toons/row/'+str(filename)+'.jpg' )\n",
    "        filename += 1\n",
    "        print(window)\n",
    "        list_im = list_im[num_cols:]"
   ]
  },
  {
   "cell_type": "markdown",
   "metadata": {},
   "source": [
    "# Adding Horizontal Strips to make a single Page"
   ]
  },
  {
   "cell_type": "code",
   "execution_count": 52,
   "metadata": {},
   "outputs": [
    {
     "data": {
      "text/plain": [
       "''"
      ]
     },
     "execution_count": 52,
     "metadata": {},
     "output_type": "execute_result"
    }
   ],
   "source": [
    "import numpy as np\n",
    "from PIL import Image as pili, ImageOps as piliops\n",
    "from PIL import Image as pili, ImageDraw as pild, ImageFont as pilf\n",
    "from PIL import Image, ImageFont, ImageDraw\n",
    "from os import listdir\n",
    "from os.path import isfile, join\n",
    "from PIL import Image\n",
    "from fpdf import FPDF\n",
    "# pdf = FPDF()\n",
    "cover = Image.open('toons/row/3.JPG')\n",
    "width, height = cover.size\n",
    "pdf = FPDF(unit = \"pt\", format = [width, height])\n",
    "# imagelist is the list with all image filenames\n",
    "imagelist = ['toons/row/1.jpg',\n",
    "             'toons/row/2.jpg',\n",
    "             'toons/row/3.jpg',\n",
    "             'toons/row/4.jpg'\n",
    "            ]\n",
    "for image in imagelist:\n",
    "    pdf.add_page()\n",
    "    pdf.image(image, 0, 0, width, height)\n",
    "pdf.output(\"toons/row/page1.pdf\", \"F\")"
   ]
  },
  {
   "cell_type": "code",
   "execution_count": 54,
   "metadata": {},
   "outputs": [
    {
     "data": {
      "text/plain": [
       "''"
      ]
     },
     "execution_count": 54,
     "metadata": {},
     "output_type": "execute_result"
    }
   ],
   "source": [
    "import numpy as np\n",
    "from PIL import Image as pili, ImageOps as piliops\n",
    "from PIL import Image as pili, ImageDraw as pild, ImageFont as pilf\n",
    "from PIL import Image, ImageFont, ImageDraw\n",
    "from os import listdir\n",
    "from os.path import isfile, join\n",
    "from PIL import Image\n",
    "from fpdf import FPDF\n",
    "# pdf = FPDF()\n",
    "cover = Image.open('toons/row/3.JPG')\n",
    "width, height = cover.size\n",
    "pdf = FPDF(unit = \"pt\", format = [width, height])\n",
    "# imagelist is the list with all image filenames\n",
    "imagelist = ['toons/row/5.jpg',\n",
    "             'toons/row/6.jpg',\n",
    "             'toons/row/7.jpg',\n",
    "             'toons/row/8.jpg'\n",
    "            ]\n",
    "for image in imagelist:\n",
    "    pdf.add_page()\n",
    "    pdf.image(image, 0, 0, width, height)\n",
    "pdf.output(\"toons/row/page2.pdf\", \"F\")"
   ]
  },
  {
   "cell_type": "code",
   "execution_count": 55,
   "metadata": {},
   "outputs": [
    {
     "data": {
      "text/plain": [
       "''"
      ]
     },
     "execution_count": 55,
     "metadata": {},
     "output_type": "execute_result"
    }
   ],
   "source": [
    "import numpy as np\n",
    "from PIL import Image as pili, ImageOps as piliops\n",
    "from PIL import Image as pili, ImageDraw as pild, ImageFont as pilf\n",
    "from PIL import Image, ImageFont, ImageDraw\n",
    "from os import listdir\n",
    "from os.path import isfile, join\n",
    "from PIL import Image\n",
    "from fpdf import FPDF\n",
    "# pdf = FPDF()\n",
    "cover = Image.open('toons/row/3.JPG')\n",
    "width, height = cover.size\n",
    "pdf = FPDF(unit = \"pt\", format = [width, height])\n",
    "# imagelist is the list with all image filenames\n",
    "imagelist = ['toons/row/9.jpg',\n",
    "             'toons/row/10.jpg',\n",
    "             'toons/row/11.jpg',\n",
    "             'toons/row/12.jpg'\n",
    "            ]\n",
    "for image in imagelist:\n",
    "    pdf.add_page()\n",
    "    pdf.image(image, 0, 0, width, height)\n",
    "pdf.output(\"toons/row/page3.pdf\", \"F\")"
   ]
  },
  {
   "cell_type": "code",
   "execution_count": 56,
   "metadata": {},
   "outputs": [
    {
     "data": {
      "text/plain": [
       "''"
      ]
     },
     "execution_count": 56,
     "metadata": {},
     "output_type": "execute_result"
    }
   ],
   "source": [
    "import numpy as np\n",
    "from PIL import Image as pili, ImageOps as piliops\n",
    "from PIL import Image as pili, ImageDraw as pild, ImageFont as pilf\n",
    "from PIL import Image, ImageFont, ImageDraw\n",
    "from os import listdir\n",
    "from os.path import isfile, join\n",
    "from PIL import Image\n",
    "from fpdf import FPDF\n",
    "# pdf = FPDF()\n",
    "cover = Image.open('toons/row/3.JPG')\n",
    "width, height = cover.size\n",
    "pdf = FPDF(unit = \"pt\", format = [width, height])\n",
    "# imagelist is the list with all image filenames\n",
    "imagelist = ['toons/row/13.jpg',\n",
    "             'toons/row/14.jpg',\n",
    "             'toons/row/15.jpg',\n",
    "             'toons/row/16.jpg'\n",
    "            ]\n",
    "for image in imagelist:\n",
    "    pdf.add_page()\n",
    "    pdf.image(image, 0, 0, width, height)\n",
    "pdf.output(\"toons/row/page4.pdf\", \"F\")"
   ]
  },
  {
   "cell_type": "code",
   "execution_count": 57,
   "metadata": {},
   "outputs": [
    {
     "data": {
      "text/plain": [
       "''"
      ]
     },
     "execution_count": 57,
     "metadata": {},
     "output_type": "execute_result"
    }
   ],
   "source": [
    "import numpy as np\n",
    "from PIL import Image as pili, ImageOps as piliops\n",
    "from PIL import Image as pili, ImageDraw as pild, ImageFont as pilf\n",
    "from PIL import Image, ImageFont, ImageDraw\n",
    "from os import listdir\n",
    "from os.path import isfile, join\n",
    "from PIL import Image\n",
    "from fpdf import FPDF\n",
    "# pdf = FPDF()\n",
    "cover = Image.open('toons/row/3.JPG')\n",
    "width, height = cover.size\n",
    "pdf = FPDF(unit = \"pt\", format = [width, height])\n",
    "# imagelist is the list with all image filenames\n",
    "imagelist = ['toons/row/17.jpg',\n",
    "             'toons/row/18.jpg',\n",
    "             'toons/row/19.jpg',\n",
    "             'toons/row/20.jpg'\n",
    "            ]\n",
    "for image in imagelist:\n",
    "    pdf.add_page()\n",
    "    pdf.image(image, 0, 0, width, height)\n",
    "pdf.output(\"toons/row/page5.pdf\", \"F\")"
   ]
  },
  {
   "cell_type": "code",
   "execution_count": 58,
   "metadata": {},
   "outputs": [
    {
     "data": {
      "text/plain": [
       "''"
      ]
     },
     "execution_count": 58,
     "metadata": {},
     "output_type": "execute_result"
    }
   ],
   "source": [
    "import numpy as np\n",
    "from PIL import Image as pili, ImageOps as piliops\n",
    "from PIL import Image as pili, ImageDraw as pild, ImageFont as pilf\n",
    "from PIL import Image, ImageFont, ImageDraw\n",
    "from os import listdir\n",
    "from os.path import isfile, join\n",
    "from PIL import Image\n",
    "from fpdf import FPDF\n",
    "# pdf = FPDF()\n",
    "cover = Image.open('toons/row/3.JPG')\n",
    "width, height = cover.size\n",
    "pdf = FPDF(unit = \"pt\", format = [width, height])\n",
    "# imagelist is the list with all image filenames\n",
    "imagelist = ['toons/row/21.jpg',\n",
    "             'toons/row/22.jpg',\n",
    "             'toons/row/23.jpg'\n",
    "            ]\n",
    "for image in imagelist:\n",
    "    pdf.add_page()\n",
    "    pdf.image(image, 0, 0, width, height)\n",
    "pdf.output(\"toons/row/page6.pdf\", \"F\")"
   ]
  },
  {
   "cell_type": "markdown",
   "metadata": {},
   "source": [
    "We now have 6 pages of comics\n"
   ]
  },
  {
   "cell_type": "code",
   "execution_count": null,
   "metadata": {},
   "outputs": [],
   "source": []
  }
 ],
 "metadata": {
  "kernelspec": {
   "display_name": "Python 3",
   "language": "python",
   "name": "python3"
  },
  "language_info": {
   "codemirror_mode": {
    "name": "ipython",
    "version": 3
   },
   "file_extension": ".py",
   "mimetype": "text/x-python",
   "name": "python",
   "nbconvert_exporter": "python",
   "pygments_lexer": "ipython3",
   "version": "3.7.4"
  }
 },
 "nbformat": 4,
 "nbformat_minor": 2
}
