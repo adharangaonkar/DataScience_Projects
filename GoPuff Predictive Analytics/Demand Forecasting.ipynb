{
 "cells": [
  {
   "cell_type": "code",
   "execution_count": 2,
   "id": "bbe3ea0e",
   "metadata": {},
   "outputs": [],
   "source": [
    "# Import necessary libraries and make necessary arrangements\n",
    "import time\n",
    "import numpy as np\n",
    "import pandas as pd\n",
    "from matplotlib import pyplot as plt\n",
    "import seaborn as sns\n",
    "\n",
    "import warnings\n",
    "from sklearn.preprocessing import LabelEncoder\n",
    "\n",
    "pd.set_option('display.max_columns', None)\n",
    "pd.set_option('display.width', 500)\n",
    "warnings.filterwarnings('ignore')"
   ]
  },
  {
   "cell_type": "code",
   "execution_count": 9,
   "id": "331e8c20",
   "metadata": {},
   "outputs": [],
   "source": [
    "df = pd.read_excel(\"data/orders_by_location.xlsx\")"
   ]
  },
  {
   "cell_type": "code",
   "execution_count": 10,
   "id": "117f36fd",
   "metadata": {},
   "outputs": [
    {
     "data": {
      "text/html": [
       "<div>\n",
       "<style scoped>\n",
       "    .dataframe tbody tr th:only-of-type {\n",
       "        vertical-align: middle;\n",
       "    }\n",
       "\n",
       "    .dataframe tbody tr th {\n",
       "        vertical-align: top;\n",
       "    }\n",
       "\n",
       "    .dataframe thead th {\n",
       "        text-align: right;\n",
       "    }\n",
       "</style>\n",
       "<table border=\"1\" class=\"dataframe\">\n",
       "  <thead>\n",
       "    <tr style=\"text-align: right;\">\n",
       "      <th></th>\n",
       "      <th>location_id</th>\n",
       "      <th>location_name</th>\n",
       "      <th>date</th>\n",
       "      <th>order_count</th>\n",
       "    </tr>\n",
       "  </thead>\n",
       "  <tbody>\n",
       "    <tr>\n",
       "      <th>0</th>\n",
       "      <td>6.0</td>\n",
       "      <td>San Francisco, CA</td>\n",
       "      <td>2018-01-01</td>\n",
       "      <td>8411.0</td>\n",
       "    </tr>\n",
       "    <tr>\n",
       "      <th>1</th>\n",
       "      <td>19.0</td>\n",
       "      <td>Santa Barbara, CA</td>\n",
       "      <td>2018-01-01</td>\n",
       "      <td>265.0</td>\n",
       "    </tr>\n",
       "    <tr>\n",
       "      <th>2</th>\n",
       "      <td>6.0</td>\n",
       "      <td>San Francisco, CA</td>\n",
       "      <td>2018-01-02</td>\n",
       "      <td>4886.0</td>\n",
       "    </tr>\n",
       "    <tr>\n",
       "      <th>3</th>\n",
       "      <td>19.0</td>\n",
       "      <td>Santa Barbara, CA</td>\n",
       "      <td>2018-01-02</td>\n",
       "      <td>178.0</td>\n",
       "    </tr>\n",
       "    <tr>\n",
       "      <th>4</th>\n",
       "      <td>6.0</td>\n",
       "      <td>San Francisco, CA</td>\n",
       "      <td>2018-01-03</td>\n",
       "      <td>4505.0</td>\n",
       "    </tr>\n",
       "    <tr>\n",
       "      <th>...</th>\n",
       "      <td>...</td>\n",
       "      <td>...</td>\n",
       "      <td>...</td>\n",
       "      <td>...</td>\n",
       "    </tr>\n",
       "    <tr>\n",
       "      <th>1293</th>\n",
       "      <td>6.0</td>\n",
       "      <td>San Francisco, CA</td>\n",
       "      <td>2019-08-10</td>\n",
       "      <td>7934.0</td>\n",
       "    </tr>\n",
       "    <tr>\n",
       "      <th>1294</th>\n",
       "      <td>19.0</td>\n",
       "      <td>Santa Barbara, CA</td>\n",
       "      <td>2019-08-10</td>\n",
       "      <td>263.0</td>\n",
       "    </tr>\n",
       "    <tr>\n",
       "      <th>1295</th>\n",
       "      <td>114.0</td>\n",
       "      <td>Los Angeles, CA</td>\n",
       "      <td>2019-08-11</td>\n",
       "      <td>216.0</td>\n",
       "    </tr>\n",
       "    <tr>\n",
       "      <th>1296</th>\n",
       "      <td>6.0</td>\n",
       "      <td>San Francisco, CA</td>\n",
       "      <td>2019-08-11</td>\n",
       "      <td>7468.0</td>\n",
       "    </tr>\n",
       "    <tr>\n",
       "      <th>1297</th>\n",
       "      <td>19.0</td>\n",
       "      <td>Santa Barbara, CA</td>\n",
       "      <td>2019-08-11</td>\n",
       "      <td>341.0</td>\n",
       "    </tr>\n",
       "  </tbody>\n",
       "</table>\n",
       "<p>1298 rows × 4 columns</p>\n",
       "</div>"
      ],
      "text/plain": [
       "      location_id      location_name       date  order_count\n",
       "0             6.0  San Francisco, CA 2018-01-01       8411.0\n",
       "1            19.0  Santa Barbara, CA 2018-01-01        265.0\n",
       "2             6.0  San Francisco, CA 2018-01-02       4886.0\n",
       "3            19.0  Santa Barbara, CA 2018-01-02        178.0\n",
       "4             6.0  San Francisco, CA 2018-01-03       4505.0\n",
       "...           ...                ...        ...          ...\n",
       "1293          6.0  San Francisco, CA 2019-08-10       7934.0\n",
       "1294         19.0  Santa Barbara, CA 2019-08-10        263.0\n",
       "1295        114.0    Los Angeles, CA 2019-08-11        216.0\n",
       "1296          6.0  San Francisco, CA 2019-08-11       7468.0\n",
       "1297         19.0  Santa Barbara, CA 2019-08-11        341.0\n",
       "\n",
       "[1298 rows x 4 columns]"
      ]
     },
     "execution_count": 10,
     "metadata": {},
     "output_type": "execute_result"
    }
   ],
   "source": [
    "df"
   ]
  },
  {
   "cell_type": "markdown",
   "id": "34d6d770",
   "metadata": {},
   "source": [
    "## HELPER FUNCTIONS"
   ]
  },
  {
   "cell_type": "code",
   "execution_count": 12,
   "id": "9a5b10d5",
   "metadata": {},
   "outputs": [],
   "source": [
    "# Check dataframe\n",
    "def check_df(dataframe, head=5, tail=5, quan=False):\n",
    "    print(\"##################### Shape #####################\")\n",
    "    print(dataframe.shape)\n",
    "    print(\"##################### Types #####################\")\n",
    "    print(dataframe.dtypes)\n",
    "    print(\"##################### Head #####################\")\n",
    "    print(dataframe.head(head))\n",
    "    print(\"##################### Tail #####################\")\n",
    "    print(dataframe.tail(tail))\n",
    "    print(\"##################### NA #####################\")\n",
    "    print(dataframe.isnull().sum())\n",
    "\n",
    "    if quan:\n",
    "        print(\"##################### Quantiles #####################\")\n",
    "        print(dataframe.quantile([0, 0.05, 0.50, 0.95, 0.99, 1]).T)"
   ]
  },
  {
   "cell_type": "code",
   "execution_count": 14,
   "id": "9598e183",
   "metadata": {},
   "outputs": [],
   "source": [
    "# Lag/Shifted Features\n",
    "def lag_features(dataframe, lags):\n",
    "    for lag in lags:\n",
    "        dataframe['sales_lag_' + str(lag)] = dataframe.groupby([\"store\", \"item\"])['sales'].transform(\n",
    "            lambda x: x.shift(lag)) + random_noise(dataframe)\n",
    "    return dataframe"
   ]
  },
  {
   "cell_type": "code",
   "execution_count": 15,
   "id": "5de2bf46",
   "metadata": {},
   "outputs": [],
   "source": [
    "# Rolling Mean Features\n",
    "def roll_mean_features(dataframe, windows):\n",
    "    for window in windows:\n",
    "        dataframe['sales_roll_mean_' + str(window)] = dataframe.groupby([\"store\", \"item\"])['sales']. \\\n",
    "                                                          transform(\n",
    "            lambda x: x.shift(1).rolling(window=window, min_periods=10, win_type=\"triang\").mean()) + random_noise(\n",
    "            dataframe)\n",
    "    return dataframe"
   ]
  },
  {
   "cell_type": "code",
   "execution_count": 16,
   "id": "8569de21",
   "metadata": {},
   "outputs": [],
   "source": [
    "def ewm_features(dataframe, alphas, lags):\n",
    "    for alpha in alphas:\n",
    "        for lag in lags:\n",
    "            dataframe['sales_ewm_alpha_' + str(alpha).replace(\".\", \"\") + \"_lag_\" + str(lag)] = \\\n",
    "                dataframe.groupby([\"store\", \"item\"])['sales'].transform(lambda x: x.shift(lag).ewm(alpha=alpha).mean())\n",
    "    return dataframe"
   ]
  },
  {
   "cell_type": "code",
   "execution_count": null,
   "id": "08b9ffb3",
   "metadata": {},
   "outputs": [],
   "source": []
  },
  {
   "cell_type": "code",
   "execution_count": null,
   "id": "ce4a72c4",
   "metadata": {},
   "outputs": [],
   "source": []
  },
  {
   "cell_type": "markdown",
   "id": "f198f4c0",
   "metadata": {},
   "source": [
    "## EXPLORATORY DATA ANALYSIS"
   ]
  },
  {
   "cell_type": "code",
   "execution_count": 11,
   "id": "403b5895",
   "metadata": {},
   "outputs": [
    {
     "data": {
      "text/plain": [
       "(Timestamp('2018-01-01 00:00:00'), Timestamp('2019-08-11 00:00:00'))"
      ]
     },
     "execution_count": 11,
     "metadata": {},
     "output_type": "execute_result"
    }
   ],
   "source": [
    "# Let's check the time periods of train and test sets\n",
    "df[\"date\"].min(), df[\"date\"].max()  "
   ]
  },
  {
   "cell_type": "code",
   "execution_count": 13,
   "id": "02797d1d",
   "metadata": {},
   "outputs": [
    {
     "name": "stdout",
     "output_type": "stream",
     "text": [
      "##################### Shape #####################\n",
      "(1298, 4)\n",
      "##################### Types #####################\n",
      "location_id             float64\n",
      "location_name            object\n",
      "date             datetime64[ns]\n",
      "order_count             float64\n",
      "dtype: object\n",
      "##################### Head #####################\n",
      "   location_id      location_name       date  order_count\n",
      "0          6.0  San Francisco, CA 2018-01-01       8411.0\n",
      "1         19.0  Santa Barbara, CA 2018-01-01        265.0\n",
      "2          6.0  San Francisco, CA 2018-01-02       4886.0\n",
      "3         19.0  Santa Barbara, CA 2018-01-02        178.0\n",
      "4          6.0  San Francisco, CA 2018-01-03       4505.0\n",
      "##################### Tail #####################\n",
      "      location_id      location_name       date  order_count\n",
      "1293          6.0  San Francisco, CA 2019-08-10       7934.0\n",
      "1294         19.0  Santa Barbara, CA 2019-08-10        263.0\n",
      "1295        114.0    Los Angeles, CA 2019-08-11        216.0\n",
      "1296          6.0  San Francisco, CA 2019-08-11       7468.0\n",
      "1297         19.0  Santa Barbara, CA 2019-08-11        341.0\n",
      "##################### NA #####################\n",
      "location_id      0\n",
      "location_name    0\n",
      "date             0\n",
      "order_count      0\n",
      "dtype: int64\n"
     ]
    }
   ],
   "source": [
    "check_df(df)"
   ]
  },
  {
   "cell_type": "markdown",
   "id": "dcae7318",
   "metadata": {},
   "source": [
    "### TODO : Change datatypes for location_id and ordercount"
   ]
  },
  {
   "cell_type": "code",
   "execution_count": 19,
   "id": "229e0f40",
   "metadata": {},
   "outputs": [
    {
     "data": {
      "text/plain": [
       "{6.0: 588, 19.0: 588, 114.0: 122}"
      ]
     },
     "execution_count": 19,
     "metadata": {},
     "output_type": "execute_result"
    }
   ],
   "source": [
    "# Checking the total number of location_ids of operations\n",
    "values = df['location_id'].value_counts(dropna=False).keys().tolist()\n",
    "counts = df['location_id'].value_counts(dropna=False).tolist()\n",
    "value_dict = dict(zip(values, counts))\n",
    "value_dict"
   ]
  },
  {
   "cell_type": "code",
   "execution_count": 21,
   "id": "1b5a301e",
   "metadata": {},
   "outputs": [
    {
     "data": {
      "text/plain": [
       "{'San Francisco, CA': 588, 'Santa Barbara, CA': 588, 'Los Angeles, CA': 122}"
      ]
     },
     "execution_count": 21,
     "metadata": {},
     "output_type": "execute_result"
    }
   ],
   "source": [
    "# Checking the total number of location_ids of operations\n",
    "values = df['location_name'].value_counts(dropna=False).keys().tolist()\n",
    "counts = df['location_name'].value_counts(dropna=False).tolist()\n",
    "value_dict = dict(zip(values, counts))\n",
    "value_dict"
   ]
  },
  {
   "cell_type": "code",
   "execution_count": 22,
   "id": "b432b68d",
   "metadata": {},
   "outputs": [],
   "source": [
    "# There is need to clean the location data"
   ]
  },
  {
   "cell_type": "code",
   "execution_count": 23,
   "id": "cda12559",
   "metadata": {},
   "outputs": [
    {
     "data": {
      "text/plain": [
       "count     1298.000000\n",
       "mean      3618.233436\n",
       "std       3426.050028\n",
       "min          0.000000\n",
       "10%        207.700000\n",
       "30%        881.600000\n",
       "50%       1592.500000\n",
       "70%       5940.900000\n",
       "80%       6995.000000\n",
       "90%       8522.800000\n",
       "95%       9742.200000\n",
       "99%      11810.870000\n",
       "max      14673.000000\n",
       "Name: order_count, dtype: float64"
      ]
     },
     "execution_count": 23,
     "metadata": {},
     "output_type": "execute_result"
    }
   ],
   "source": [
    "# Distribution of Orders\n",
    "df[\"order_count\"].describe([0.10, 0.30, 0.50, 0.70, 0.80, 0.90, 0.95, 0.99])"
   ]
  },
  {
   "cell_type": "code",
   "execution_count": 25,
   "id": "df6aaba2",
   "metadata": {},
   "outputs": [
    {
     "data": {
      "text/html": [
       "<div>\n",
       "<style scoped>\n",
       "    .dataframe tbody tr th:only-of-type {\n",
       "        vertical-align: middle;\n",
       "    }\n",
       "\n",
       "    .dataframe tbody tr th {\n",
       "        vertical-align: top;\n",
       "    }\n",
       "\n",
       "    .dataframe thead tr th {\n",
       "        text-align: left;\n",
       "    }\n",
       "\n",
       "    .dataframe thead tr:last-of-type th {\n",
       "        text-align: right;\n",
       "    }\n",
       "</style>\n",
       "<table border=\"1\" class=\"dataframe\">\n",
       "  <thead>\n",
       "    <tr>\n",
       "      <th></th>\n",
       "      <th>order_count</th>\n",
       "    </tr>\n",
       "    <tr>\n",
       "      <th></th>\n",
       "      <th>sum</th>\n",
       "    </tr>\n",
       "    <tr>\n",
       "      <th>location_name</th>\n",
       "      <th></th>\n",
       "    </tr>\n",
       "  </thead>\n",
       "  <tbody>\n",
       "    <tr>\n",
       "      <th>Los Angeles, CA</th>\n",
       "      <td>10178.0</td>\n",
       "    </tr>\n",
       "    <tr>\n",
       "      <th>San Francisco, CA</th>\n",
       "      <td>4150668.0</td>\n",
       "    </tr>\n",
       "    <tr>\n",
       "      <th>Santa Barbara, CA</th>\n",
       "      <td>535621.0</td>\n",
       "    </tr>\n",
       "  </tbody>\n",
       "</table>\n",
       "</div>"
      ],
      "text/plain": [
       "                  order_count\n",
       "                          sum\n",
       "location_name                \n",
       "Los Angeles, CA       10178.0\n",
       "San Francisco, CA   4150668.0\n",
       "Santa Barbara, CA    535621.0"
      ]
     },
     "execution_count": 25,
     "metadata": {},
     "output_type": "execute_result"
    }
   ],
   "source": [
    "# Sales distribution per location\n",
    "df.groupby([\"location_name\"]).agg({\"order_count\": [\"sum\"]})"
   ]
  },
  {
   "cell_type": "code",
   "execution_count": 26,
   "id": "a9f84157",
   "metadata": {},
   "outputs": [
    {
     "data": {
      "text/html": [
       "<div>\n",
       "<style scoped>\n",
       "    .dataframe tbody tr th:only-of-type {\n",
       "        vertical-align: middle;\n",
       "    }\n",
       "\n",
       "    .dataframe tbody tr th {\n",
       "        vertical-align: top;\n",
       "    }\n",
       "\n",
       "    .dataframe thead tr th {\n",
       "        text-align: left;\n",
       "    }\n",
       "\n",
       "    .dataframe thead tr:last-of-type th {\n",
       "        text-align: right;\n",
       "    }\n",
       "</style>\n",
       "<table border=\"1\" class=\"dataframe\">\n",
       "  <thead>\n",
       "    <tr>\n",
       "      <th></th>\n",
       "      <th colspan=\"4\" halign=\"left\">order_count</th>\n",
       "    </tr>\n",
       "    <tr>\n",
       "      <th></th>\n",
       "      <th>sum</th>\n",
       "      <th>mean</th>\n",
       "      <th>median</th>\n",
       "      <th>std</th>\n",
       "    </tr>\n",
       "    <tr>\n",
       "      <th>location_name</th>\n",
       "      <th></th>\n",
       "      <th></th>\n",
       "      <th></th>\n",
       "      <th></th>\n",
       "    </tr>\n",
       "  </thead>\n",
       "  <tbody>\n",
       "    <tr>\n",
       "      <th>Los Angeles, CA</th>\n",
       "      <td>10178.0</td>\n",
       "      <td>83.426230</td>\n",
       "      <td>80.5</td>\n",
       "      <td>43.722059</td>\n",
       "    </tr>\n",
       "    <tr>\n",
       "      <th>San Francisco, CA</th>\n",
       "      <td>4150668.0</td>\n",
       "      <td>7058.959184</td>\n",
       "      <td>6720.5</td>\n",
       "      <td>1962.626339</td>\n",
       "    </tr>\n",
       "    <tr>\n",
       "      <th>Santa Barbara, CA</th>\n",
       "      <td>535621.0</td>\n",
       "      <td>910.920068</td>\n",
       "      <td>1004.5</td>\n",
       "      <td>534.043776</td>\n",
       "    </tr>\n",
       "  </tbody>\n",
       "</table>\n",
       "</div>"
      ],
      "text/plain": [
       "                  order_count                                  \n",
       "                          sum         mean  median          std\n",
       "location_name                                                  \n",
       "Los Angeles, CA       10178.0    83.426230    80.5    43.722059\n",
       "San Francisco, CA   4150668.0  7058.959184  6720.5  1962.626339\n",
       "Santa Barbara, CA    535621.0   910.920068  1004.5   534.043776"
      ]
     },
     "execution_count": 26,
     "metadata": {},
     "output_type": "execute_result"
    }
   ],
   "source": [
    "# Sales statistics per location\n",
    "df.groupby([\"location_name\"]).agg({\"order_count\": [\"sum\", \"mean\", \"median\", \"std\"]})"
   ]
  },
  {
   "cell_type": "code",
   "execution_count": null,
   "id": "9ae6f64f",
   "metadata": {},
   "outputs": [],
   "source": []
  }
 ],
 "metadata": {
  "kernelspec": {
   "display_name": "time_series",
   "language": "python",
   "name": "time_series"
  },
  "language_info": {
   "codemirror_mode": {
    "name": "ipython",
    "version": 3
   },
   "file_extension": ".py",
   "mimetype": "text/x-python",
   "name": "python",
   "nbconvert_exporter": "python",
   "pygments_lexer": "ipython3",
   "version": "3.8.5"
  }
 },
 "nbformat": 4,
 "nbformat_minor": 5
}
