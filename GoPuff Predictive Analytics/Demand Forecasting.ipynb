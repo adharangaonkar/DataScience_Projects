{
 "cells": [
  {
   "cell_type": "code",
   "execution_count": 1,
   "id": "00c8aa2d",
   "metadata": {},
   "outputs": [],
   "source": [
    "# Import necessary libraries and make necessary arrangements\n",
    "import time\n",
    "import numpy as np\n",
    "import pandas as pd\n",
    "from matplotlib import pyplot as plt\n",
    "import seaborn as sns\n",
    "\n",
    "import warnings\n",
    "from sklearn.preprocessing import LabelEncoder\n",
    "\n",
    "pd.set_option('display.max_columns', None)\n",
    "pd.set_option('display.width', 500)\n",
    "warnings.filterwarnings('ignore')"
   ]
  },
  {
   "cell_type": "code",
   "execution_count": 2,
   "id": "291a549f",
   "metadata": {},
   "outputs": [],
   "source": [
    "df = pd.read_excel(\"data/orders_by_location.xlsx\")"
   ]
  },
  {
   "cell_type": "code",
   "execution_count": 3,
   "id": "871e9def",
   "metadata": {},
   "outputs": [
    {
     "data": {
      "text/html": [
       "<div>\n",
       "<style scoped>\n",
       "    .dataframe tbody tr th:only-of-type {\n",
       "        vertical-align: middle;\n",
       "    }\n",
       "\n",
       "    .dataframe tbody tr th {\n",
       "        vertical-align: top;\n",
       "    }\n",
       "\n",
       "    .dataframe thead th {\n",
       "        text-align: right;\n",
       "    }\n",
       "</style>\n",
       "<table border=\"1\" class=\"dataframe\">\n",
       "  <thead>\n",
       "    <tr style=\"text-align: right;\">\n",
       "      <th></th>\n",
       "      <th>location_id</th>\n",
       "      <th>location_name</th>\n",
       "      <th>date</th>\n",
       "      <th>order_count</th>\n",
       "    </tr>\n",
       "  </thead>\n",
       "  <tbody>\n",
       "    <tr>\n",
       "      <th>0</th>\n",
       "      <td>6.0</td>\n",
       "      <td>San Francisco, CA</td>\n",
       "      <td>2018-01-01</td>\n",
       "      <td>8411.0</td>\n",
       "    </tr>\n",
       "    <tr>\n",
       "      <th>1</th>\n",
       "      <td>19.0</td>\n",
       "      <td>Santa Barbara, CA</td>\n",
       "      <td>2018-01-01</td>\n",
       "      <td>265.0</td>\n",
       "    </tr>\n",
       "    <tr>\n",
       "      <th>2</th>\n",
       "      <td>6.0</td>\n",
       "      <td>San Francisco, CA</td>\n",
       "      <td>2018-01-02</td>\n",
       "      <td>4886.0</td>\n",
       "    </tr>\n",
       "    <tr>\n",
       "      <th>3</th>\n",
       "      <td>19.0</td>\n",
       "      <td>Santa Barbara, CA</td>\n",
       "      <td>2018-01-02</td>\n",
       "      <td>178.0</td>\n",
       "    </tr>\n",
       "    <tr>\n",
       "      <th>4</th>\n",
       "      <td>6.0</td>\n",
       "      <td>San Francisco, CA</td>\n",
       "      <td>2018-01-03</td>\n",
       "      <td>4505.0</td>\n",
       "    </tr>\n",
       "    <tr>\n",
       "      <th>...</th>\n",
       "      <td>...</td>\n",
       "      <td>...</td>\n",
       "      <td>...</td>\n",
       "      <td>...</td>\n",
       "    </tr>\n",
       "    <tr>\n",
       "      <th>1293</th>\n",
       "      <td>6.0</td>\n",
       "      <td>San Francisco, CA</td>\n",
       "      <td>2019-08-10</td>\n",
       "      <td>7934.0</td>\n",
       "    </tr>\n",
       "    <tr>\n",
       "      <th>1294</th>\n",
       "      <td>19.0</td>\n",
       "      <td>Santa Barbara, CA</td>\n",
       "      <td>2019-08-10</td>\n",
       "      <td>263.0</td>\n",
       "    </tr>\n",
       "    <tr>\n",
       "      <th>1295</th>\n",
       "      <td>114.0</td>\n",
       "      <td>Los Angeles, CA</td>\n",
       "      <td>2019-08-11</td>\n",
       "      <td>216.0</td>\n",
       "    </tr>\n",
       "    <tr>\n",
       "      <th>1296</th>\n",
       "      <td>6.0</td>\n",
       "      <td>San Francisco, CA</td>\n",
       "      <td>2019-08-11</td>\n",
       "      <td>7468.0</td>\n",
       "    </tr>\n",
       "    <tr>\n",
       "      <th>1297</th>\n",
       "      <td>19.0</td>\n",
       "      <td>Santa Barbara, CA</td>\n",
       "      <td>2019-08-11</td>\n",
       "      <td>341.0</td>\n",
       "    </tr>\n",
       "  </tbody>\n",
       "</table>\n",
       "<p>1298 rows × 4 columns</p>\n",
       "</div>"
      ],
      "text/plain": [
       "      location_id      location_name       date  order_count\n",
       "0             6.0  San Francisco, CA 2018-01-01       8411.0\n",
       "1            19.0  Santa Barbara, CA 2018-01-01        265.0\n",
       "2             6.0  San Francisco, CA 2018-01-02       4886.0\n",
       "3            19.0  Santa Barbara, CA 2018-01-02        178.0\n",
       "4             6.0  San Francisco, CA 2018-01-03       4505.0\n",
       "...           ...                ...        ...          ...\n",
       "1293          6.0  San Francisco, CA 2019-08-10       7934.0\n",
       "1294         19.0  Santa Barbara, CA 2019-08-10        263.0\n",
       "1295        114.0    Los Angeles, CA 2019-08-11        216.0\n",
       "1296          6.0  San Francisco, CA 2019-08-11       7468.0\n",
       "1297         19.0  Santa Barbara, CA 2019-08-11        341.0\n",
       "\n",
       "[1298 rows x 4 columns]"
      ]
     },
     "execution_count": 3,
     "metadata": {},
     "output_type": "execute_result"
    }
   ],
   "source": [
    "df"
   ]
  },
  {
   "cell_type": "markdown",
   "id": "8b4bcf1c",
   "metadata": {},
   "source": [
    "## HELPER FUNCTIONS"
   ]
  },
  {
   "cell_type": "code",
   "execution_count": 4,
   "id": "8fe669ed",
   "metadata": {},
   "outputs": [],
   "source": [
    "# Check dataframe\n",
    "def check_df(dataframe, head=5, tail=5, quan=False):\n",
    "    print(\"##################### Shape #####################\")\n",
    "    print(dataframe.shape)\n",
    "    print(\"##################### Types #####################\")\n",
    "    print(dataframe.dtypes)\n",
    "    print(\"##################### Head #####################\")\n",
    "    print(dataframe.head(head))\n",
    "    print(\"##################### Tail #####################\")\n",
    "    print(dataframe.tail(tail))\n",
    "    print(\"##################### NA #####################\")\n",
    "    print(dataframe.isnull().sum())\n",
    "\n",
    "    if quan:\n",
    "        print(\"##################### Quantiles #####################\")\n",
    "        print(dataframe.quantile([0, 0.05, 0.50, 0.95, 0.99, 1]).T)"
   ]
  },
  {
   "cell_type": "code",
   "execution_count": 5,
   "id": "55b21f53",
   "metadata": {},
   "outputs": [],
   "source": [
    "# # Change Datatypes of location_id and order_count to int\n",
    "# def change_datatypes(df):\n",
    "#     convert_dict = {'location_id': int,\n",
    "#                 'order_count': int }\n",
    "#     df = df.astype(convert_dict)  \n",
    "#     print(df.dtypes)\n"
   ]
  },
  {
   "cell_type": "code",
   "execution_count": 6,
   "id": "1d778c5c",
   "metadata": {},
   "outputs": [],
   "source": [
    "# Date Features\n",
    "def create_date_features(df):\n",
    "    df['month'] = df.date.dt.month\n",
    "    df['day_of_month'] = df.date.dt.day\n",
    "    df['day_of_year'] = df.date.dt.dayofyear\n",
    "    df['week_of_year'] = df.date.dt.weekofyear\n",
    "    df['day_of_week'] = df.date.dt.dayofweek\n",
    "    df['year'] = df.date.dt.year\n",
    "    df[\"is_wknd\"] = df.date.dt.weekday // 4\n",
    "    df['is_month_start'] = df.date.dt.is_month_start.astype(int)\n",
    "    df['is_month_end'] = df.date.dt.is_month_end.astype(int)\n",
    "    return df"
   ]
  },
  {
   "cell_type": "code",
   "execution_count": 7,
   "id": "801cfc84",
   "metadata": {},
   "outputs": [],
   "source": [
    "# Random Noise\n",
    "def random_noise(dataframe):\n",
    "    return np.random.normal(scale=1.6, size=(len(dataframe),))"
   ]
  },
  {
   "cell_type": "code",
   "execution_count": 8,
   "id": "2d1d186a",
   "metadata": {},
   "outputs": [],
   "source": [
    "# Lag/Shifted Features\n",
    "def lag_features(dataframe, lags):\n",
    "    for lag in lags:\n",
    "        dataframe['orders_lag_' + str(lag)] = dataframe.groupby([\"location_name\"])['order_count'].transform(\n",
    "            lambda x: x.shift(lag)) + random_noise(dataframe)\n",
    "    return dataframe"
   ]
  },
  {
   "cell_type": "code",
   "execution_count": 9,
   "id": "cb55e2d2",
   "metadata": {},
   "outputs": [],
   "source": [
    "# Rolling Mean Features\n",
    "def roll_mean_features(dataframe, windows):\n",
    "    for window in windows:\n",
    "        dataframe['orders_roll_mean_' + str(window)] = dataframe.groupby([\"location_name\"])['order_count']. \\\n",
    "                                                          transform(\n",
    "            lambda x: x.shift(1).rolling(window=window, min_periods=10, win_type=\"triang\").mean()) + random_noise(\n",
    "            dataframe)\n",
    "    return dataframe"
   ]
  },
  {
   "cell_type": "code",
   "execution_count": 10,
   "id": "38427390",
   "metadata": {},
   "outputs": [],
   "source": [
    "def ewm_features(dataframe, alphas, lags):\n",
    "    for alpha in alphas:\n",
    "        for lag in lags:\n",
    "            dataframe['orders_ewm_alpha_' + str(alpha).replace(\".\", \"\") + \"_lag_\" + str(lag)] = \\\n",
    "                dataframe.groupby([\"location_name\"])['order_count'].transform(lambda x: x.shift(lag).ewm(alpha=alpha).mean())\n",
    "    return dataframe"
   ]
  },
  {
   "cell_type": "code",
   "execution_count": null,
   "id": "030e39c3",
   "metadata": {},
   "outputs": [],
   "source": []
  },
  {
   "cell_type": "code",
   "execution_count": null,
   "id": "f2eb5c55",
   "metadata": {},
   "outputs": [],
   "source": []
  },
  {
   "cell_type": "markdown",
   "id": "b2b94a86",
   "metadata": {},
   "source": [
    "## EXPLORATORY DATA ANALYSIS"
   ]
  },
  {
   "cell_type": "code",
   "execution_count": 11,
   "id": "d94c3c15",
   "metadata": {},
   "outputs": [
    {
     "data": {
      "text/plain": [
       "(Timestamp('2018-01-01 00:00:00'), Timestamp('2019-08-11 00:00:00'))"
      ]
     },
     "execution_count": 11,
     "metadata": {},
     "output_type": "execute_result"
    }
   ],
   "source": [
    "# Let's check the time periods of train and test sets\n",
    "df[\"date\"].min(), df[\"date\"].max()  "
   ]
  },
  {
   "cell_type": "code",
   "execution_count": 12,
   "id": "5f7b7b7b",
   "metadata": {},
   "outputs": [
    {
     "name": "stdout",
     "output_type": "stream",
     "text": [
      "##################### Shape #####################\n",
      "(1298, 4)\n",
      "##################### Types #####################\n",
      "location_id             float64\n",
      "location_name            object\n",
      "date             datetime64[ns]\n",
      "order_count             float64\n",
      "dtype: object\n",
      "##################### Head #####################\n",
      "   location_id      location_name       date  order_count\n",
      "0          6.0  San Francisco, CA 2018-01-01       8411.0\n",
      "1         19.0  Santa Barbara, CA 2018-01-01        265.0\n",
      "2          6.0  San Francisco, CA 2018-01-02       4886.0\n",
      "3         19.0  Santa Barbara, CA 2018-01-02        178.0\n",
      "4          6.0  San Francisco, CA 2018-01-03       4505.0\n",
      "##################### Tail #####################\n",
      "      location_id      location_name       date  order_count\n",
      "1293          6.0  San Francisco, CA 2019-08-10       7934.0\n",
      "1294         19.0  Santa Barbara, CA 2019-08-10        263.0\n",
      "1295        114.0    Los Angeles, CA 2019-08-11        216.0\n",
      "1296          6.0  San Francisco, CA 2019-08-11       7468.0\n",
      "1297         19.0  Santa Barbara, CA 2019-08-11        341.0\n",
      "##################### NA #####################\n",
      "location_id      0\n",
      "location_name    0\n",
      "date             0\n",
      "order_count      0\n",
      "dtype: int64\n"
     ]
    }
   ],
   "source": [
    "check_df(df)"
   ]
  },
  {
   "cell_type": "markdown",
   "id": "d15e080e",
   "metadata": {},
   "source": [
    "## TODO1 : Change datatypes for location_id and ordercount"
   ]
  },
  {
   "cell_type": "code",
   "execution_count": 13,
   "id": "64266611",
   "metadata": {},
   "outputs": [],
   "source": [
    "# change_datatypes(df)"
   ]
  },
  {
   "cell_type": "code",
   "execution_count": 14,
   "id": "669cfdc4",
   "metadata": {},
   "outputs": [],
   "source": [
    "convert_dict = {'location_id': int,\n",
    "                'order_count': int }\n",
    "df = df.astype(convert_dict)  "
   ]
  },
  {
   "cell_type": "code",
   "execution_count": 15,
   "id": "d2f4b24c",
   "metadata": {},
   "outputs": [
    {
     "data": {
      "text/plain": [
       "location_id               int32\n",
       "location_name            object\n",
       "date             datetime64[ns]\n",
       "order_count               int32\n",
       "dtype: object"
      ]
     },
     "execution_count": 15,
     "metadata": {},
     "output_type": "execute_result"
    }
   ],
   "source": [
    "df.dtypes"
   ]
  },
  {
   "cell_type": "markdown",
   "id": "4f27bdef",
   "metadata": {},
   "source": [
    "## END OF TODO1"
   ]
  },
  {
   "cell_type": "code",
   "execution_count": 16,
   "id": "141528b7",
   "metadata": {},
   "outputs": [
    {
     "data": {
      "text/plain": [
       "{6: 588, 19: 588, 114: 122}"
      ]
     },
     "execution_count": 16,
     "metadata": {},
     "output_type": "execute_result"
    }
   ],
   "source": [
    "# Checking the total number of location_ids of warehouse\n",
    "values = df['location_id'].value_counts(dropna=False).keys().tolist()\n",
    "counts = df['location_id'].value_counts(dropna=False).tolist()\n",
    "value_dict = dict(zip(values, counts))\n",
    "value_dict"
   ]
  },
  {
   "cell_type": "code",
   "execution_count": 17,
   "id": "b70a0b3c",
   "metadata": {},
   "outputs": [
    {
     "data": {
      "text/plain": [
       "{'San Francisco, CA': 588, 'Santa Barbara, CA': 588, 'Los Angeles, CA': 122}"
      ]
     },
     "execution_count": 17,
     "metadata": {},
     "output_type": "execute_result"
    }
   ],
   "source": [
    "# Checking the total number of location_ids of warehouse\n",
    "values = df['location_name'].value_counts(dropna=False).keys().tolist()\n",
    "counts = df['location_name'].value_counts(dropna=False).tolist()\n",
    "value_dict = dict(zip(values, counts))\n",
    "value_dict"
   ]
  },
  {
   "cell_type": "code",
   "execution_count": 18,
   "id": "d9fa7933",
   "metadata": {},
   "outputs": [],
   "source": [
    "# There is need to clean the location data"
   ]
  },
  {
   "cell_type": "code",
   "execution_count": 19,
   "id": "718ed83c",
   "metadata": {},
   "outputs": [
    {
     "data": {
      "text/plain": [
       "count     1298.000000\n",
       "mean      3618.233436\n",
       "std       3426.050028\n",
       "min          0.000000\n",
       "10%        207.700000\n",
       "30%        881.600000\n",
       "50%       1592.500000\n",
       "70%       5940.900000\n",
       "80%       6995.000000\n",
       "90%       8522.800000\n",
       "95%       9742.200000\n",
       "99%      11810.870000\n",
       "max      14673.000000\n",
       "Name: order_count, dtype: float64"
      ]
     },
     "execution_count": 19,
     "metadata": {},
     "output_type": "execute_result"
    }
   ],
   "source": [
    "# Distribution of Orders\n",
    "df[\"order_count\"].describe([0.10, 0.30, 0.50, 0.70, 0.80, 0.90, 0.95, 0.99])"
   ]
  },
  {
   "cell_type": "code",
   "execution_count": 20,
   "id": "a6000be6",
   "metadata": {},
   "outputs": [
    {
     "data": {
      "text/html": [
       "<div>\n",
       "<style scoped>\n",
       "    .dataframe tbody tr th:only-of-type {\n",
       "        vertical-align: middle;\n",
       "    }\n",
       "\n",
       "    .dataframe tbody tr th {\n",
       "        vertical-align: top;\n",
       "    }\n",
       "\n",
       "    .dataframe thead tr th {\n",
       "        text-align: left;\n",
       "    }\n",
       "\n",
       "    .dataframe thead tr:last-of-type th {\n",
       "        text-align: right;\n",
       "    }\n",
       "</style>\n",
       "<table border=\"1\" class=\"dataframe\">\n",
       "  <thead>\n",
       "    <tr>\n",
       "      <th></th>\n",
       "      <th>order_count</th>\n",
       "    </tr>\n",
       "    <tr>\n",
       "      <th></th>\n",
       "      <th>sum</th>\n",
       "    </tr>\n",
       "    <tr>\n",
       "      <th>location_name</th>\n",
       "      <th></th>\n",
       "    </tr>\n",
       "  </thead>\n",
       "  <tbody>\n",
       "    <tr>\n",
       "      <th>Los Angeles, CA</th>\n",
       "      <td>10178</td>\n",
       "    </tr>\n",
       "    <tr>\n",
       "      <th>San Francisco, CA</th>\n",
       "      <td>4150668</td>\n",
       "    </tr>\n",
       "    <tr>\n",
       "      <th>Santa Barbara, CA</th>\n",
       "      <td>535621</td>\n",
       "    </tr>\n",
       "  </tbody>\n",
       "</table>\n",
       "</div>"
      ],
      "text/plain": [
       "                  order_count\n",
       "                          sum\n",
       "location_name                \n",
       "Los Angeles, CA         10178\n",
       "San Francisco, CA     4150668\n",
       "Santa Barbara, CA      535621"
      ]
     },
     "execution_count": 20,
     "metadata": {},
     "output_type": "execute_result"
    }
   ],
   "source": [
    "# Sales distribution per location\n",
    "df.groupby([\"location_name\"]).agg({\"order_count\": [\"sum\"]})"
   ]
  },
  {
   "cell_type": "code",
   "execution_count": 21,
   "id": "3fef9d9a",
   "metadata": {},
   "outputs": [
    {
     "data": {
      "text/html": [
       "<div>\n",
       "<style scoped>\n",
       "    .dataframe tbody tr th:only-of-type {\n",
       "        vertical-align: middle;\n",
       "    }\n",
       "\n",
       "    .dataframe tbody tr th {\n",
       "        vertical-align: top;\n",
       "    }\n",
       "\n",
       "    .dataframe thead tr th {\n",
       "        text-align: left;\n",
       "    }\n",
       "\n",
       "    .dataframe thead tr:last-of-type th {\n",
       "        text-align: right;\n",
       "    }\n",
       "</style>\n",
       "<table border=\"1\" class=\"dataframe\">\n",
       "  <thead>\n",
       "    <tr>\n",
       "      <th></th>\n",
       "      <th colspan=\"4\" halign=\"left\">order_count</th>\n",
       "    </tr>\n",
       "    <tr>\n",
       "      <th></th>\n",
       "      <th>sum</th>\n",
       "      <th>mean</th>\n",
       "      <th>median</th>\n",
       "      <th>std</th>\n",
       "    </tr>\n",
       "    <tr>\n",
       "      <th>location_name</th>\n",
       "      <th></th>\n",
       "      <th></th>\n",
       "      <th></th>\n",
       "      <th></th>\n",
       "    </tr>\n",
       "  </thead>\n",
       "  <tbody>\n",
       "    <tr>\n",
       "      <th>Los Angeles, CA</th>\n",
       "      <td>10178</td>\n",
       "      <td>83.426230</td>\n",
       "      <td>80.5</td>\n",
       "      <td>43.722059</td>\n",
       "    </tr>\n",
       "    <tr>\n",
       "      <th>San Francisco, CA</th>\n",
       "      <td>4150668</td>\n",
       "      <td>7058.959184</td>\n",
       "      <td>6720.5</td>\n",
       "      <td>1962.626339</td>\n",
       "    </tr>\n",
       "    <tr>\n",
       "      <th>Santa Barbara, CA</th>\n",
       "      <td>535621</td>\n",
       "      <td>910.920068</td>\n",
       "      <td>1004.5</td>\n",
       "      <td>534.043776</td>\n",
       "    </tr>\n",
       "  </tbody>\n",
       "</table>\n",
       "</div>"
      ],
      "text/plain": [
       "                  order_count                                  \n",
       "                          sum         mean  median          std\n",
       "location_name                                                  \n",
       "Los Angeles, CA         10178    83.426230    80.5    43.722059\n",
       "San Francisco, CA     4150668  7058.959184  6720.5  1962.626339\n",
       "Santa Barbara, CA      535621   910.920068  1004.5   534.043776"
      ]
     },
     "execution_count": 21,
     "metadata": {},
     "output_type": "execute_result"
    }
   ],
   "source": [
    "# Sales statistics per location\n",
    "df.groupby([\"location_name\"]).agg({\"order_count\": [\"sum\", \"mean\", \"median\", \"std\"]})"
   ]
  },
  {
   "cell_type": "markdown",
   "id": "3207b3af",
   "metadata": {},
   "source": [
    "## Feature Engineering"
   ]
  },
  {
   "cell_type": "markdown",
   "id": "77aee099",
   "metadata": {},
   "source": [
    "### Adding Data Features"
   ]
  },
  {
   "cell_type": "code",
   "execution_count": 22,
   "id": "58be2d00",
   "metadata": {},
   "outputs": [
    {
     "name": "stdout",
     "output_type": "stream",
     "text": [
      "##################### Shape #####################\n",
      "(1298, 13)\n",
      "##################### Types #####################\n",
      "location_id                int32\n",
      "location_name             object\n",
      "date              datetime64[ns]\n",
      "order_count                int32\n",
      "month                      int64\n",
      "day_of_month               int64\n",
      "day_of_year                int64\n",
      "week_of_year               int64\n",
      "day_of_week                int64\n",
      "year                       int64\n",
      "is_wknd                    int64\n",
      "is_month_start             int32\n",
      "is_month_end               int32\n",
      "dtype: object\n",
      "##################### Head #####################\n",
      "   location_id      location_name       date  order_count  month  day_of_month  day_of_year  week_of_year  day_of_week  year  is_wknd  is_month_start  is_month_end\n",
      "0            6  San Francisco, CA 2018-01-01         8411      1             1            1             1            0  2018        0               1             0\n",
      "1           19  Santa Barbara, CA 2018-01-01          265      1             1            1             1            0  2018        0               1             0\n",
      "2            6  San Francisco, CA 2018-01-02         4886      1             2            2             1            1  2018        0               0             0\n",
      "3           19  Santa Barbara, CA 2018-01-02          178      1             2            2             1            1  2018        0               0             0\n",
      "4            6  San Francisco, CA 2018-01-03         4505      1             3            3             1            2  2018        0               0             0\n",
      "##################### Tail #####################\n",
      "      location_id      location_name       date  order_count  month  day_of_month  day_of_year  week_of_year  day_of_week  year  is_wknd  is_month_start  is_month_end\n",
      "1293            6  San Francisco, CA 2019-08-10         7934      8            10          222            32            5  2019        1               0             0\n",
      "1294           19  Santa Barbara, CA 2019-08-10          263      8            10          222            32            5  2019        1               0             0\n",
      "1295          114    Los Angeles, CA 2019-08-11          216      8            11          223            32            6  2019        1               0             0\n",
      "1296            6  San Francisco, CA 2019-08-11         7468      8            11          223            32            6  2019        1               0             0\n",
      "1297           19  Santa Barbara, CA 2019-08-11          341      8            11          223            32            6  2019        1               0             0\n",
      "##################### NA #####################\n",
      "location_id       0\n",
      "location_name     0\n",
      "date              0\n",
      "order_count       0\n",
      "month             0\n",
      "day_of_month      0\n",
      "day_of_year       0\n",
      "week_of_year      0\n",
      "day_of_week       0\n",
      "year              0\n",
      "is_wknd           0\n",
      "is_month_start    0\n",
      "is_month_end      0\n",
      "dtype: int64\n"
     ]
    }
   ],
   "source": [
    "########################\n",
    "# Date Features\n",
    "########################\n",
    "df = create_date_features(df)\n",
    "check_df(df)"
   ]
  },
  {
   "cell_type": "code",
   "execution_count": 23,
   "id": "16f86fc5",
   "metadata": {},
   "outputs": [
    {
     "data": {
      "text/html": [
       "<div>\n",
       "<style scoped>\n",
       "    .dataframe tbody tr th:only-of-type {\n",
       "        vertical-align: middle;\n",
       "    }\n",
       "\n",
       "    .dataframe tbody tr th {\n",
       "        vertical-align: top;\n",
       "    }\n",
       "\n",
       "    .dataframe thead tr th {\n",
       "        text-align: left;\n",
       "    }\n",
       "\n",
       "    .dataframe thead tr:last-of-type th {\n",
       "        text-align: right;\n",
       "    }\n",
       "</style>\n",
       "<table border=\"1\" class=\"dataframe\">\n",
       "  <thead>\n",
       "    <tr>\n",
       "      <th></th>\n",
       "      <th></th>\n",
       "      <th colspan=\"4\" halign=\"left\">order_count</th>\n",
       "    </tr>\n",
       "    <tr>\n",
       "      <th></th>\n",
       "      <th></th>\n",
       "      <th>sum</th>\n",
       "      <th>mean</th>\n",
       "      <th>median</th>\n",
       "      <th>std</th>\n",
       "    </tr>\n",
       "    <tr>\n",
       "      <th>location_name</th>\n",
       "      <th>month</th>\n",
       "      <th></th>\n",
       "      <th></th>\n",
       "      <th></th>\n",
       "      <th></th>\n",
       "    </tr>\n",
       "  </thead>\n",
       "  <tbody>\n",
       "    <tr>\n",
       "      <th rowspan=\"5\" valign=\"top\">Los Angeles, CA</th>\n",
       "      <th>4</th>\n",
       "      <td>655</td>\n",
       "      <td>34.473684</td>\n",
       "      <td>32.0</td>\n",
       "      <td>22.777592</td>\n",
       "    </tr>\n",
       "    <tr>\n",
       "      <th>5</th>\n",
       "      <td>2004</td>\n",
       "      <td>64.645161</td>\n",
       "      <td>65.0</td>\n",
       "      <td>17.230880</td>\n",
       "    </tr>\n",
       "    <tr>\n",
       "      <th>6</th>\n",
       "      <td>2668</td>\n",
       "      <td>88.933333</td>\n",
       "      <td>85.0</td>\n",
       "      <td>48.731448</td>\n",
       "    </tr>\n",
       "    <tr>\n",
       "      <th>7</th>\n",
       "      <td>3312</td>\n",
       "      <td>106.838710</td>\n",
       "      <td>110.0</td>\n",
       "      <td>25.300984</td>\n",
       "    </tr>\n",
       "    <tr>\n",
       "      <th>8</th>\n",
       "      <td>1539</td>\n",
       "      <td>139.909091</td>\n",
       "      <td>124.0</td>\n",
       "      <td>39.404199</td>\n",
       "    </tr>\n",
       "    <tr>\n",
       "      <th rowspan=\"12\" valign=\"top\">San Francisco, CA</th>\n",
       "      <th>1</th>\n",
       "      <td>438734</td>\n",
       "      <td>7076.354839</td>\n",
       "      <td>6529.0</td>\n",
       "      <td>2059.704086</td>\n",
       "    </tr>\n",
       "    <tr>\n",
       "      <th>2</th>\n",
       "      <td>451326</td>\n",
       "      <td>8059.392857</td>\n",
       "      <td>7628.0</td>\n",
       "      <td>2299.911585</td>\n",
       "    </tr>\n",
       "    <tr>\n",
       "      <th>3</th>\n",
       "      <td>500681</td>\n",
       "      <td>8075.500000</td>\n",
       "      <td>7344.5</td>\n",
       "      <td>1964.064210</td>\n",
       "    </tr>\n",
       "    <tr>\n",
       "      <th>4</th>\n",
       "      <td>452120</td>\n",
       "      <td>7535.333333</td>\n",
       "      <td>7053.0</td>\n",
       "      <td>1968.986280</td>\n",
       "    </tr>\n",
       "    <tr>\n",
       "      <th>5</th>\n",
       "      <td>411708</td>\n",
       "      <td>6640.451613</td>\n",
       "      <td>6639.0</td>\n",
       "      <td>1719.063829</td>\n",
       "    </tr>\n",
       "    <tr>\n",
       "      <th>6</th>\n",
       "      <td>365044</td>\n",
       "      <td>6084.066667</td>\n",
       "      <td>5934.0</td>\n",
       "      <td>1362.160160</td>\n",
       "    </tr>\n",
       "    <tr>\n",
       "      <th>7</th>\n",
       "      <td>368422</td>\n",
       "      <td>5942.290323</td>\n",
       "      <td>5704.0</td>\n",
       "      <td>1414.841246</td>\n",
       "    </tr>\n",
       "    <tr>\n",
       "      <th>8</th>\n",
       "      <td>256572</td>\n",
       "      <td>6108.857143</td>\n",
       "      <td>6070.0</td>\n",
       "      <td>1268.947779</td>\n",
       "    </tr>\n",
       "    <tr>\n",
       "      <th>9</th>\n",
       "      <td>218531</td>\n",
       "      <td>7284.366667</td>\n",
       "      <td>7306.0</td>\n",
       "      <td>1682.957321</td>\n",
       "    </tr>\n",
       "    <tr>\n",
       "      <th>10</th>\n",
       "      <td>213414</td>\n",
       "      <td>6884.322581</td>\n",
       "      <td>6083.0</td>\n",
       "      <td>1669.502249</td>\n",
       "    </tr>\n",
       "    <tr>\n",
       "      <th>11</th>\n",
       "      <td>230537</td>\n",
       "      <td>7684.566667</td>\n",
       "      <td>6984.5</td>\n",
       "      <td>2086.499323</td>\n",
       "    </tr>\n",
       "    <tr>\n",
       "      <th>12</th>\n",
       "      <td>243579</td>\n",
       "      <td>7857.387097</td>\n",
       "      <td>7040.0</td>\n",
       "      <td>2054.262815</td>\n",
       "    </tr>\n",
       "    <tr>\n",
       "      <th rowspan=\"12\" valign=\"top\">Santa Barbara, CA</th>\n",
       "      <th>1</th>\n",
       "      <td>64843</td>\n",
       "      <td>1045.854839</td>\n",
       "      <td>1038.5</td>\n",
       "      <td>442.021543</td>\n",
       "    </tr>\n",
       "    <tr>\n",
       "      <th>2</th>\n",
       "      <td>77487</td>\n",
       "      <td>1383.696429</td>\n",
       "      <td>1333.0</td>\n",
       "      <td>305.194717</td>\n",
       "    </tr>\n",
       "    <tr>\n",
       "      <th>3</th>\n",
       "      <td>69813</td>\n",
       "      <td>1126.016129</td>\n",
       "      <td>1245.0</td>\n",
       "      <td>454.074324</td>\n",
       "    </tr>\n",
       "    <tr>\n",
       "      <th>4</th>\n",
       "      <td>89529</td>\n",
       "      <td>1492.150000</td>\n",
       "      <td>1408.0</td>\n",
       "      <td>271.037731</td>\n",
       "    </tr>\n",
       "    <tr>\n",
       "      <th>5</th>\n",
       "      <td>35573</td>\n",
       "      <td>573.758065</td>\n",
       "      <td>438.0</td>\n",
       "      <td>324.658998</td>\n",
       "    </tr>\n",
       "    <tr>\n",
       "      <th>6</th>\n",
       "      <td>20901</td>\n",
       "      <td>348.350000</td>\n",
       "      <td>342.5</td>\n",
       "      <td>68.441197</td>\n",
       "    </tr>\n",
       "    <tr>\n",
       "      <th>7</th>\n",
       "      <td>23159</td>\n",
       "      <td>373.532258</td>\n",
       "      <td>337.5</td>\n",
       "      <td>140.165092</td>\n",
       "    </tr>\n",
       "    <tr>\n",
       "      <th>8</th>\n",
       "      <td>20357</td>\n",
       "      <td>484.690476</td>\n",
       "      <td>336.5</td>\n",
       "      <td>315.187168</td>\n",
       "    </tr>\n",
       "    <tr>\n",
       "      <th>9</th>\n",
       "      <td>36189</td>\n",
       "      <td>1206.300000</td>\n",
       "      <td>1117.0</td>\n",
       "      <td>282.348910</td>\n",
       "    </tr>\n",
       "    <tr>\n",
       "      <th>10</th>\n",
       "      <td>36944</td>\n",
       "      <td>1191.741935</td>\n",
       "      <td>1138.0</td>\n",
       "      <td>205.797468</td>\n",
       "    </tr>\n",
       "    <tr>\n",
       "      <th>11</th>\n",
       "      <td>32946</td>\n",
       "      <td>1098.200000</td>\n",
       "      <td>1204.5</td>\n",
       "      <td>486.707474</td>\n",
       "    </tr>\n",
       "    <tr>\n",
       "      <th>12</th>\n",
       "      <td>27880</td>\n",
       "      <td>899.354839</td>\n",
       "      <td>599.0</td>\n",
       "      <td>742.901768</td>\n",
       "    </tr>\n",
       "  </tbody>\n",
       "</table>\n",
       "</div>"
      ],
      "text/plain": [
       "                        order_count                                  \n",
       "                                sum         mean  median          std\n",
       "location_name     month                                              \n",
       "Los Angeles, CA   4             655    34.473684    32.0    22.777592\n",
       "                  5            2004    64.645161    65.0    17.230880\n",
       "                  6            2668    88.933333    85.0    48.731448\n",
       "                  7            3312   106.838710   110.0    25.300984\n",
       "                  8            1539   139.909091   124.0    39.404199\n",
       "San Francisco, CA 1          438734  7076.354839  6529.0  2059.704086\n",
       "                  2          451326  8059.392857  7628.0  2299.911585\n",
       "                  3          500681  8075.500000  7344.5  1964.064210\n",
       "                  4          452120  7535.333333  7053.0  1968.986280\n",
       "                  5          411708  6640.451613  6639.0  1719.063829\n",
       "                  6          365044  6084.066667  5934.0  1362.160160\n",
       "                  7          368422  5942.290323  5704.0  1414.841246\n",
       "                  8          256572  6108.857143  6070.0  1268.947779\n",
       "                  9          218531  7284.366667  7306.0  1682.957321\n",
       "                  10         213414  6884.322581  6083.0  1669.502249\n",
       "                  11         230537  7684.566667  6984.5  2086.499323\n",
       "                  12         243579  7857.387097  7040.0  2054.262815\n",
       "Santa Barbara, CA 1           64843  1045.854839  1038.5   442.021543\n",
       "                  2           77487  1383.696429  1333.0   305.194717\n",
       "                  3           69813  1126.016129  1245.0   454.074324\n",
       "                  4           89529  1492.150000  1408.0   271.037731\n",
       "                  5           35573   573.758065   438.0   324.658998\n",
       "                  6           20901   348.350000   342.5    68.441197\n",
       "                  7           23159   373.532258   337.5   140.165092\n",
       "                  8           20357   484.690476   336.5   315.187168\n",
       "                  9           36189  1206.300000  1117.0   282.348910\n",
       "                  10          36944  1191.741935  1138.0   205.797468\n",
       "                  11          32946  1098.200000  1204.5   486.707474\n",
       "                  12          27880   899.354839   599.0   742.901768"
      ]
     },
     "execution_count": 23,
     "metadata": {},
     "output_type": "execute_result"
    }
   ],
   "source": [
    "df.groupby([\"location_name\", \"month\"]).agg({\"order_count\": [\"sum\", \"mean\", \"median\", \"std\"]})"
   ]
  },
  {
   "cell_type": "code",
   "execution_count": 24,
   "id": "40ace6d9",
   "metadata": {},
   "outputs": [],
   "source": [
    "########################\n",
    "# Lag/Shifted Features\n",
    "########################\n",
    "# Below sort_values() is so important!\n",
    "df.sort_values(by=['location_name', 'date'], axis=0, inplace=True)"
   ]
  },
  {
   "cell_type": "code",
   "execution_count": 25,
   "id": "f27ef743",
   "metadata": {},
   "outputs": [],
   "source": [
    "df = lag_features(df, [7, 14])"
   ]
  },
  {
   "cell_type": "code",
   "execution_count": 26,
   "id": "f15c5c8d",
   "metadata": {},
   "outputs": [
    {
     "name": "stdout",
     "output_type": "stream",
     "text": [
      "##################### Shape #####################\n",
      "(1298, 15)\n",
      "##################### Types #####################\n",
      "location_id                int32\n",
      "location_name             object\n",
      "date              datetime64[ns]\n",
      "order_count                int32\n",
      "month                      int64\n",
      "day_of_month               int64\n",
      "day_of_year                int64\n",
      "week_of_year               int64\n",
      "day_of_week                int64\n",
      "year                       int64\n",
      "is_wknd                    int64\n",
      "is_month_start             int32\n",
      "is_month_end               int32\n",
      "orders_lag_7             float64\n",
      "orders_lag_14            float64\n",
      "dtype: object\n",
      "##################### Head #####################\n",
      "     location_id    location_name       date  order_count  month  day_of_month  day_of_year  week_of_year  day_of_week  year  is_wknd  is_month_start  is_month_end  orders_lag_7  orders_lag_14\n",
      "932          114  Los Angeles, CA 2019-04-12            6      4            12          102            15            4  2019        1               0             0           NaN            NaN\n",
      "935          114  Los Angeles, CA 2019-04-13            0      4            13          103            15            5  2019        1               0             0           NaN            NaN\n",
      "938          114  Los Angeles, CA 2019-04-14            0      4            14          104            15            6  2019        1               0             0           NaN            NaN\n",
      "941          114  Los Angeles, CA 2019-04-15           32      4            15          105            16            0  2019        0               0             0           NaN            NaN\n",
      "944          114  Los Angeles, CA 2019-04-16           11      4            16          106            16            1  2019        0               0             0           NaN            NaN\n",
      "##################### Tail #####################\n",
      "      location_id      location_name       date  order_count  month  day_of_month  day_of_year  week_of_year  day_of_week  year  is_wknd  is_month_start  is_month_end  orders_lag_7  orders_lag_14\n",
      "1285           19  Santa Barbara, CA 2019-08-07          308      8             7          219            32            2  2019        0               0             0    311.290974     356.712281\n",
      "1288           19  Santa Barbara, CA 2019-08-08          299      8             8          220            32            3  2019        0               0             0    256.007450     338.095683\n",
      "1291           19  Santa Barbara, CA 2019-08-09          175      8             9          221            32            4  2019        1               0             0    299.184225     291.156297\n",
      "1294           19  Santa Barbara, CA 2019-08-10          263      8            10          222            32            5  2019        1               0             0    336.419274     461.875822\n",
      "1297           19  Santa Barbara, CA 2019-08-11          341      8            11          223            32            6  2019        1               0             0    338.424384     372.048563\n",
      "##################### NA #####################\n",
      "location_id        0\n",
      "location_name      0\n",
      "date               0\n",
      "order_count        0\n",
      "month              0\n",
      "day_of_month       0\n",
      "day_of_year        0\n",
      "week_of_year       0\n",
      "day_of_week        0\n",
      "year               0\n",
      "is_wknd            0\n",
      "is_month_start     0\n",
      "is_month_end       0\n",
      "orders_lag_7      21\n",
      "orders_lag_14     42\n",
      "dtype: int64\n"
     ]
    }
   ],
   "source": [
    "check_df(df)"
   ]
  },
  {
   "cell_type": "code",
   "execution_count": 27,
   "id": "c6f735ed",
   "metadata": {},
   "outputs": [
    {
     "data": {
      "text/html": [
       "<div>\n",
       "<style scoped>\n",
       "    .dataframe tbody tr th:only-of-type {\n",
       "        vertical-align: middle;\n",
       "    }\n",
       "\n",
       "    .dataframe tbody tr th {\n",
       "        vertical-align: top;\n",
       "    }\n",
       "\n",
       "    .dataframe thead th {\n",
       "        text-align: right;\n",
       "    }\n",
       "</style>\n",
       "<table border=\"1\" class=\"dataframe\">\n",
       "  <thead>\n",
       "    <tr style=\"text-align: right;\">\n",
       "      <th></th>\n",
       "      <th>location_id</th>\n",
       "      <th>location_name</th>\n",
       "      <th>date</th>\n",
       "      <th>order_count</th>\n",
       "      <th>month</th>\n",
       "      <th>day_of_month</th>\n",
       "      <th>day_of_year</th>\n",
       "      <th>week_of_year</th>\n",
       "      <th>day_of_week</th>\n",
       "      <th>year</th>\n",
       "      <th>is_wknd</th>\n",
       "      <th>is_month_start</th>\n",
       "      <th>is_month_end</th>\n",
       "      <th>orders_lag_7</th>\n",
       "      <th>orders_lag_14</th>\n",
       "    </tr>\n",
       "  </thead>\n",
       "  <tbody>\n",
       "    <tr>\n",
       "      <th>932</th>\n",
       "      <td>114</td>\n",
       "      <td>Los Angeles, CA</td>\n",
       "      <td>2019-04-12</td>\n",
       "      <td>6</td>\n",
       "      <td>4</td>\n",
       "      <td>12</td>\n",
       "      <td>102</td>\n",
       "      <td>15</td>\n",
       "      <td>4</td>\n",
       "      <td>2019</td>\n",
       "      <td>1</td>\n",
       "      <td>0</td>\n",
       "      <td>0</td>\n",
       "      <td>NaN</td>\n",
       "      <td>NaN</td>\n",
       "    </tr>\n",
       "    <tr>\n",
       "      <th>935</th>\n",
       "      <td>114</td>\n",
       "      <td>Los Angeles, CA</td>\n",
       "      <td>2019-04-13</td>\n",
       "      <td>0</td>\n",
       "      <td>4</td>\n",
       "      <td>13</td>\n",
       "      <td>103</td>\n",
       "      <td>15</td>\n",
       "      <td>5</td>\n",
       "      <td>2019</td>\n",
       "      <td>1</td>\n",
       "      <td>0</td>\n",
       "      <td>0</td>\n",
       "      <td>NaN</td>\n",
       "      <td>NaN</td>\n",
       "    </tr>\n",
       "    <tr>\n",
       "      <th>938</th>\n",
       "      <td>114</td>\n",
       "      <td>Los Angeles, CA</td>\n",
       "      <td>2019-04-14</td>\n",
       "      <td>0</td>\n",
       "      <td>4</td>\n",
       "      <td>14</td>\n",
       "      <td>104</td>\n",
       "      <td>15</td>\n",
       "      <td>6</td>\n",
       "      <td>2019</td>\n",
       "      <td>1</td>\n",
       "      <td>0</td>\n",
       "      <td>0</td>\n",
       "      <td>NaN</td>\n",
       "      <td>NaN</td>\n",
       "    </tr>\n",
       "    <tr>\n",
       "      <th>941</th>\n",
       "      <td>114</td>\n",
       "      <td>Los Angeles, CA</td>\n",
       "      <td>2019-04-15</td>\n",
       "      <td>32</td>\n",
       "      <td>4</td>\n",
       "      <td>15</td>\n",
       "      <td>105</td>\n",
       "      <td>16</td>\n",
       "      <td>0</td>\n",
       "      <td>2019</td>\n",
       "      <td>0</td>\n",
       "      <td>0</td>\n",
       "      <td>0</td>\n",
       "      <td>NaN</td>\n",
       "      <td>NaN</td>\n",
       "    </tr>\n",
       "    <tr>\n",
       "      <th>944</th>\n",
       "      <td>114</td>\n",
       "      <td>Los Angeles, CA</td>\n",
       "      <td>2019-04-16</td>\n",
       "      <td>11</td>\n",
       "      <td>4</td>\n",
       "      <td>16</td>\n",
       "      <td>106</td>\n",
       "      <td>16</td>\n",
       "      <td>1</td>\n",
       "      <td>2019</td>\n",
       "      <td>0</td>\n",
       "      <td>0</td>\n",
       "      <td>0</td>\n",
       "      <td>NaN</td>\n",
       "      <td>NaN</td>\n",
       "    </tr>\n",
       "  </tbody>\n",
       "</table>\n",
       "</div>"
      ],
      "text/plain": [
       "     location_id    location_name       date  order_count  month  day_of_month  day_of_year  week_of_year  day_of_week  year  is_wknd  is_month_start  is_month_end  orders_lag_7  orders_lag_14\n",
       "932          114  Los Angeles, CA 2019-04-12            6      4            12          102            15            4  2019        1               0             0           NaN            NaN\n",
       "935          114  Los Angeles, CA 2019-04-13            0      4            13          103            15            5  2019        1               0             0           NaN            NaN\n",
       "938          114  Los Angeles, CA 2019-04-14            0      4            14          104            15            6  2019        1               0             0           NaN            NaN\n",
       "941          114  Los Angeles, CA 2019-04-15           32      4            15          105            16            0  2019        0               0             0           NaN            NaN\n",
       "944          114  Los Angeles, CA 2019-04-16           11      4            16          106            16            1  2019        0               0             0           NaN            NaN"
      ]
     },
     "execution_count": 27,
     "metadata": {},
     "output_type": "execute_result"
    }
   ],
   "source": [
    "df.head()"
   ]
  },
  {
   "cell_type": "code",
   "execution_count": 28,
   "id": "5ba32071",
   "metadata": {},
   "outputs": [
    {
     "data": {
      "text/html": [
       "<div>\n",
       "<style scoped>\n",
       "    .dataframe tbody tr th:only-of-type {\n",
       "        vertical-align: middle;\n",
       "    }\n",
       "\n",
       "    .dataframe tbody tr th {\n",
       "        vertical-align: top;\n",
       "    }\n",
       "\n",
       "    .dataframe thead th {\n",
       "        text-align: right;\n",
       "    }\n",
       "</style>\n",
       "<table border=\"1\" class=\"dataframe\">\n",
       "  <thead>\n",
       "    <tr style=\"text-align: right;\">\n",
       "      <th></th>\n",
       "      <th>location_id</th>\n",
       "      <th>location_name</th>\n",
       "      <th>date</th>\n",
       "      <th>order_count</th>\n",
       "      <th>month</th>\n",
       "      <th>day_of_month</th>\n",
       "      <th>day_of_year</th>\n",
       "      <th>week_of_year</th>\n",
       "      <th>day_of_week</th>\n",
       "      <th>year</th>\n",
       "      <th>is_wknd</th>\n",
       "      <th>is_month_start</th>\n",
       "      <th>is_month_end</th>\n",
       "      <th>orders_lag_7</th>\n",
       "      <th>orders_lag_14</th>\n",
       "      <th>orders_roll_mean_14</th>\n",
       "    </tr>\n",
       "  </thead>\n",
       "  <tbody>\n",
       "    <tr>\n",
       "      <th>1285</th>\n",
       "      <td>19</td>\n",
       "      <td>Santa Barbara, CA</td>\n",
       "      <td>2019-08-07</td>\n",
       "      <td>308</td>\n",
       "      <td>8</td>\n",
       "      <td>7</td>\n",
       "      <td>219</td>\n",
       "      <td>32</td>\n",
       "      <td>2</td>\n",
       "      <td>2019</td>\n",
       "      <td>0</td>\n",
       "      <td>0</td>\n",
       "      <td>0</td>\n",
       "      <td>311.290974</td>\n",
       "      <td>356.712281</td>\n",
       "      <td>317.100523</td>\n",
       "    </tr>\n",
       "    <tr>\n",
       "      <th>1288</th>\n",
       "      <td>19</td>\n",
       "      <td>Santa Barbara, CA</td>\n",
       "      <td>2019-08-08</td>\n",
       "      <td>299</td>\n",
       "      <td>8</td>\n",
       "      <td>8</td>\n",
       "      <td>220</td>\n",
       "      <td>32</td>\n",
       "      <td>3</td>\n",
       "      <td>2019</td>\n",
       "      <td>0</td>\n",
       "      <td>0</td>\n",
       "      <td>0</td>\n",
       "      <td>256.007450</td>\n",
       "      <td>338.095683</td>\n",
       "      <td>310.013576</td>\n",
       "    </tr>\n",
       "    <tr>\n",
       "      <th>1291</th>\n",
       "      <td>19</td>\n",
       "      <td>Santa Barbara, CA</td>\n",
       "      <td>2019-08-09</td>\n",
       "      <td>175</td>\n",
       "      <td>8</td>\n",
       "      <td>9</td>\n",
       "      <td>221</td>\n",
       "      <td>32</td>\n",
       "      <td>4</td>\n",
       "      <td>2019</td>\n",
       "      <td>1</td>\n",
       "      <td>0</td>\n",
       "      <td>0</td>\n",
       "      <td>299.184225</td>\n",
       "      <td>291.156297</td>\n",
       "      <td>310.304101</td>\n",
       "    </tr>\n",
       "    <tr>\n",
       "      <th>1294</th>\n",
       "      <td>19</td>\n",
       "      <td>Santa Barbara, CA</td>\n",
       "      <td>2019-08-10</td>\n",
       "      <td>263</td>\n",
       "      <td>8</td>\n",
       "      <td>10</td>\n",
       "      <td>222</td>\n",
       "      <td>32</td>\n",
       "      <td>5</td>\n",
       "      <td>2019</td>\n",
       "      <td>1</td>\n",
       "      <td>0</td>\n",
       "      <td>0</td>\n",
       "      <td>336.419274</td>\n",
       "      <td>461.875822</td>\n",
       "      <td>306.709656</td>\n",
       "    </tr>\n",
       "    <tr>\n",
       "      <th>1297</th>\n",
       "      <td>19</td>\n",
       "      <td>Santa Barbara, CA</td>\n",
       "      <td>2019-08-11</td>\n",
       "      <td>341</td>\n",
       "      <td>8</td>\n",
       "      <td>11</td>\n",
       "      <td>223</td>\n",
       "      <td>32</td>\n",
       "      <td>6</td>\n",
       "      <td>2019</td>\n",
       "      <td>1</td>\n",
       "      <td>0</td>\n",
       "      <td>0</td>\n",
       "      <td>338.424384</td>\n",
       "      <td>372.048563</td>\n",
       "      <td>302.170007</td>\n",
       "    </tr>\n",
       "  </tbody>\n",
       "</table>\n",
       "</div>"
      ],
      "text/plain": [
       "      location_id      location_name       date  order_count  month  day_of_month  day_of_year  week_of_year  day_of_week  year  is_wknd  is_month_start  is_month_end  orders_lag_7  orders_lag_14  orders_roll_mean_14\n",
       "1285           19  Santa Barbara, CA 2019-08-07          308      8             7          219            32            2  2019        0               0             0    311.290974     356.712281           317.100523\n",
       "1288           19  Santa Barbara, CA 2019-08-08          299      8             8          220            32            3  2019        0               0             0    256.007450     338.095683           310.013576\n",
       "1291           19  Santa Barbara, CA 2019-08-09          175      8             9          221            32            4  2019        1               0             0    299.184225     291.156297           310.304101\n",
       "1294           19  Santa Barbara, CA 2019-08-10          263      8            10          222            32            5  2019        1               0             0    336.419274     461.875822           306.709656\n",
       "1297           19  Santa Barbara, CA 2019-08-11          341      8            11          223            32            6  2019        1               0             0    338.424384     372.048563           302.170007"
      ]
     },
     "execution_count": 28,
     "metadata": {},
     "output_type": "execute_result"
    }
   ],
   "source": [
    "########################\n",
    "# Rolling Mean Features\n",
    "########################\n",
    "df = roll_mean_features(df, [14])\n",
    "df.tail()"
   ]
  },
  {
   "cell_type": "code",
   "execution_count": 29,
   "id": "d45b8e06",
   "metadata": {},
   "outputs": [
    {
     "name": "stdout",
     "output_type": "stream",
     "text": [
      "##################### Shape #####################\n",
      "(1298, 21)\n",
      "##################### Types #####################\n",
      "location_id                             int32\n",
      "location_name                          object\n",
      "date                           datetime64[ns]\n",
      "order_count                             int32\n",
      "month                                   int64\n",
      "day_of_month                            int64\n",
      "day_of_year                             int64\n",
      "week_of_year                            int64\n",
      "day_of_week                             int64\n",
      "year                                    int64\n",
      "is_wknd                                 int64\n",
      "is_month_start                          int32\n",
      "is_month_end                            int32\n",
      "orders_lag_7                          float64\n",
      "orders_lag_14                         float64\n",
      "orders_roll_mean_14                   float64\n",
      "orders_ewm_alpha_095_lag_14           float64\n",
      "orders_ewm_alpha_09_lag_14            float64\n",
      "orders_ewm_alpha_08_lag_14            float64\n",
      "orders_ewm_alpha_07_lag_14            float64\n",
      "orders_ewm_alpha_05_lag_14            float64\n",
      "dtype: object\n",
      "##################### Head #####################\n",
      "     location_id    location_name       date  order_count  month  day_of_month  day_of_year  week_of_year  day_of_week  year  is_wknd  is_month_start  is_month_end  orders_lag_7  orders_lag_14  orders_roll_mean_14  orders_ewm_alpha_095_lag_14  orders_ewm_alpha_09_lag_14  orders_ewm_alpha_08_lag_14  orders_ewm_alpha_07_lag_14  orders_ewm_alpha_05_lag_14\n",
      "932          114  Los Angeles, CA 2019-04-12            6      4            12          102            15            4  2019        1               0             0           NaN            NaN                  NaN                          NaN                         NaN                         NaN                         NaN                         NaN\n",
      "935          114  Los Angeles, CA 2019-04-13            0      4            13          103            15            5  2019        1               0             0           NaN            NaN                  NaN                          NaN                         NaN                         NaN                         NaN                         NaN\n",
      "938          114  Los Angeles, CA 2019-04-14            0      4            14          104            15            6  2019        1               0             0           NaN            NaN                  NaN                          NaN                         NaN                         NaN                         NaN                         NaN\n",
      "941          114  Los Angeles, CA 2019-04-15           32      4            15          105            16            0  2019        0               0             0           NaN            NaN                  NaN                          NaN                         NaN                         NaN                         NaN                         NaN\n",
      "944          114  Los Angeles, CA 2019-04-16           11      4            16          106            16            1  2019        0               0             0           NaN            NaN                  NaN                          NaN                         NaN                         NaN                         NaN                         NaN\n",
      "##################### Tail #####################\n",
      "      location_id      location_name       date  order_count  month  day_of_month  day_of_year  week_of_year  day_of_week  year  is_wknd  is_month_start  is_month_end  orders_lag_7  orders_lag_14  orders_roll_mean_14  orders_ewm_alpha_095_lag_14  orders_ewm_alpha_09_lag_14  orders_ewm_alpha_08_lag_14  orders_ewm_alpha_07_lag_14  orders_ewm_alpha_05_lag_14\n",
      "1285           19  Santa Barbara, CA 2019-08-07          308      8             7          219            32            2  2019        0               0             0    311.290974     356.712281           317.100523                   354.920712                  353.704650                  353.865463                  357.188650                  370.341419\n",
      "1288           19  Santa Barbara, CA 2019-08-08          299      8             8          220            32            3  2019        0               0             0    256.007450     338.095683           310.013576                   335.996036                  336.870465                  338.773093                  341.656595                  352.670710\n",
      "1291           19  Santa Barbara, CA 2019-08-09          175      8             9          221            32            4  2019        1               0             0    299.184225     291.156297           310.304101                   294.199802                  296.487046                  301.354619                  306.896979                  322.335355\n",
      "1294           19  Santa Barbara, CA 2019-08-10          263      8            10          222            32            5  2019        1               0             0    336.419274     461.875822           306.709656                   451.709990                  443.648705                  428.270924                  414.069094                  391.167677\n",
      "1297           19  Santa Barbara, CA 2019-08-11          341      8            11          223            32            6  2019        1               0             0    338.424384     372.048563           302.170007                   375.035500                  378.264870                  382.454185                  383.920728                  381.083839\n",
      "##################### NA #####################\n",
      "location_id                     0\n",
      "location_name                   0\n",
      "date                            0\n",
      "order_count                     0\n",
      "month                           0\n",
      "day_of_month                    0\n",
      "day_of_year                     0\n",
      "week_of_year                    0\n",
      "day_of_week                     0\n",
      "year                            0\n",
      "is_wknd                         0\n",
      "is_month_start                  0\n",
      "is_month_end                    0\n",
      "orders_lag_7                   21\n",
      "orders_lag_14                  42\n",
      "orders_roll_mean_14            30\n",
      "orders_ewm_alpha_095_lag_14    42\n",
      "orders_ewm_alpha_09_lag_14     42\n",
      "orders_ewm_alpha_08_lag_14     42\n",
      "orders_ewm_alpha_07_lag_14     42\n",
      "orders_ewm_alpha_05_lag_14     42\n",
      "dtype: int64\n"
     ]
    }
   ],
   "source": [
    "########################\n",
    "# Exponentially Weighted Mean Features\n",
    "########################\n",
    "alphas = [0.95, 0.9, 0.8, 0.7, 0.5]\n",
    "lags = [14]\n",
    "\n",
    "df = ewm_features(df, alphas, lags)\n",
    "\n",
    "check_df(df)"
   ]
  },
  {
   "cell_type": "code",
   "execution_count": 30,
   "id": "c1fe46f7",
   "metadata": {},
   "outputs": [
    {
     "data": {
      "text/html": [
       "<div>\n",
       "<style scoped>\n",
       "    .dataframe tbody tr th:only-of-type {\n",
       "        vertical-align: middle;\n",
       "    }\n",
       "\n",
       "    .dataframe tbody tr th {\n",
       "        vertical-align: top;\n",
       "    }\n",
       "\n",
       "    .dataframe thead th {\n",
       "        text-align: right;\n",
       "    }\n",
       "</style>\n",
       "<table border=\"1\" class=\"dataframe\">\n",
       "  <thead>\n",
       "    <tr style=\"text-align: right;\">\n",
       "      <th></th>\n",
       "      <th>location_id</th>\n",
       "      <th>location_name</th>\n",
       "      <th>date</th>\n",
       "      <th>order_count</th>\n",
       "      <th>month</th>\n",
       "      <th>day_of_month</th>\n",
       "      <th>day_of_year</th>\n",
       "      <th>week_of_year</th>\n",
       "      <th>day_of_week</th>\n",
       "      <th>year</th>\n",
       "      <th>is_wknd</th>\n",
       "      <th>is_month_start</th>\n",
       "      <th>is_month_end</th>\n",
       "      <th>orders_lag_7</th>\n",
       "      <th>orders_lag_14</th>\n",
       "      <th>orders_roll_mean_14</th>\n",
       "      <th>orders_ewm_alpha_095_lag_14</th>\n",
       "      <th>orders_ewm_alpha_09_lag_14</th>\n",
       "      <th>orders_ewm_alpha_08_lag_14</th>\n",
       "      <th>orders_ewm_alpha_07_lag_14</th>\n",
       "      <th>orders_ewm_alpha_05_lag_14</th>\n",
       "    </tr>\n",
       "  </thead>\n",
       "  <tbody>\n",
       "    <tr>\n",
       "      <th>932</th>\n",
       "      <td>114</td>\n",
       "      <td>Los Angeles, CA</td>\n",
       "      <td>2019-04-12</td>\n",
       "      <td>6</td>\n",
       "      <td>4</td>\n",
       "      <td>12</td>\n",
       "      <td>102</td>\n",
       "      <td>15</td>\n",
       "      <td>4</td>\n",
       "      <td>2019</td>\n",
       "      <td>1</td>\n",
       "      <td>0</td>\n",
       "      <td>0</td>\n",
       "      <td>NaN</td>\n",
       "      <td>NaN</td>\n",
       "      <td>NaN</td>\n",
       "      <td>NaN</td>\n",
       "      <td>NaN</td>\n",
       "      <td>NaN</td>\n",
       "      <td>NaN</td>\n",
       "      <td>NaN</td>\n",
       "    </tr>\n",
       "    <tr>\n",
       "      <th>935</th>\n",
       "      <td>114</td>\n",
       "      <td>Los Angeles, CA</td>\n",
       "      <td>2019-04-13</td>\n",
       "      <td>0</td>\n",
       "      <td>4</td>\n",
       "      <td>13</td>\n",
       "      <td>103</td>\n",
       "      <td>15</td>\n",
       "      <td>5</td>\n",
       "      <td>2019</td>\n",
       "      <td>1</td>\n",
       "      <td>0</td>\n",
       "      <td>0</td>\n",
       "      <td>NaN</td>\n",
       "      <td>NaN</td>\n",
       "      <td>NaN</td>\n",
       "      <td>NaN</td>\n",
       "      <td>NaN</td>\n",
       "      <td>NaN</td>\n",
       "      <td>NaN</td>\n",
       "      <td>NaN</td>\n",
       "    </tr>\n",
       "    <tr>\n",
       "      <th>938</th>\n",
       "      <td>114</td>\n",
       "      <td>Los Angeles, CA</td>\n",
       "      <td>2019-04-14</td>\n",
       "      <td>0</td>\n",
       "      <td>4</td>\n",
       "      <td>14</td>\n",
       "      <td>104</td>\n",
       "      <td>15</td>\n",
       "      <td>6</td>\n",
       "      <td>2019</td>\n",
       "      <td>1</td>\n",
       "      <td>0</td>\n",
       "      <td>0</td>\n",
       "      <td>NaN</td>\n",
       "      <td>NaN</td>\n",
       "      <td>NaN</td>\n",
       "      <td>NaN</td>\n",
       "      <td>NaN</td>\n",
       "      <td>NaN</td>\n",
       "      <td>NaN</td>\n",
       "      <td>NaN</td>\n",
       "    </tr>\n",
       "    <tr>\n",
       "      <th>941</th>\n",
       "      <td>114</td>\n",
       "      <td>Los Angeles, CA</td>\n",
       "      <td>2019-04-15</td>\n",
       "      <td>32</td>\n",
       "      <td>4</td>\n",
       "      <td>15</td>\n",
       "      <td>105</td>\n",
       "      <td>16</td>\n",
       "      <td>0</td>\n",
       "      <td>2019</td>\n",
       "      <td>0</td>\n",
       "      <td>0</td>\n",
       "      <td>0</td>\n",
       "      <td>NaN</td>\n",
       "      <td>NaN</td>\n",
       "      <td>NaN</td>\n",
       "      <td>NaN</td>\n",
       "      <td>NaN</td>\n",
       "      <td>NaN</td>\n",
       "      <td>NaN</td>\n",
       "      <td>NaN</td>\n",
       "    </tr>\n",
       "    <tr>\n",
       "      <th>944</th>\n",
       "      <td>114</td>\n",
       "      <td>Los Angeles, CA</td>\n",
       "      <td>2019-04-16</td>\n",
       "      <td>11</td>\n",
       "      <td>4</td>\n",
       "      <td>16</td>\n",
       "      <td>106</td>\n",
       "      <td>16</td>\n",
       "      <td>1</td>\n",
       "      <td>2019</td>\n",
       "      <td>0</td>\n",
       "      <td>0</td>\n",
       "      <td>0</td>\n",
       "      <td>NaN</td>\n",
       "      <td>NaN</td>\n",
       "      <td>NaN</td>\n",
       "      <td>NaN</td>\n",
       "      <td>NaN</td>\n",
       "      <td>NaN</td>\n",
       "      <td>NaN</td>\n",
       "      <td>NaN</td>\n",
       "    </tr>\n",
       "  </tbody>\n",
       "</table>\n",
       "</div>"
      ],
      "text/plain": [
       "     location_id    location_name       date  order_count  month  day_of_month  day_of_year  week_of_year  day_of_week  year  is_wknd  is_month_start  is_month_end  orders_lag_7  orders_lag_14  orders_roll_mean_14  orders_ewm_alpha_095_lag_14  orders_ewm_alpha_09_lag_14  orders_ewm_alpha_08_lag_14  orders_ewm_alpha_07_lag_14  orders_ewm_alpha_05_lag_14\n",
       "932          114  Los Angeles, CA 2019-04-12            6      4            12          102            15            4  2019        1               0             0           NaN            NaN                  NaN                          NaN                         NaN                         NaN                         NaN                         NaN\n",
       "935          114  Los Angeles, CA 2019-04-13            0      4            13          103            15            5  2019        1               0             0           NaN            NaN                  NaN                          NaN                         NaN                         NaN                         NaN                         NaN\n",
       "938          114  Los Angeles, CA 2019-04-14            0      4            14          104            15            6  2019        1               0             0           NaN            NaN                  NaN                          NaN                         NaN                         NaN                         NaN                         NaN\n",
       "941          114  Los Angeles, CA 2019-04-15           32      4            15          105            16            0  2019        0               0             0           NaN            NaN                  NaN                          NaN                         NaN                         NaN                         NaN                         NaN\n",
       "944          114  Los Angeles, CA 2019-04-16           11      4            16          106            16            1  2019        0               0             0           NaN            NaN                  NaN                          NaN                         NaN                         NaN                         NaN                         NaN"
      ]
     },
     "execution_count": 30,
     "metadata": {},
     "output_type": "execute_result"
    }
   ],
   "source": [
    "df.head()"
   ]
  },
  {
   "cell_type": "code",
   "execution_count": 31,
   "id": "e0543012",
   "metadata": {},
   "outputs": [],
   "source": [
    "## Train Validation Split"
   ]
  },
  {
   "cell_type": "code",
   "execution_count": 32,
   "id": "fe865395",
   "metadata": {},
   "outputs": [],
   "source": [
    "########################\n",
    "# Time-Based Validation Sets\n",
    "########################\n",
    "train = df.loc[(df[\"date\"] < \"2016-06-11\"), :]\n",
    "\n",
    "# Validation set including first 3 months of 2017 (as we will forecast the first 3 months of 2018)\n",
    "val = df.loc[(df[\"date\"] >= \"2016-06-11\") & (df[\"date\"] <= \"2019-08-11\"), :]"
   ]
  },
  {
   "cell_type": "code",
   "execution_count": 33,
   "id": "be5bdeab",
   "metadata": {},
   "outputs": [],
   "source": [
    "cols = [col for col in df.columns if col not in ['date', 'location_name', \"order_count\"]]"
   ]
  },
  {
   "cell_type": "code",
   "execution_count": 34,
   "id": "16a165c5",
   "metadata": {},
   "outputs": [],
   "source": [
    "# Define dependent variable and independent variables \n",
    "Y_train = df['order_count']\n",
    "X_train = df[cols]\n",
    "\n",
    "Y_val = df['order_count']\n",
    "X_val = df[cols]"
   ]
  },
  {
   "cell_type": "code",
   "execution_count": 35,
   "id": "66aafbfe",
   "metadata": {},
   "outputs": [
    {
     "data": {
      "text/plain": [
       "((1298,), (1298, 18), (1298,), (1298, 18))"
      ]
     },
     "execution_count": 35,
     "metadata": {},
     "output_type": "execute_result"
    }
   ],
   "source": [
    "Y_train.shape, X_train.shape, Y_val.shape, X_val.shape"
   ]
  },
  {
   "cell_type": "markdown",
   "id": "00f922a9",
   "metadata": {},
   "source": [
    "### XGBoost Regressor"
   ]
  },
  {
   "cell_type": "code",
   "execution_count": 39,
   "id": "12a6dac0",
   "metadata": {},
   "outputs": [
    {
     "name": "stdout",
     "output_type": "stream",
     "text": [
      "Collecting xgboost\n",
      "  Downloading xgboost-1.5.0-py3-none-win_amd64.whl (106.6 MB)\n",
      "Requirement already satisfied: scipy in c:\\users\\adhar\\anaconda3\\envs\\time_series\\lib\\site-packages (from xgboost) (1.7.1)\n",
      "Requirement already satisfied: numpy in c:\\users\\adhar\\anaconda3\\envs\\time_series\\lib\\site-packages (from xgboost) (1.21.1)\n",
      "Installing collected packages: xgboost\n",
      "Successfully installed xgboost-1.5.0\n"
     ]
    }
   ],
   "source": [
    "# !pip install xgboost"
   ]
  },
  {
   "cell_type": "code",
   "execution_count": 40,
   "id": "14c889c8",
   "metadata": {},
   "outputs": [],
   "source": [
    "from sklearn.model_selection import GridSearchCV\n",
    "from xgboost.sklearn import XGBRegressor"
   ]
  },
  {
   "cell_type": "code",
   "execution_count": 46,
   "id": "04530413",
   "metadata": {},
   "outputs": [],
   "source": [
    "xgb1 = XGBRegressor()\n",
    "parameters = {'nthread':[4], #when use hyperthread, xgboost may become slower\n",
    "              'objective':['reg:squarederror'],\n",
    "              'learning_rate': [.03, 0.05, .07], #so called `eta` value\n",
    "              'max_depth': [5, 6, 7],\n",
    "              'min_child_weight': [4],\n",
    "              'subsample': [0.7],\n",
    "              'colsample_bytree': [0.7],\n",
    "              'n_estimators': [500]}"
   ]
  },
  {
   "cell_type": "code",
   "execution_count": 47,
   "id": "fedc4e27",
   "metadata": {},
   "outputs": [],
   "source": [
    "xgb_grid = GridSearchCV(xgb1,\n",
    "                        parameters,\n",
    "                        cv = 2,\n",
    "                        n_jobs = 5,\n",
    "                        verbose=True)"
   ]
  },
  {
   "cell_type": "code",
   "execution_count": 48,
   "id": "dbd74367",
   "metadata": {},
   "outputs": [
    {
     "name": "stdout",
     "output_type": "stream",
     "text": [
      "Fitting 2 folds for each of 9 candidates, totalling 18 fits\n"
     ]
    },
    {
     "data": {
      "text/plain": [
       "GridSearchCV(cv=2,\n",
       "             estimator=XGBRegressor(base_score=None, booster=None,\n",
       "                                    colsample_bylevel=None,\n",
       "                                    colsample_bynode=None,\n",
       "                                    colsample_bytree=None,\n",
       "                                    enable_categorical=False, gamma=None,\n",
       "                                    gpu_id=None, importance_type=None,\n",
       "                                    interaction_constraints=None,\n",
       "                                    learning_rate=None, max_delta_step=None,\n",
       "                                    max_depth=None, min_child_weight=None,\n",
       "                                    missing=nan, monotone_constraints=None,\n",
       "                                    n...\n",
       "                                    random_state=None, reg_alpha=None,\n",
       "                                    reg_lambda=None, scale_pos_weight=None,\n",
       "                                    subsample=None, tree_method=None,\n",
       "                                    validate_parameters=None, verbosity=None),\n",
       "             n_jobs=5,\n",
       "             param_grid={'colsample_bytree': [0.7],\n",
       "                         'learning_rate': [0.03, 0.05, 0.07],\n",
       "                         'max_depth': [5, 6, 7], 'min_child_weight': [4],\n",
       "                         'n_estimators': [500], 'nthread': [4],\n",
       "                         'objective': ['reg:squarederror'],\n",
       "                         'subsample': [0.7]},\n",
       "             verbose=True)"
      ]
     },
     "execution_count": 48,
     "metadata": {},
     "output_type": "execute_result"
    }
   ],
   "source": [
    "xgb_grid.fit(X_train,\n",
    "         Y_train)"
   ]
  },
  {
   "cell_type": "code",
   "execution_count": 49,
   "id": "096739e9",
   "metadata": {
    "scrolled": true
   },
   "outputs": [
    {
     "name": "stdout",
     "output_type": "stream",
     "text": [
      "-0.5929594521312692\n",
      "{'colsample_bytree': 0.7, 'learning_rate': 0.03, 'max_depth': 6, 'min_child_weight': 4, 'n_estimators': 500, 'nthread': 4, 'objective': 'reg:squarederror', 'subsample': 0.7}\n"
     ]
    }
   ],
   "source": [
    "print(xgb_grid.best_score_)\n",
    "print(xgb_grid.best_params_)"
   ]
  },
  {
   "cell_type": "code",
   "execution_count": 51,
   "id": "c10c3e0a",
   "metadata": {},
   "outputs": [],
   "source": [
    "preds = xgb_grid.predict(X_val)"
   ]
  },
  {
   "cell_type": "code",
   "execution_count": 52,
   "id": "a24098cf",
   "metadata": {},
   "outputs": [
    {
     "data": {
      "text/plain": [
       "array([  7.077799,  35.29954 ,  21.454117, ..., 284.75903 , 340.24887 ,\n",
       "       363.48187 ], dtype=float32)"
      ]
     },
     "execution_count": 52,
     "metadata": {},
     "output_type": "execute_result"
    }
   ],
   "source": [
    "preds"
   ]
  },
  {
   "cell_type": "code",
   "execution_count": 53,
   "id": "b8089acd",
   "metadata": {},
   "outputs": [
    {
     "data": {
      "text/plain": [
       "932       6\n",
       "935       0\n",
       "938       0\n",
       "941      32\n",
       "944      11\n",
       "       ... \n",
       "1285    308\n",
       "1288    299\n",
       "1291    175\n",
       "1294    263\n",
       "1297    341\n",
       "Name: order_count, Length: 1298, dtype: int32"
      ]
     },
     "execution_count": 53,
     "metadata": {},
     "output_type": "execute_result"
    }
   ],
   "source": [
    "Y_val"
   ]
  },
  {
   "cell_type": "code",
   "execution_count": 54,
   "id": "82adb67c",
   "metadata": {},
   "outputs": [
    {
     "data": {
      "text/plain": [
       "[<matplotlib.lines.Line2D at 0x2248b7ce880>]"
      ]
     },
     "execution_count": 54,
     "metadata": {},
     "output_type": "execute_result"
    },
    {
     "data": {
      "image/png": "[encoded data removed]",
      "text/plain": [
       "<Figure size 432x288 with 1 Axes>"
      ]
     },
     "metadata": {
      "needs_background": "light"
     },
     "output_type": "display_data"
    }
   ],
   "source": [
    "plt.plot(preds)"
   ]
  },
  {
   "cell_type": "code",
   "execution_count": 55,
   "id": "1422f35a",
   "metadata": {},
   "outputs": [
    {
     "data": {
      "text/plain": [
       "[<matplotlib.lines.Line2D at 0x2248b8d5340>]"
      ]
     },
     "execution_count": 55,
     "metadata": {},
     "output_type": "execute_result"
    },
    {
     "data": {
      "image/png": "[encoded data removed]",
      "text/plain": [
       "<Figure size 432x288 with 1 Axes>"
      ]
     },
     "metadata": {
      "needs_background": "light"
     },
     "output_type": "display_data"
    }
   ],
   "source": [
    "plt.plot(Y_val)"
   ]
  },
  {
   "cell_type": "code",
   "execution_count": null,
   "id": "90b48ef3",
   "metadata": {},
   "outputs": [],
   "source": [
    "from sklearn.metrics import r2_score\n"
   ]
  }
 ],
 "metadata": {
  "kernelspec": {
   "display_name": "time_series",
   "language": "python",
   "name": "time_series"
  },
  "language_info": {
   "codemirror_mode": {
    "name": "ipython",
    "version": 3
   },
   "file_extension": ".py",
   "mimetype": "text/x-python",
   "name": "python",
   "nbconvert_exporter": "python",
   "pygments_lexer": "ipython3",
   "version": "3.8.5"
  }
 },
 "nbformat": 4,
 "nbformat_minor": 5
}
