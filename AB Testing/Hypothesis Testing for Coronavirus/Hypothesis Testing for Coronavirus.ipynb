{
 "cells": [
  {
   "cell_type": "markdown",
   "id": "d92de8ca",
   "metadata": {},
   "source": [
    "Let’s implement the Two-Sample Z test for a coronavirus dataset. Let’s put our theoretical knowledge into practice and see how well we can do. You can download the dataset [here](https://drive.google.com/file/d/1IJija1WXjC6gDtVAczyTsvSOmLe3iu6Y/view.)"
   ]
  },
  {
   "cell_type": "markdown",
   "id": "5a48711b",
   "metadata": {},
   "source": [
    "This dataset has been taken from John Hopkin’s repository and you can find the link [here](https://github.com/CSSEGISandData/COVID-19/tree/master/csse_covid_19_data/csse_covid_19_daily_reports) for it."
   ]
  },
  {
   "cell_type": "markdown",
   "id": "24822e83",
   "metadata": {},
   "source": [
    "**This dataset here the below features:**\n",
    "\n",
    "- Province/State\n",
    "- Country/Region\n",
    "- Last Update\n",
    "- Confirmed\n",
    "- Deaths\n",
    "- Recovered\n",
    "- Latitude\n",
    "- Longitude"
   ]
  },
  {
   "cell_type": "markdown",
   "id": "15f0a3b3",
   "metadata": {},
   "source": [
    "And we have added the feature of Temperature and Humidity for Latitude and Longitude using Python’s Weather API – Pyweatherbit. A common perception about COVID-19 is that Warm Climate is more resistant to the corona outbreak and we need to verify this using Hypothesis Testing"
   ]
  },
  {
   "cell_type": "markdown",
   "id": "cc912c63",
   "metadata": {},
   "source": [
    "### Hypothesis Declaration"
   ]
  },
  {
   "cell_type": "markdown",
   "id": "7c0ec517",
   "metadata": {},
   "source": [
    "- Null Hypothesis: Temperature doesn’t affect COV-19 Outbreak\n",
    "- Alternate Hypothesis: Temperature does affect COV-19 Outbreak"
   ]
  },
  {
   "cell_type": "markdown",
   "id": "798e0b1a",
   "metadata": {},
   "source": [
    "***We are considering Temperature below 24 as Cold Climate and above 24 as Hot Climate in our dataset.***"
   ]
  },
  {
   "cell_type": "code",
   "execution_count": 1,
   "id": "4a9020c1",
   "metadata": {},
   "outputs": [],
   "source": [
    "import pandas as pd\n",
    "import numpy as np\n",
    "corona = pd.read_csv('./data/Corona_Updated.csv')"
   ]
  },
  {
   "cell_type": "code",
   "execution_count": 2,
   "id": "9ed27139",
   "metadata": {},
   "outputs": [],
   "source": [
    "corona['Temp_Cat'] = corona['Temprature'].apply(lambda x : 0 if x < 24 else 1)\n",
    "corona_t = corona[['Confirmed', 'Temp_Cat']]"
   ]
  },
  {
   "cell_type": "code",
   "execution_count": 3,
   "id": "1bead1ab",
   "metadata": {},
   "outputs": [
    {
     "data": {
      "text/html": [
       "<div>\n",
       "<style scoped>\n",
       "    .dataframe tbody tr th:only-of-type {\n",
       "        vertical-align: middle;\n",
       "    }\n",
       "\n",
       "    .dataframe tbody tr th {\n",
       "        vertical-align: top;\n",
       "    }\n",
       "\n",
       "    .dataframe thead th {\n",
       "        text-align: right;\n",
       "    }\n",
       "</style>\n",
       "<table border=\"1\" class=\"dataframe\">\n",
       "  <thead>\n",
       "    <tr style=\"text-align: right;\">\n",
       "      <th></th>\n",
       "      <th>Confirmed</th>\n",
       "      <th>Temp_Cat</th>\n",
       "    </tr>\n",
       "  </thead>\n",
       "  <tbody>\n",
       "    <tr>\n",
       "      <th>0</th>\n",
       "      <td>67760</td>\n",
       "      <td>0</td>\n",
       "    </tr>\n",
       "    <tr>\n",
       "      <th>1</th>\n",
       "      <td>10149</td>\n",
       "      <td>0</td>\n",
       "    </tr>\n",
       "    <tr>\n",
       "      <th>2</th>\n",
       "      <td>8042</td>\n",
       "      <td>0</td>\n",
       "    </tr>\n",
       "    <tr>\n",
       "      <th>3</th>\n",
       "      <td>7513</td>\n",
       "      <td>0</td>\n",
       "    </tr>\n",
       "    <tr>\n",
       "      <th>4</th>\n",
       "      <td>1784</td>\n",
       "      <td>0</td>\n",
       "    </tr>\n",
       "  </tbody>\n",
       "</table>\n",
       "</div>"
      ],
      "text/plain": [
       "   Confirmed  Temp_Cat\n",
       "0      67760         0\n",
       "1      10149         0\n",
       "2       8042         0\n",
       "3       7513         0\n",
       "4       1784         0"
      ]
     },
     "execution_count": 3,
     "metadata": {},
     "output_type": "execute_result"
    }
   ],
   "source": [
    "corona_t.head()"
   ]
  },
  {
   "cell_type": "markdown",
   "id": "c90e6ee6",
   "metadata": {},
   "source": [
    "### Z-test "
   ]
  },
  {
   "cell_type": "code",
   "execution_count": 10,
   "id": "e0803e89",
   "metadata": {},
   "outputs": [],
   "source": [
    "def TwoSampZ(X1, X2, sigma1, sigma2, N1, N2):\n",
    "    from numpy import sqrt, abs, round\n",
    "    from scipy.stats import norm\n",
    "    ovr_sigma = sqrt(sigma1**2/N1 + sigma2**2/N2)\n",
    "    z = (X1 - X2)/ovr_sigma\n",
    "    pval = 2*(1 - norm.cdf(abs(z)))\n",
    "    return z, pval"
   ]
  },
  {
   "cell_type": "code",
   "execution_count": 11,
   "id": "82c005e8",
   "metadata": {},
   "outputs": [],
   "source": [
    "d1 = corona_t[(corona_t['Temp_Cat']==1)]['Confirmed']\n",
    "d2 = corona_t[(corona_t['Temp_Cat']==0)]['Confirmed']"
   ]
  },
  {
   "cell_type": "code",
   "execution_count": 12,
   "id": "a928cc9a",
   "metadata": {},
   "outputs": [],
   "source": [
    "m1, m2 = d1.mean(), d2.mean()\n",
    "sd1, sd2 = d1.std(), d2.std()\n",
    "n1, n2 = d1.shape[0], d2.shape[0]"
   ]
  },
  {
   "cell_type": "code",
   "execution_count": 13,
   "id": "8ff6bbf9",
   "metadata": {},
   "outputs": [
    {
     "name": "stdout",
     "output_type": "stream",
     "text": [
      "26.548387096774192\n",
      "672.9085714285715\n",
      "45.93969867095881\n",
      "5228.628797929271\n",
      "31\n",
      "175\n"
     ]
    }
   ],
   "source": [
    "print(m1)\n",
    "print(m2)\n",
    "print(sd1)\n",
    "print(sd2)\n",
    "print(n1)\n",
    "print(n2)"
   ]
  },
  {
   "cell_type": "code",
   "execution_count": 14,
   "id": "0520bea5",
   "metadata": {},
   "outputs": [],
   "source": [
    "z, p = TwoSampZ(m1, m2, sd1, sd2, n1, n2)"
   ]
  },
  {
   "cell_type": "code",
   "execution_count": 15,
   "id": "dbe71d0b",
   "metadata": {},
   "outputs": [],
   "source": [
    "z_score = np.round(z,8)\n",
    "p_val = np.round(p,6)"
   ]
  },
  {
   "cell_type": "code",
   "execution_count": 17,
   "id": "9d8ef09b",
   "metadata": {},
   "outputs": [
    {
     "name": "stdout",
     "output_type": "stream",
     "text": [
      "-1.63497531\n",
      "0.102054\n"
     ]
    }
   ],
   "source": [
    "print(z_score)\n",
    "print(p_val)"
   ]
  },
  {
   "cell_type": "code",
   "execution_count": 18,
   "id": "eb725010",
   "metadata": {},
   "outputs": [],
   "source": [
    "if (p_val<0.05):\n",
    "    Hypothesis_Status = 'Reject Null Hypothesis : Significant'\n",
    "else:\n",
    "    Hypothesis_Status = 'Do not reject Null Hypothesis : Not Significant'"
   ]
  },
  {
   "cell_type": "code",
   "execution_count": 19,
   "id": "50d9e448",
   "metadata": {},
   "outputs": [
    {
     "name": "stdout",
     "output_type": "stream",
     "text": [
      "0.102054\n",
      "Do not reject Null Hypothesis : Not Significant\n"
     ]
    }
   ],
   "source": [
    "print (p_val)\n",
    "print (Hypothesis_Status)"
   ]
  },
  {
   "cell_type": "markdown",
   "id": "ff713df6",
   "metadata": {},
   "source": [
    "Thus. we do not have evidence to reject our Null Hypothesis that temperature doesn’t affect the COV-19 outbreak."
   ]
  },
  {
   "cell_type": "code",
   "execution_count": null,
   "id": "f6358649",
   "metadata": {},
   "outputs": [],
   "source": []
  }
 ],
 "metadata": {
  "kernelspec": {
   "display_name": "time_series",
   "language": "python",
   "name": "time_series"
  },
  "language_info": {
   "codemirror_mode": {
    "name": "ipython",
    "version": 3
   },
   "file_extension": ".py",
   "mimetype": "text/x-python",
   "name": "python",
   "nbconvert_exporter": "python",
   "pygments_lexer": "ipython3",
   "version": "3.8.5"
  }
 },
 "nbformat": 4,
 "nbformat_minor": 5
}
