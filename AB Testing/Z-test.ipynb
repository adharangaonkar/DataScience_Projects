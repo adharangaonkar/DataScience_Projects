{
 "cells": [
  {
   "cell_type": "code",
   "execution_count": 1,
   "id": "90b11e39",
   "metadata": {},
   "outputs": [],
   "source": [
    "import numpy as np\n",
    "from scipy.stats import norm\n",
    "from statsmodels.stats.weightstats import ztest"
   ]
  },
  {
   "cell_type": "code",
   "execution_count": 2,
   "id": "1eecc659",
   "metadata": {},
   "outputs": [],
   "source": [
    "np.random.seed(0)"
   ]
  },
  {
   "cell_type": "code",
   "execution_count": 4,
   "id": "abc3ede7",
   "metadata": {},
   "outputs": [],
   "source": [
    "N = 100\n",
    "mu = 0.2\n",
    "sigma = 1\n",
    "x = np.random.randn(N)*sigma + mu"
   ]
  },
  {
   "cell_type": "code",
   "execution_count": 5,
   "id": "74c055dd",
   "metadata": {},
   "outputs": [
    {
     "data": {
      "text/plain": [
       "(2.711977512474148, 0.0066883130038857316)"
      ]
     },
     "execution_count": 5,
     "metadata": {},
     "output_type": "execute_result"
    }
   ],
   "source": [
    "# two-sided test\n",
    "ztest(x)"
   ]
  },
  {
   "cell_type": "code",
   "execution_count": 6,
   "id": "236989e2",
   "metadata": {},
   "outputs": [
    {
     "data": {
      "text/plain": [
       "(2.7119775124741476, 0.0066883130038857316)"
      ]
     },
     "execution_count": 6,
     "metadata": {},
     "output_type": "execute_result"
    }
   ],
   "source": [
    "# two-sided test\n",
    "mu_hat = x.mean()\n",
    "sigma_hat = x.std(ddof=1)\n",
    "z = mu_hat / (sigma_hat / np.sqrt(N)) # our mu0 = 0\n",
    "p_right = 1 - norm.cdf(np.abs(z))\n",
    "p_left = norm.cdf(-np.abs(z))\n",
    "p = p_right + p_left\n",
    "z, p"
   ]
  },
  {
   "cell_type": "code",
   "execution_count": 7,
   "id": "515e1413",
   "metadata": {},
   "outputs": [
    {
     "data": {
      "text/plain": [
       "(2.711977512474148, 0.0066883130038857316)"
      ]
     },
     "execution_count": 7,
     "metadata": {},
     "output_type": "execute_result"
    }
   ],
   "source": [
    "### Alternate calculation\n",
    "mu_hat = x.mean()\n",
    "v_hat = x.var(ddof=1) / N\n",
    "z = mu_hat / np.sqrt(v_hat) # our mu0 = 0\n",
    "p = 2 * norm.sf(np.abs(z))\n",
    "z, p"
   ]
  },
  {
   "cell_type": "code",
   "execution_count": 8,
   "id": "3eb451f8",
   "metadata": {},
   "outputs": [],
   "source": [
    "# Note: you can use norm.sf instead of 1 - norm.cdf"
   ]
  },
  {
   "cell_type": "code",
   "execution_count": 9,
   "id": "d89c9297",
   "metadata": {},
   "outputs": [
    {
     "data": {
      "text/plain": [
       "(2.711977512474148, 0.0033441565019428658)"
      ]
     },
     "execution_count": 9,
     "metadata": {},
     "output_type": "execute_result"
    }
   ],
   "source": [
    "# one-sided test\n",
    "ztest(x, alternative='larger')"
   ]
  },
  {
   "cell_type": "code",
   "execution_count": 10,
   "id": "18f76f96",
   "metadata": {},
   "outputs": [
    {
     "data": {
      "text/plain": [
       "(2.7119775124741476, 0.003344156501942863)"
      ]
     },
     "execution_count": 10,
     "metadata": {},
     "output_type": "execute_result"
    }
   ],
   "source": [
    "# one-sided test\n",
    "mu_hat = x.mean()\n",
    "sigma_hat = x.std(ddof=1)\n",
    "z = mu_hat / (sigma_hat / np.sqrt(N)) # our mu0 = 0\n",
    "p = 1 - norm.cdf(z)\n",
    "z, p"
   ]
  },
  {
   "cell_type": "code",
   "execution_count": 11,
   "id": "bb3fad4b",
   "metadata": {},
   "outputs": [
    {
     "data": {
      "text/plain": [
       "(0.7886776690076787, 0.43030042290049875)"
      ]
     },
     "execution_count": 11,
     "metadata": {},
     "output_type": "execute_result"
    }
   ],
   "source": [
    "# null under a different reference value\n",
    "mu0 = 0.2\n",
    "ztest(x, value=mu0)"
   ]
  },
  {
   "cell_type": "code",
   "execution_count": 12,
   "id": "e0796fe2",
   "metadata": {},
   "outputs": [
    {
     "data": {
      "text/plain": [
       "(0.7886776690076786, 0.4303004229004989)"
      ]
     },
     "execution_count": 12,
     "metadata": {},
     "output_type": "execute_result"
    }
   ],
   "source": [
    "# null under a different reference value\n",
    "mu_hat = x.mean()\n",
    "sigma_hat = x.std(ddof=1)\n",
    "z = (mu_hat - mu0) / (sigma_hat / np.sqrt(N))\n",
    "p_right = 1 - norm.cdf(np.abs(z))\n",
    "p_left = norm.cdf(-np.abs(z))\n",
    "p = p_right + p_left\n",
    "z, p"
   ]
  },
  {
   "cell_type": "code",
   "execution_count": 13,
   "id": "549beb37",
   "metadata": {},
   "outputs": [],
   "source": [
    "# two-sample test\n",
    "N0 = 100\n",
    "mu0 = 0.2\n",
    "sigma0 = 1\n",
    "x0 = np.random.randn(N)*sigma0 + mu0\n",
    "\n",
    "N1 = 100\n",
    "mu1 = 0.5\n",
    "sigma1 = 1\n",
    "x1 = np.random.randn(N)*sigma1 + mu1"
   ]
  },
  {
   "cell_type": "code",
   "execution_count": 14,
   "id": "1b21fc54",
   "metadata": {},
   "outputs": [
    {
     "data": {
      "text/plain": [
       "(-1.214816943827097, 0.22443591696142684)"
      ]
     },
     "execution_count": 14,
     "metadata": {},
     "output_type": "execute_result"
    }
   ],
   "source": [
    "ztest(x0, x1)"
   ]
  },
  {
   "cell_type": "code",
   "execution_count": 15,
   "id": "5e011f1a",
   "metadata": {},
   "outputs": [
    {
     "data": {
      "text/plain": [
       "(1.214816943827097, 0.2244359169614269)"
      ]
     },
     "execution_count": 15,
     "metadata": {},
     "output_type": "execute_result"
    }
   ],
   "source": [
    "# two-sample test implementation\n",
    "mu_hat0 = x0.mean()\n",
    "mu_hat1 = x1.mean()\n",
    "dmu_hat = mu_hat1 - mu_hat0\n",
    "s2_hat0 = x0.var(ddof=1)\n",
    "s2_hat1 = x1.var(ddof=1)\n",
    "s_hat = np.sqrt(s2_hat0 / N0 + s2_hat1 / N1)\n",
    "z = dmu_hat / s_hat # reference value is 0\n",
    "p_right = 1 - norm.cdf(np.abs(z))\n",
    "p_left = norm.cdf(-np.abs(z))\n",
    "p = p_right + p_left\n",
    "z, p"
   ]
  },
  {
   "cell_type": "code",
   "execution_count": 16,
   "id": "43781a6f",
   "metadata": {},
   "outputs": [
    {
     "name": "stdout",
     "output_type": "stream",
     "text": [
      "0.0527\n"
     ]
    }
   ],
   "source": [
    "# show that we will reject the null hypothesis when the\n",
    "# null hypothesis is true (false alarm) 5% of the time\n",
    "num_tests = 10000\n",
    "results = np.zeros(num_tests)\n",
    "for i in range(num_tests):\n",
    "    x1 = np.random.randn(100)\n",
    "    x2 = np.random.randn(100)\n",
    "    z, p = ztest(x1, x2)\n",
    "    results[i] = (p < 0.05)\n",
    "print(results.mean())"
   ]
  },
  {
   "cell_type": "code",
   "execution_count": null,
   "id": "33244d0a",
   "metadata": {},
   "outputs": [],
   "source": []
  }
 ],
 "metadata": {
  "kernelspec": {
   "display_name": "time_series",
   "language": "python",
   "name": "time_series"
  },
  "language_info": {
   "codemirror_mode": {
    "name": "ipython",
    "version": 3
   },
   "file_extension": ".py",
   "mimetype": "text/x-python",
   "name": "python",
   "nbconvert_exporter": "python",
   "pygments_lexer": "ipython3",
   "version": "3.8.5"
  }
 },
 "nbformat": 4,
 "nbformat_minor": 5
}
